{
 "cells": [
  {
   "cell_type": "markdown",
   "metadata": {},
   "source": [
    "# Ecommerce Data Analysis\n",
    "\n",
    "The \"Ecommerce\" dataset which is downloaded from Kaggle consists of over 540,000 records of data. The data describes about the \n",
    "details of different orders of the products which consists columns like (Country, CustomerID, Unit Price, Quantity..etc.).\n",
    "By using python libraries like pandas,matplotlib,seaborn I performed operations on dataset and plotted graphs from the dataset.\n",
    "With this project I have learned to prepare and clean the data, analyse the data and make the data more understandable by plotting the graphs.  "
   ]
  },
  {
   "cell_type": "markdown",
   "metadata": {},
   "source": [
    "## Downloading the Dataset"
   ]
  },
  {
   "cell_type": "code",
   "execution_count": 1,
   "metadata": {
    "scrolled": true
   },
   "outputs": [
    {
     "name": "stdout",
     "output_type": "stream",
     "text": [
      "Note: you may need to restart the kernel to use updated packages.\n"
     ]
    }
   ],
   "source": [
    "pip install jovian opendatasets --upgrade --quiet"
   ]
  },
  {
   "cell_type": "code",
   "execution_count": 2,
   "metadata": {},
   "outputs": [],
   "source": [
    "\n",
    "dataset_url = 'https://www.kaggle.com/datasets/carrie1/ecommerce-data' "
   ]
  },
  {
   "cell_type": "code",
   "execution_count": 3,
   "metadata": {},
   "outputs": [
    {
     "name": "stdout",
     "output_type": "stream",
     "text": [
      "Skipping, found downloaded files in \".\\ecommerce-data\" (use force=True to force download)\n"
     ]
    }
   ],
   "source": [
    "import opendatasets as od\n",
    "od.download(dataset_url)"
   ]
  },
  {
   "cell_type": "code",
   "execution_count": 4,
   "metadata": {},
   "outputs": [],
   "source": [
    "\n",
    "data_dir = './ecommerce-data'"
   ]
  },
  {
   "cell_type": "markdown",
   "metadata": {},
   "source": [
    "Here, we find out the number of files present in the directory using os module."
   ]
  },
  {
   "cell_type": "code",
   "execution_count": 5,
   "metadata": {},
   "outputs": [
    {
     "data": {
      "text/plain": [
       "['data.csv']"
      ]
     },
     "execution_count": 5,
     "metadata": {},
     "output_type": "execute_result"
    }
   ],
   "source": [
    "import os\n",
    "os.listdir(data_dir)"
   ]
  },
  {
   "cell_type": "code",
   "execution_count": 6,
   "metadata": {},
   "outputs": [],
   "source": [
    "project_name = \"ecommerce data\" # change this (use lowercase letters and hyphens only)"
   ]
  },
  {
   "cell_type": "code",
   "execution_count": 7,
   "metadata": {},
   "outputs": [
    {
     "name": "stdout",
     "output_type": "stream",
     "text": [
      "Note: you may need to restart the kernel to use updated packages.\n"
     ]
    }
   ],
   "source": [
    "pip install jovian --upgrade -q"
   ]
  },
  {
   "cell_type": "code",
   "execution_count": 8,
   "metadata": {},
   "outputs": [],
   "source": [
    "import jovian"
   ]
  },
  {
   "cell_type": "code",
   "execution_count": 9,
   "metadata": {},
   "outputs": [
    {
     "data": {
      "application/javascript": [
       "window.require && require([\"base/js/namespace\"],function(Jupyter){Jupyter.notebook.save_checkpoint()})"
      ],
      "text/plain": [
       "<IPython.core.display.Javascript object>"
      ]
     },
     "metadata": {},
     "output_type": "display_data"
    },
    {
     "name": "stdout",
     "output_type": "stream",
     "text": [
      "[jovian] Updating notebook \"vishalvinayt/ecommerce-data\" on https://jovian.ai/\n",
      "[jovian] Committed successfully! https://jovian.ai/vishalvinayt/ecommerce-data\n"
     ]
    },
    {
     "data": {
      "text/plain": [
       "'https://jovian.ai/vishalvinayt/ecommerce-data'"
      ]
     },
     "execution_count": 9,
     "metadata": {},
     "output_type": "execute_result"
    }
   ],
   "source": [
    "jovian.commit(project=project_name)"
   ]
  },
  {
   "cell_type": "markdown",
   "metadata": {},
   "source": [
    "## Data Preparation and Cleaning\n",
    "\n",
    "**TODO** - \n",
    "1. Familiarize the Dataset.\n",
    "2. Handle the missing data.\n",
    "3. Perform additional steps if requried.\n",
    "\n"
   ]
  },
  {
   "cell_type": "code",
   "execution_count": 10,
   "metadata": {},
   "outputs": [],
   "source": [
    "import pandas"
   ]
  },
  {
   "cell_type": "code",
   "execution_count": 11,
   "metadata": {},
   "outputs": [
    {
     "data": {
      "text/html": [
       "<div>\n",
       "<style scoped>\n",
       "    .dataframe tbody tr th:only-of-type {\n",
       "        vertical-align: middle;\n",
       "    }\n",
       "\n",
       "    .dataframe tbody tr th {\n",
       "        vertical-align: top;\n",
       "    }\n",
       "\n",
       "    .dataframe thead th {\n",
       "        text-align: right;\n",
       "    }\n",
       "</style>\n",
       "<table border=\"1\" class=\"dataframe\">\n",
       "  <thead>\n",
       "    <tr style=\"text-align: right;\">\n",
       "      <th></th>\n",
       "      <th>InvoiceNo</th>\n",
       "      <th>StockCode</th>\n",
       "      <th>Description</th>\n",
       "      <th>Quantity</th>\n",
       "      <th>InvoiceDate</th>\n",
       "      <th>UnitPrice</th>\n",
       "      <th>CustomerID</th>\n",
       "      <th>Country</th>\n",
       "    </tr>\n",
       "  </thead>\n",
       "  <tbody>\n",
       "    <tr>\n",
       "      <th>0</th>\n",
       "      <td>536365</td>\n",
       "      <td>85123A</td>\n",
       "      <td>WHITE HANGING HEART T-LIGHT HOLDER</td>\n",
       "      <td>6</td>\n",
       "      <td>12/1/2010 8:26</td>\n",
       "      <td>2.55</td>\n",
       "      <td>17850.0</td>\n",
       "      <td>United Kingdom</td>\n",
       "    </tr>\n",
       "    <tr>\n",
       "      <th>1</th>\n",
       "      <td>536365</td>\n",
       "      <td>71053</td>\n",
       "      <td>WHITE METAL LANTERN</td>\n",
       "      <td>6</td>\n",
       "      <td>12/1/2010 8:26</td>\n",
       "      <td>3.39</td>\n",
       "      <td>17850.0</td>\n",
       "      <td>United Kingdom</td>\n",
       "    </tr>\n",
       "    <tr>\n",
       "      <th>2</th>\n",
       "      <td>536365</td>\n",
       "      <td>84406B</td>\n",
       "      <td>CREAM CUPID HEARTS COAT HANGER</td>\n",
       "      <td>8</td>\n",
       "      <td>12/1/2010 8:26</td>\n",
       "      <td>2.75</td>\n",
       "      <td>17850.0</td>\n",
       "      <td>United Kingdom</td>\n",
       "    </tr>\n",
       "    <tr>\n",
       "      <th>3</th>\n",
       "      <td>536365</td>\n",
       "      <td>84029G</td>\n",
       "      <td>KNITTED UNION FLAG HOT WATER BOTTLE</td>\n",
       "      <td>6</td>\n",
       "      <td>12/1/2010 8:26</td>\n",
       "      <td>3.39</td>\n",
       "      <td>17850.0</td>\n",
       "      <td>United Kingdom</td>\n",
       "    </tr>\n",
       "    <tr>\n",
       "      <th>4</th>\n",
       "      <td>536365</td>\n",
       "      <td>84029E</td>\n",
       "      <td>RED WOOLLY HOTTIE WHITE HEART.</td>\n",
       "      <td>6</td>\n",
       "      <td>12/1/2010 8:26</td>\n",
       "      <td>3.39</td>\n",
       "      <td>17850.0</td>\n",
       "      <td>United Kingdom</td>\n",
       "    </tr>\n",
       "    <tr>\n",
       "      <th>...</th>\n",
       "      <td>...</td>\n",
       "      <td>...</td>\n",
       "      <td>...</td>\n",
       "      <td>...</td>\n",
       "      <td>...</td>\n",
       "      <td>...</td>\n",
       "      <td>...</td>\n",
       "      <td>...</td>\n",
       "    </tr>\n",
       "    <tr>\n",
       "      <th>541904</th>\n",
       "      <td>581587</td>\n",
       "      <td>22613</td>\n",
       "      <td>PACK OF 20 SPACEBOY NAPKINS</td>\n",
       "      <td>12</td>\n",
       "      <td>12/9/2011 12:50</td>\n",
       "      <td>0.85</td>\n",
       "      <td>12680.0</td>\n",
       "      <td>France</td>\n",
       "    </tr>\n",
       "    <tr>\n",
       "      <th>541905</th>\n",
       "      <td>581587</td>\n",
       "      <td>22899</td>\n",
       "      <td>CHILDREN'S APRON DOLLY GIRL</td>\n",
       "      <td>6</td>\n",
       "      <td>12/9/2011 12:50</td>\n",
       "      <td>2.10</td>\n",
       "      <td>12680.0</td>\n",
       "      <td>France</td>\n",
       "    </tr>\n",
       "    <tr>\n",
       "      <th>541906</th>\n",
       "      <td>581587</td>\n",
       "      <td>23254</td>\n",
       "      <td>CHILDRENS CUTLERY DOLLY GIRL</td>\n",
       "      <td>4</td>\n",
       "      <td>12/9/2011 12:50</td>\n",
       "      <td>4.15</td>\n",
       "      <td>12680.0</td>\n",
       "      <td>France</td>\n",
       "    </tr>\n",
       "    <tr>\n",
       "      <th>541907</th>\n",
       "      <td>581587</td>\n",
       "      <td>23255</td>\n",
       "      <td>CHILDRENS CUTLERY CIRCUS PARADE</td>\n",
       "      <td>4</td>\n",
       "      <td>12/9/2011 12:50</td>\n",
       "      <td>4.15</td>\n",
       "      <td>12680.0</td>\n",
       "      <td>France</td>\n",
       "    </tr>\n",
       "    <tr>\n",
       "      <th>541908</th>\n",
       "      <td>581587</td>\n",
       "      <td>22138</td>\n",
       "      <td>BAKING SET 9 PIECE RETROSPOT</td>\n",
       "      <td>3</td>\n",
       "      <td>12/9/2011 12:50</td>\n",
       "      <td>4.95</td>\n",
       "      <td>12680.0</td>\n",
       "      <td>France</td>\n",
       "    </tr>\n",
       "  </tbody>\n",
       "</table>\n",
       "<p>541909 rows × 8 columns</p>\n",
       "</div>"
      ],
      "text/plain": [
       "       InvoiceNo StockCode                          Description  Quantity  \\\n",
       "0         536365    85123A   WHITE HANGING HEART T-LIGHT HOLDER         6   \n",
       "1         536365     71053                  WHITE METAL LANTERN         6   \n",
       "2         536365    84406B       CREAM CUPID HEARTS COAT HANGER         8   \n",
       "3         536365    84029G  KNITTED UNION FLAG HOT WATER BOTTLE         6   \n",
       "4         536365    84029E       RED WOOLLY HOTTIE WHITE HEART.         6   \n",
       "...          ...       ...                                  ...       ...   \n",
       "541904    581587     22613          PACK OF 20 SPACEBOY NAPKINS        12   \n",
       "541905    581587     22899         CHILDREN'S APRON DOLLY GIRL          6   \n",
       "541906    581587     23254        CHILDRENS CUTLERY DOLLY GIRL          4   \n",
       "541907    581587     23255      CHILDRENS CUTLERY CIRCUS PARADE         4   \n",
       "541908    581587     22138        BAKING SET 9 PIECE RETROSPOT          3   \n",
       "\n",
       "            InvoiceDate  UnitPrice  CustomerID         Country  \n",
       "0        12/1/2010 8:26       2.55     17850.0  United Kingdom  \n",
       "1        12/1/2010 8:26       3.39     17850.0  United Kingdom  \n",
       "2        12/1/2010 8:26       2.75     17850.0  United Kingdom  \n",
       "3        12/1/2010 8:26       3.39     17850.0  United Kingdom  \n",
       "4        12/1/2010 8:26       3.39     17850.0  United Kingdom  \n",
       "...                 ...        ...         ...             ...  \n",
       "541904  12/9/2011 12:50       0.85     12680.0          France  \n",
       "541905  12/9/2011 12:50       2.10     12680.0          France  \n",
       "541906  12/9/2011 12:50       4.15     12680.0          France  \n",
       "541907  12/9/2011 12:50       4.15     12680.0          France  \n",
       "541908  12/9/2011 12:50       4.95     12680.0          France  \n",
       "\n",
       "[541909 rows x 8 columns]"
      ]
     },
     "execution_count": 11,
     "metadata": {},
     "output_type": "execute_result"
    }
   ],
   "source": [
    "df=pandas.read_csv(data_dir+'/data.csv',encoding='unicode_escape')\n",
    "df"
   ]
  },
  {
   "cell_type": "markdown",
   "metadata": {},
   "source": [
    "Getting the basic idea of the DataFrame is important. For that performing the following steps is used get information about the DataFrame."
   ]
  },
  {
   "cell_type": "code",
   "execution_count": 12,
   "metadata": {},
   "outputs": [
    {
     "name": "stdout",
     "output_type": "stream",
     "text": [
      "(541909, 8)\n",
      "Index(['InvoiceNo', 'StockCode', 'Description', 'Quantity', 'InvoiceDate',\n",
      "       'UnitPrice', 'CustomerID', 'Country'],\n",
      "      dtype='object')\n"
     ]
    }
   ],
   "source": [
    "print(df.shape)\n",
    "print(df.columns)"
   ]
  },
  {
   "cell_type": "code",
   "execution_count": 13,
   "metadata": {},
   "outputs": [
    {
     "data": {
      "text/html": [
       "<div>\n",
       "<style scoped>\n",
       "    .dataframe tbody tr th:only-of-type {\n",
       "        vertical-align: middle;\n",
       "    }\n",
       "\n",
       "    .dataframe tbody tr th {\n",
       "        vertical-align: top;\n",
       "    }\n",
       "\n",
       "    .dataframe thead th {\n",
       "        text-align: right;\n",
       "    }\n",
       "</style>\n",
       "<table border=\"1\" class=\"dataframe\">\n",
       "  <thead>\n",
       "    <tr style=\"text-align: right;\">\n",
       "      <th></th>\n",
       "      <th>Quantity</th>\n",
       "      <th>UnitPrice</th>\n",
       "      <th>CustomerID</th>\n",
       "    </tr>\n",
       "  </thead>\n",
       "  <tbody>\n",
       "    <tr>\n",
       "      <th>count</th>\n",
       "      <td>541909.000000</td>\n",
       "      <td>541909.000000</td>\n",
       "      <td>406829.000000</td>\n",
       "    </tr>\n",
       "    <tr>\n",
       "      <th>mean</th>\n",
       "      <td>9.552250</td>\n",
       "      <td>4.611114</td>\n",
       "      <td>15287.690570</td>\n",
       "    </tr>\n",
       "    <tr>\n",
       "      <th>std</th>\n",
       "      <td>218.081158</td>\n",
       "      <td>96.759853</td>\n",
       "      <td>1713.600303</td>\n",
       "    </tr>\n",
       "    <tr>\n",
       "      <th>min</th>\n",
       "      <td>-80995.000000</td>\n",
       "      <td>-11062.060000</td>\n",
       "      <td>12346.000000</td>\n",
       "    </tr>\n",
       "    <tr>\n",
       "      <th>25%</th>\n",
       "      <td>1.000000</td>\n",
       "      <td>1.250000</td>\n",
       "      <td>13953.000000</td>\n",
       "    </tr>\n",
       "    <tr>\n",
       "      <th>50%</th>\n",
       "      <td>3.000000</td>\n",
       "      <td>2.080000</td>\n",
       "      <td>15152.000000</td>\n",
       "    </tr>\n",
       "    <tr>\n",
       "      <th>75%</th>\n",
       "      <td>10.000000</td>\n",
       "      <td>4.130000</td>\n",
       "      <td>16791.000000</td>\n",
       "    </tr>\n",
       "    <tr>\n",
       "      <th>max</th>\n",
       "      <td>80995.000000</td>\n",
       "      <td>38970.000000</td>\n",
       "      <td>18287.000000</td>\n",
       "    </tr>\n",
       "  </tbody>\n",
       "</table>\n",
       "</div>"
      ],
      "text/plain": [
       "            Quantity      UnitPrice     CustomerID\n",
       "count  541909.000000  541909.000000  406829.000000\n",
       "mean        9.552250       4.611114   15287.690570\n",
       "std       218.081158      96.759853    1713.600303\n",
       "min    -80995.000000  -11062.060000   12346.000000\n",
       "25%         1.000000       1.250000   13953.000000\n",
       "50%         3.000000       2.080000   15152.000000\n",
       "75%        10.000000       4.130000   16791.000000\n",
       "max     80995.000000   38970.000000   18287.000000"
      ]
     },
     "execution_count": 13,
     "metadata": {},
     "output_type": "execute_result"
    }
   ],
   "source": [
    "df.describe()"
   ]
  },
  {
   "cell_type": "code",
   "execution_count": 14,
   "metadata": {},
   "outputs": [
    {
     "name": "stdout",
     "output_type": "stream",
     "text": [
      "<class 'pandas.core.frame.DataFrame'>\n",
      "RangeIndex: 541909 entries, 0 to 541908\n",
      "Data columns (total 8 columns):\n",
      " #   Column       Non-Null Count   Dtype  \n",
      "---  ------       --------------   -----  \n",
      " 0   InvoiceNo    541909 non-null  object \n",
      " 1   StockCode    541909 non-null  object \n",
      " 2   Description  540455 non-null  object \n",
      " 3   Quantity     541909 non-null  int64  \n",
      " 4   InvoiceDate  541909 non-null  object \n",
      " 5   UnitPrice    541909 non-null  float64\n",
      " 6   CustomerID   406829 non-null  float64\n",
      " 7   Country      541909 non-null  object \n",
      "dtypes: float64(2), int64(1), object(5)\n",
      "memory usage: 33.1+ MB\n"
     ]
    }
   ],
   "source": [
    "df.info()"
   ]
  },
  {
   "cell_type": "code",
   "execution_count": 15,
   "metadata": {},
   "outputs": [
    {
     "data": {
      "text/plain": [
       "str"
      ]
     },
     "execution_count": 15,
     "metadata": {},
     "output_type": "execute_result"
    }
   ],
   "source": [
    "type(df['InvoiceDate'][0])"
   ]
  },
  {
   "cell_type": "markdown",
   "metadata": {},
   "source": [
    "In the following step we convert the column to datetime format using pandas to_datetime attribute."
   ]
  },
  {
   "cell_type": "code",
   "execution_count": 16,
   "metadata": {},
   "outputs": [],
   "source": [
    "df['InvoiceDate']=pandas.to_datetime(df['InvoiceDate'])"
   ]
  },
  {
   "cell_type": "markdown",
   "metadata": {},
   "source": [
    "It is important find the NaN values by which we can get idea of filtering and handling the missing values."
   ]
  },
  {
   "cell_type": "code",
   "execution_count": 17,
   "metadata": {},
   "outputs": [
    {
     "data": {
      "text/plain": [
       "InvoiceNo           0\n",
       "StockCode           0\n",
       "Description      1454\n",
       "Quantity            0\n",
       "InvoiceDate         0\n",
       "UnitPrice           0\n",
       "CustomerID     135080\n",
       "Country             0\n",
       "dtype: int64"
      ]
     },
     "execution_count": 17,
     "metadata": {},
     "output_type": "execute_result"
    }
   ],
   "source": [
    "df.isna().sum()     "
   ]
  },
  {
   "cell_type": "code",
   "execution_count": 18,
   "metadata": {},
   "outputs": [
    {
     "data": {
      "text/plain": [
       "622       NaN\n",
       "1970      NaN\n",
       "1971      NaN\n",
       "1972      NaN\n",
       "1987      NaN\n",
       "         ... \n",
       "535322    NaN\n",
       "535326    NaN\n",
       "535332    NaN\n",
       "536981    NaN\n",
       "538554    NaN\n",
       "Name: Description, Length: 1454, dtype: object"
      ]
     },
     "execution_count": 18,
     "metadata": {},
     "output_type": "execute_result"
    }
   ],
   "source": [
    "df['Description'][df['Description'].isnull()==True]"
   ]
  },
  {
   "cell_type": "markdown",
   "metadata": {},
   "source": [
    "Creating the 'Date' column by converting the InvoiceDate column to date format which includes the date of pirticular transaction excluding the total timestamp."
   ]
  },
  {
   "cell_type": "code",
   "execution_count": 19,
   "metadata": {},
   "outputs": [],
   "source": [
    "df['Date']=df['InvoiceDate'].dt.date"
   ]
  },
  {
   "cell_type": "code",
   "execution_count": 20,
   "metadata": {},
   "outputs": [
    {
     "data": {
      "text/html": [
       "<div>\n",
       "<style scoped>\n",
       "    .dataframe tbody tr th:only-of-type {\n",
       "        vertical-align: middle;\n",
       "    }\n",
       "\n",
       "    .dataframe tbody tr th {\n",
       "        vertical-align: top;\n",
       "    }\n",
       "\n",
       "    .dataframe thead th {\n",
       "        text-align: right;\n",
       "    }\n",
       "</style>\n",
       "<table border=\"1\" class=\"dataframe\">\n",
       "  <thead>\n",
       "    <tr style=\"text-align: right;\">\n",
       "      <th></th>\n",
       "      <th>InvoiceNo</th>\n",
       "      <th>StockCode</th>\n",
       "      <th>Description</th>\n",
       "      <th>Quantity</th>\n",
       "      <th>InvoiceDate</th>\n",
       "      <th>UnitPrice</th>\n",
       "      <th>CustomerID</th>\n",
       "      <th>Country</th>\n",
       "      <th>Date</th>\n",
       "    </tr>\n",
       "  </thead>\n",
       "  <tbody>\n",
       "    <tr>\n",
       "      <th>0</th>\n",
       "      <td>536365</td>\n",
       "      <td>85123A</td>\n",
       "      <td>WHITE HANGING HEART T-LIGHT HOLDER</td>\n",
       "      <td>6</td>\n",
       "      <td>2010-12-01 08:26:00</td>\n",
       "      <td>2.55</td>\n",
       "      <td>17850.0</td>\n",
       "      <td>United Kingdom</td>\n",
       "      <td>2010-12-01</td>\n",
       "    </tr>\n",
       "    <tr>\n",
       "      <th>1</th>\n",
       "      <td>536365</td>\n",
       "      <td>71053</td>\n",
       "      <td>WHITE METAL LANTERN</td>\n",
       "      <td>6</td>\n",
       "      <td>2010-12-01 08:26:00</td>\n",
       "      <td>3.39</td>\n",
       "      <td>17850.0</td>\n",
       "      <td>United Kingdom</td>\n",
       "      <td>2010-12-01</td>\n",
       "    </tr>\n",
       "    <tr>\n",
       "      <th>2</th>\n",
       "      <td>536365</td>\n",
       "      <td>84406B</td>\n",
       "      <td>CREAM CUPID HEARTS COAT HANGER</td>\n",
       "      <td>8</td>\n",
       "      <td>2010-12-01 08:26:00</td>\n",
       "      <td>2.75</td>\n",
       "      <td>17850.0</td>\n",
       "      <td>United Kingdom</td>\n",
       "      <td>2010-12-01</td>\n",
       "    </tr>\n",
       "    <tr>\n",
       "      <th>3</th>\n",
       "      <td>536365</td>\n",
       "      <td>84029G</td>\n",
       "      <td>KNITTED UNION FLAG HOT WATER BOTTLE</td>\n",
       "      <td>6</td>\n",
       "      <td>2010-12-01 08:26:00</td>\n",
       "      <td>3.39</td>\n",
       "      <td>17850.0</td>\n",
       "      <td>United Kingdom</td>\n",
       "      <td>2010-12-01</td>\n",
       "    </tr>\n",
       "    <tr>\n",
       "      <th>4</th>\n",
       "      <td>536365</td>\n",
       "      <td>84029E</td>\n",
       "      <td>RED WOOLLY HOTTIE WHITE HEART.</td>\n",
       "      <td>6</td>\n",
       "      <td>2010-12-01 08:26:00</td>\n",
       "      <td>3.39</td>\n",
       "      <td>17850.0</td>\n",
       "      <td>United Kingdom</td>\n",
       "      <td>2010-12-01</td>\n",
       "    </tr>\n",
       "  </tbody>\n",
       "</table>\n",
       "</div>"
      ],
      "text/plain": [
       "  InvoiceNo StockCode                          Description  Quantity  \\\n",
       "0    536365    85123A   WHITE HANGING HEART T-LIGHT HOLDER         6   \n",
       "1    536365     71053                  WHITE METAL LANTERN         6   \n",
       "2    536365    84406B       CREAM CUPID HEARTS COAT HANGER         8   \n",
       "3    536365    84029G  KNITTED UNION FLAG HOT WATER BOTTLE         6   \n",
       "4    536365    84029E       RED WOOLLY HOTTIE WHITE HEART.         6   \n",
       "\n",
       "          InvoiceDate  UnitPrice  CustomerID         Country        Date  \n",
       "0 2010-12-01 08:26:00       2.55     17850.0  United Kingdom  2010-12-01  \n",
       "1 2010-12-01 08:26:00       3.39     17850.0  United Kingdom  2010-12-01  \n",
       "2 2010-12-01 08:26:00       2.75     17850.0  United Kingdom  2010-12-01  \n",
       "3 2010-12-01 08:26:00       3.39     17850.0  United Kingdom  2010-12-01  \n",
       "4 2010-12-01 08:26:00       3.39     17850.0  United Kingdom  2010-12-01  "
      ]
     },
     "execution_count": 20,
     "metadata": {},
     "output_type": "execute_result"
    }
   ],
   "source": [
    "df.head()"
   ]
  },
  {
   "cell_type": "code",
   "execution_count": 21,
   "metadata": {},
   "outputs": [],
   "source": [
    "df.set_index('Date',drop=False,inplace=True)"
   ]
  },
  {
   "cell_type": "markdown",
   "metadata": {},
   "source": [
    "The total sale of product on a pirticular date can be determined by multiplication of quantity of the product sold and its unit price. Thus, we create a new coloumn 'Total_Price' where its values results from multiplication of columns 'Quantity' and 'UnitPrice'."
   ]
  },
  {
   "cell_type": "code",
   "execution_count": 22,
   "metadata": {},
   "outputs": [
    {
     "data": {
      "text/html": [
       "<div>\n",
       "<style scoped>\n",
       "    .dataframe tbody tr th:only-of-type {\n",
       "        vertical-align: middle;\n",
       "    }\n",
       "\n",
       "    .dataframe tbody tr th {\n",
       "        vertical-align: top;\n",
       "    }\n",
       "\n",
       "    .dataframe thead th {\n",
       "        text-align: right;\n",
       "    }\n",
       "</style>\n",
       "<table border=\"1\" class=\"dataframe\">\n",
       "  <thead>\n",
       "    <tr style=\"text-align: right;\">\n",
       "      <th></th>\n",
       "      <th>InvoiceNo</th>\n",
       "      <th>StockCode</th>\n",
       "      <th>Description</th>\n",
       "      <th>Quantity</th>\n",
       "      <th>InvoiceDate</th>\n",
       "      <th>UnitPrice</th>\n",
       "      <th>CustomerID</th>\n",
       "      <th>Country</th>\n",
       "      <th>Date</th>\n",
       "      <th>Total_Price</th>\n",
       "    </tr>\n",
       "    <tr>\n",
       "      <th>Date</th>\n",
       "      <th></th>\n",
       "      <th></th>\n",
       "      <th></th>\n",
       "      <th></th>\n",
       "      <th></th>\n",
       "      <th></th>\n",
       "      <th></th>\n",
       "      <th></th>\n",
       "      <th></th>\n",
       "      <th></th>\n",
       "    </tr>\n",
       "  </thead>\n",
       "  <tbody>\n",
       "    <tr>\n",
       "      <th>2010-12-01</th>\n",
       "      <td>536365</td>\n",
       "      <td>85123A</td>\n",
       "      <td>WHITE HANGING HEART T-LIGHT HOLDER</td>\n",
       "      <td>6</td>\n",
       "      <td>2010-12-01 08:26:00</td>\n",
       "      <td>2.55</td>\n",
       "      <td>17850.0</td>\n",
       "      <td>United Kingdom</td>\n",
       "      <td>2010-12-01</td>\n",
       "      <td>15.30</td>\n",
       "    </tr>\n",
       "    <tr>\n",
       "      <th>2010-12-01</th>\n",
       "      <td>536365</td>\n",
       "      <td>71053</td>\n",
       "      <td>WHITE METAL LANTERN</td>\n",
       "      <td>6</td>\n",
       "      <td>2010-12-01 08:26:00</td>\n",
       "      <td>3.39</td>\n",
       "      <td>17850.0</td>\n",
       "      <td>United Kingdom</td>\n",
       "      <td>2010-12-01</td>\n",
       "      <td>20.34</td>\n",
       "    </tr>\n",
       "    <tr>\n",
       "      <th>2010-12-01</th>\n",
       "      <td>536365</td>\n",
       "      <td>84406B</td>\n",
       "      <td>CREAM CUPID HEARTS COAT HANGER</td>\n",
       "      <td>8</td>\n",
       "      <td>2010-12-01 08:26:00</td>\n",
       "      <td>2.75</td>\n",
       "      <td>17850.0</td>\n",
       "      <td>United Kingdom</td>\n",
       "      <td>2010-12-01</td>\n",
       "      <td>22.00</td>\n",
       "    </tr>\n",
       "    <tr>\n",
       "      <th>2010-12-01</th>\n",
       "      <td>536365</td>\n",
       "      <td>84029G</td>\n",
       "      <td>KNITTED UNION FLAG HOT WATER BOTTLE</td>\n",
       "      <td>6</td>\n",
       "      <td>2010-12-01 08:26:00</td>\n",
       "      <td>3.39</td>\n",
       "      <td>17850.0</td>\n",
       "      <td>United Kingdom</td>\n",
       "      <td>2010-12-01</td>\n",
       "      <td>20.34</td>\n",
       "    </tr>\n",
       "    <tr>\n",
       "      <th>2010-12-01</th>\n",
       "      <td>536365</td>\n",
       "      <td>84029E</td>\n",
       "      <td>RED WOOLLY HOTTIE WHITE HEART.</td>\n",
       "      <td>6</td>\n",
       "      <td>2010-12-01 08:26:00</td>\n",
       "      <td>3.39</td>\n",
       "      <td>17850.0</td>\n",
       "      <td>United Kingdom</td>\n",
       "      <td>2010-12-01</td>\n",
       "      <td>20.34</td>\n",
       "    </tr>\n",
       "    <tr>\n",
       "      <th>...</th>\n",
       "      <td>...</td>\n",
       "      <td>...</td>\n",
       "      <td>...</td>\n",
       "      <td>...</td>\n",
       "      <td>...</td>\n",
       "      <td>...</td>\n",
       "      <td>...</td>\n",
       "      <td>...</td>\n",
       "      <td>...</td>\n",
       "      <td>...</td>\n",
       "    </tr>\n",
       "    <tr>\n",
       "      <th>2011-12-09</th>\n",
       "      <td>581587</td>\n",
       "      <td>22613</td>\n",
       "      <td>PACK OF 20 SPACEBOY NAPKINS</td>\n",
       "      <td>12</td>\n",
       "      <td>2011-12-09 12:50:00</td>\n",
       "      <td>0.85</td>\n",
       "      <td>12680.0</td>\n",
       "      <td>France</td>\n",
       "      <td>2011-12-09</td>\n",
       "      <td>10.20</td>\n",
       "    </tr>\n",
       "    <tr>\n",
       "      <th>2011-12-09</th>\n",
       "      <td>581587</td>\n",
       "      <td>22899</td>\n",
       "      <td>CHILDREN'S APRON DOLLY GIRL</td>\n",
       "      <td>6</td>\n",
       "      <td>2011-12-09 12:50:00</td>\n",
       "      <td>2.10</td>\n",
       "      <td>12680.0</td>\n",
       "      <td>France</td>\n",
       "      <td>2011-12-09</td>\n",
       "      <td>12.60</td>\n",
       "    </tr>\n",
       "    <tr>\n",
       "      <th>2011-12-09</th>\n",
       "      <td>581587</td>\n",
       "      <td>23254</td>\n",
       "      <td>CHILDRENS CUTLERY DOLLY GIRL</td>\n",
       "      <td>4</td>\n",
       "      <td>2011-12-09 12:50:00</td>\n",
       "      <td>4.15</td>\n",
       "      <td>12680.0</td>\n",
       "      <td>France</td>\n",
       "      <td>2011-12-09</td>\n",
       "      <td>16.60</td>\n",
       "    </tr>\n",
       "    <tr>\n",
       "      <th>2011-12-09</th>\n",
       "      <td>581587</td>\n",
       "      <td>23255</td>\n",
       "      <td>CHILDRENS CUTLERY CIRCUS PARADE</td>\n",
       "      <td>4</td>\n",
       "      <td>2011-12-09 12:50:00</td>\n",
       "      <td>4.15</td>\n",
       "      <td>12680.0</td>\n",
       "      <td>France</td>\n",
       "      <td>2011-12-09</td>\n",
       "      <td>16.60</td>\n",
       "    </tr>\n",
       "    <tr>\n",
       "      <th>2011-12-09</th>\n",
       "      <td>581587</td>\n",
       "      <td>22138</td>\n",
       "      <td>BAKING SET 9 PIECE RETROSPOT</td>\n",
       "      <td>3</td>\n",
       "      <td>2011-12-09 12:50:00</td>\n",
       "      <td>4.95</td>\n",
       "      <td>12680.0</td>\n",
       "      <td>France</td>\n",
       "      <td>2011-12-09</td>\n",
       "      <td>14.85</td>\n",
       "    </tr>\n",
       "  </tbody>\n",
       "</table>\n",
       "<p>541909 rows × 10 columns</p>\n",
       "</div>"
      ],
      "text/plain": [
       "           InvoiceNo StockCode                          Description  Quantity  \\\n",
       "Date                                                                            \n",
       "2010-12-01    536365    85123A   WHITE HANGING HEART T-LIGHT HOLDER         6   \n",
       "2010-12-01    536365     71053                  WHITE METAL LANTERN         6   \n",
       "2010-12-01    536365    84406B       CREAM CUPID HEARTS COAT HANGER         8   \n",
       "2010-12-01    536365    84029G  KNITTED UNION FLAG HOT WATER BOTTLE         6   \n",
       "2010-12-01    536365    84029E       RED WOOLLY HOTTIE WHITE HEART.         6   \n",
       "...              ...       ...                                  ...       ...   \n",
       "2011-12-09    581587     22613          PACK OF 20 SPACEBOY NAPKINS        12   \n",
       "2011-12-09    581587     22899         CHILDREN'S APRON DOLLY GIRL          6   \n",
       "2011-12-09    581587     23254        CHILDRENS CUTLERY DOLLY GIRL          4   \n",
       "2011-12-09    581587     23255      CHILDRENS CUTLERY CIRCUS PARADE         4   \n",
       "2011-12-09    581587     22138        BAKING SET 9 PIECE RETROSPOT          3   \n",
       "\n",
       "                   InvoiceDate  UnitPrice  CustomerID         Country  \\\n",
       "Date                                                                    \n",
       "2010-12-01 2010-12-01 08:26:00       2.55     17850.0  United Kingdom   \n",
       "2010-12-01 2010-12-01 08:26:00       3.39     17850.0  United Kingdom   \n",
       "2010-12-01 2010-12-01 08:26:00       2.75     17850.0  United Kingdom   \n",
       "2010-12-01 2010-12-01 08:26:00       3.39     17850.0  United Kingdom   \n",
       "2010-12-01 2010-12-01 08:26:00       3.39     17850.0  United Kingdom   \n",
       "...                        ...        ...         ...             ...   \n",
       "2011-12-09 2011-12-09 12:50:00       0.85     12680.0          France   \n",
       "2011-12-09 2011-12-09 12:50:00       2.10     12680.0          France   \n",
       "2011-12-09 2011-12-09 12:50:00       4.15     12680.0          France   \n",
       "2011-12-09 2011-12-09 12:50:00       4.15     12680.0          France   \n",
       "2011-12-09 2011-12-09 12:50:00       4.95     12680.0          France   \n",
       "\n",
       "                  Date  Total_Price  \n",
       "Date                                 \n",
       "2010-12-01  2010-12-01        15.30  \n",
       "2010-12-01  2010-12-01        20.34  \n",
       "2010-12-01  2010-12-01        22.00  \n",
       "2010-12-01  2010-12-01        20.34  \n",
       "2010-12-01  2010-12-01        20.34  \n",
       "...                ...          ...  \n",
       "2011-12-09  2011-12-09        10.20  \n",
       "2011-12-09  2011-12-09        12.60  \n",
       "2011-12-09  2011-12-09        16.60  \n",
       "2011-12-09  2011-12-09        16.60  \n",
       "2011-12-09  2011-12-09        14.85  \n",
       "\n",
       "[541909 rows x 10 columns]"
      ]
     },
     "execution_count": 22,
     "metadata": {},
     "output_type": "execute_result"
    }
   ],
   "source": [
    "df['Total_Price']=df['Quantity']*df['UnitPrice']\n",
    "df"
   ]
  },
  {
   "cell_type": "code",
   "execution_count": 23,
   "metadata": {},
   "outputs": [],
   "source": [
    "import jovian"
   ]
  },
  {
   "cell_type": "code",
   "execution_count": 24,
   "metadata": {},
   "outputs": [
    {
     "data": {
      "application/javascript": [
       "window.require && require([\"base/js/namespace\"],function(Jupyter){Jupyter.notebook.save_checkpoint()})"
      ],
      "text/plain": [
       "<IPython.core.display.Javascript object>"
      ]
     },
     "metadata": {},
     "output_type": "display_data"
    },
    {
     "name": "stdout",
     "output_type": "stream",
     "text": [
      "[jovian] Updating notebook \"vishalvinayt/ecommerce-data\" on https://jovian.ai/\n",
      "[jovian] Committed successfully! https://jovian.ai/vishalvinayt/ecommerce-data\n"
     ]
    },
    {
     "data": {
      "text/plain": [
       "'https://jovian.ai/vishalvinayt/ecommerce-data'"
      ]
     },
     "execution_count": 24,
     "metadata": {},
     "output_type": "execute_result"
    }
   ],
   "source": [
    "jovian.commit()"
   ]
  },
  {
   "cell_type": "markdown",
   "metadata": {},
   "source": [
    "## Exploratory Analysis and Visualization\n",
    "\n",
    "\n",
    "\n"
   ]
  },
  {
   "cell_type": "code",
   "execution_count": 25,
   "metadata": {},
   "outputs": [],
   "source": [
    "import seaborn as sns\n",
    "import matplotlib\n",
    "import matplotlib.pyplot as plt\n",
    "%matplotlib inline\n",
    "\n",
    "sns.set_style('darkgrid')\n",
    "matplotlib.rcParams['font.size'] = 14\n",
    "matplotlib.rcParams['figure.figsize'] = (9, 5)\n",
    "matplotlib.rcParams['figure.facecolor'] = '#00000000'"
   ]
  },
  {
   "cell_type": "markdown",
   "metadata": {},
   "source": [
    "### Country"
   ]
  },
  {
   "cell_type": "markdown",
   "metadata": {},
   "source": [
    "Finding out the unique countries and number of orders occured in each country and plotting a graph between countries and number of orders."
   ]
  },
  {
   "cell_type": "code",
   "execution_count": 26,
   "metadata": {},
   "outputs": [
    {
     "data": {
      "text/plain": [
       "array(['United Kingdom', 'France', 'Australia', 'Netherlands', 'Germany',\n",
       "       'Norway', 'EIRE', 'Switzerland', 'Spain', 'Poland', 'Portugal',\n",
       "       'Italy', 'Belgium', 'Lithuania', 'Japan', 'Iceland',\n",
       "       'Channel Islands', 'Denmark', 'Cyprus', 'Sweden', 'Austria',\n",
       "       'Israel', 'Finland', 'Bahrain', 'Greece', 'Hong Kong', 'Singapore',\n",
       "       'Lebanon', 'United Arab Emirates', 'Saudi Arabia',\n",
       "       'Czech Republic', 'Canada', 'Unspecified', 'Brazil', 'USA',\n",
       "       'European Community', 'Malta', 'RSA'], dtype=object)"
      ]
     },
     "execution_count": 26,
     "metadata": {},
     "output_type": "execute_result"
    }
   ],
   "source": [
    "no_country=df.Country.unique()\n",
    "no_country"
   ]
  },
  {
   "cell_type": "code",
   "execution_count": 27,
   "metadata": {},
   "outputs": [
    {
     "data": {
      "text/plain": [
       "38"
      ]
     },
     "execution_count": 27,
     "metadata": {},
     "output_type": "execute_result"
    }
   ],
   "source": [
    "len(no_country)"
   ]
  },
  {
   "cell_type": "code",
   "execution_count": 28,
   "metadata": {},
   "outputs": [
    {
     "data": {
      "text/plain": [
       "United Kingdom          495478\n",
       "Germany                   9495\n",
       "France                    8557\n",
       "EIRE                      8196\n",
       "Spain                     2533\n",
       "Netherlands               2371\n",
       "Belgium                   2069\n",
       "Switzerland               2002\n",
       "Portugal                  1519\n",
       "Australia                 1259\n",
       "Norway                    1086\n",
       "Italy                      803\n",
       "Channel Islands            758\n",
       "Finland                    695\n",
       "Cyprus                     622\n",
       "Sweden                     462\n",
       "Unspecified                446\n",
       "Austria                    401\n",
       "Denmark                    389\n",
       "Japan                      358\n",
       "Poland                     341\n",
       "Israel                     297\n",
       "USA                        291\n",
       "Hong Kong                  288\n",
       "Singapore                  229\n",
       "Iceland                    182\n",
       "Canada                     151\n",
       "Greece                     146\n",
       "Malta                      127\n",
       "United Arab Emirates        68\n",
       "European Community          61\n",
       "RSA                         58\n",
       "Lebanon                     45\n",
       "Lithuania                   35\n",
       "Brazil                      32\n",
       "Czech Republic              30\n",
       "Bahrain                     19\n",
       "Saudi Arabia                10\n",
       "Name: Country, dtype: int64"
      ]
     },
     "execution_count": 28,
     "metadata": {},
     "output_type": "execute_result"
    }
   ],
   "source": [
    "count_country=df.Country.value_counts()  # counts the number of occurences of values in a column\n",
    "count_country"
   ]
  },
  {
   "cell_type": "code",
   "execution_count": 29,
   "metadata": {},
   "outputs": [
    {
     "data": {
      "text/plain": [
       "0.9143195628786382"
      ]
     },
     "execution_count": 29,
     "metadata": {},
     "output_type": "execute_result"
    }
   ],
   "source": [
    "count_country.values[0]/count_country.values.sum()"
   ]
  },
  {
   "cell_type": "code",
   "execution_count": 30,
   "metadata": {},
   "outputs": [
    {
     "data": {
      "text/plain": [
       "<BarContainer object of 38 artists>"
      ]
     },
     "execution_count": 30,
     "metadata": {},
     "output_type": "execute_result"
    },
    {
     "data": {
      "image/png": "[encoded data removed]",
      "text/plain": [
       "<Figure size 720x720 with 1 Axes>"
      ]
     },
     "metadata": {
      "needs_background": "light"
     },
     "output_type": "display_data"
    }
   ],
   "source": [
    "plt.figure(figsize=(10,10))\n",
    "plt.xlabel('Number of Orders')\n",
    "plt.ylabel('Country')\n",
    "plt.barh(count_country.index,count_country.values)"
   ]
  },
  {
   "cell_type": "markdown",
   "metadata": {},
   "source": [
    "It appears that large amount of the orders over 90 percent are placed from United Kingdom in the period 2010-12 to 2011-09, probably the ecommerce website is originated in UK."
   ]
  },
  {
   "cell_type": "markdown",
   "metadata": {},
   "source": [
    "### Products"
   ]
  },
  {
   "cell_type": "markdown",
   "metadata": {},
   "source": [
    "Distribution of products is crucial to determine the most selling product. For that the following steps were conducted. Finding out the unique products, numbers of orders of each product, filtering the top 20 most selling products."
   ]
  },
  {
   "cell_type": "code",
   "execution_count": 31,
   "metadata": {},
   "outputs": [
    {
     "data": {
      "text/plain": [
       "array(['WHITE HANGING HEART T-LIGHT HOLDER', 'WHITE METAL LANTERN',\n",
       "       'CREAM CUPID HEARTS COAT HANGER', ..., 'lost',\n",
       "       'CREAM HANGING HEART T-LIGHT HOLDER',\n",
       "       'PAPER CRAFT , LITTLE BIRDIE'], dtype=object)"
      ]
     },
     "execution_count": 31,
     "metadata": {},
     "output_type": "execute_result"
    }
   ],
   "source": [
    "no_items=df['Description'].unique()\n",
    "no_items"
   ]
  },
  {
   "cell_type": "code",
   "execution_count": 32,
   "metadata": {},
   "outputs": [
    {
     "data": {
      "text/plain": [
       "4224"
      ]
     },
     "execution_count": 32,
     "metadata": {},
     "output_type": "execute_result"
    }
   ],
   "source": [
    "len(no_items)"
   ]
  },
  {
   "cell_type": "code",
   "execution_count": 33,
   "metadata": {},
   "outputs": [
    {
     "data": {
      "text/plain": [
       "WHITE HANGING HEART T-LIGHT HOLDER    2369\n",
       "REGENCY CAKESTAND 3 TIER              2200\n",
       "JUMBO BAG RED RETROSPOT               2159\n",
       "PARTY BUNTING                         1727\n",
       "LUNCH BAG RED RETROSPOT               1638\n",
       "                                      ... \n",
       "SET 10 CARDS SNOWY ROBIN 17099           1\n",
       "ACRYLIC JEWEL SNOWFLAKE,PINK             1\n",
       "16 PC CUTLERY SET PANTRY DESIGN          1\n",
       "rusty thrown away                        1\n",
       "KEEP OUT GIRLS DOOR HANGER               1\n",
       "Name: Description, Length: 4223, dtype: int64"
      ]
     },
     "execution_count": 33,
     "metadata": {},
     "output_type": "execute_result"
    }
   ],
   "source": [
    "count_items=df['Description'].value_counts()\n",
    "count_items"
   ]
  },
  {
   "cell_type": "code",
   "execution_count": 34,
   "metadata": {},
   "outputs": [
    {
     "data": {
      "text/plain": [
       "<BarContainer object of 20 artists>"
      ]
     },
     "execution_count": 34,
     "metadata": {},
     "output_type": "execute_result"
    },
    {
     "data": {
      "image/png": "[encoded data removed]",
      "text/plain": [
       "<Figure size 648x360 with 1 Axes>"
      ]
     },
     "metadata": {
      "needs_background": "light"
     },
     "output_type": "display_data"
    }
   ],
   "source": [
    "plt.xlabel('No of Orders')\n",
    "plt.ylabel('Product')\n",
    "plt.barh(count_items.index[:20],count_items.values[:20])"
   ]
  },
  {
   "cell_type": "markdown",
   "metadata": {},
   "source": [
    "From the above bar plot, It is observed that 'WHITE HANGING HEART T-LIGHT HOLDER' has most percentage of orders compared to other products."
   ]
  },
  {
   "cell_type": "markdown",
   "metadata": {},
   "source": [
    "Now, let us find the distribution of products in United Kingdom as over 90 percent of orders were placed in United Kingdom by which we can find out most selling product in UK."
   ]
  },
  {
   "cell_type": "code",
   "execution_count": 35,
   "metadata": {
    "scrolled": true
   },
   "outputs": [
    {
     "data": {
      "text/html": [
       "<div>\n",
       "<style scoped>\n",
       "    .dataframe tbody tr th:only-of-type {\n",
       "        vertical-align: middle;\n",
       "    }\n",
       "\n",
       "    .dataframe tbody tr th {\n",
       "        vertical-align: top;\n",
       "    }\n",
       "\n",
       "    .dataframe thead th {\n",
       "        text-align: right;\n",
       "    }\n",
       "</style>\n",
       "<table border=\"1\" class=\"dataframe\">\n",
       "  <thead>\n",
       "    <tr style=\"text-align: right;\">\n",
       "      <th></th>\n",
       "      <th>Country</th>\n",
       "      <th>Description</th>\n",
       "    </tr>\n",
       "    <tr>\n",
       "      <th>Date</th>\n",
       "      <th></th>\n",
       "      <th></th>\n",
       "    </tr>\n",
       "  </thead>\n",
       "  <tbody>\n",
       "    <tr>\n",
       "      <th>2010-12-01</th>\n",
       "      <td>United Kingdom</td>\n",
       "      <td>WHITE HANGING HEART T-LIGHT HOLDER</td>\n",
       "    </tr>\n",
       "    <tr>\n",
       "      <th>2010-12-01</th>\n",
       "      <td>United Kingdom</td>\n",
       "      <td>WHITE METAL LANTERN</td>\n",
       "    </tr>\n",
       "    <tr>\n",
       "      <th>2010-12-01</th>\n",
       "      <td>United Kingdom</td>\n",
       "      <td>CREAM CUPID HEARTS COAT HANGER</td>\n",
       "    </tr>\n",
       "    <tr>\n",
       "      <th>2010-12-01</th>\n",
       "      <td>United Kingdom</td>\n",
       "      <td>KNITTED UNION FLAG HOT WATER BOTTLE</td>\n",
       "    </tr>\n",
       "    <tr>\n",
       "      <th>2010-12-01</th>\n",
       "      <td>United Kingdom</td>\n",
       "      <td>RED WOOLLY HOTTIE WHITE HEART.</td>\n",
       "    </tr>\n",
       "    <tr>\n",
       "      <th>...</th>\n",
       "      <td>...</td>\n",
       "      <td>...</td>\n",
       "    </tr>\n",
       "    <tr>\n",
       "      <th>2011-12-09</th>\n",
       "      <td>United Kingdom</td>\n",
       "      <td>FAIRY TALE COTTAGE NIGHT LIGHT</td>\n",
       "    </tr>\n",
       "    <tr>\n",
       "      <th>2011-12-09</th>\n",
       "      <td>United Kingdom</td>\n",
       "      <td>LARGE CAKE STAND  HANGING STRAWBERY</td>\n",
       "    </tr>\n",
       "    <tr>\n",
       "      <th>2011-12-09</th>\n",
       "      <td>United Kingdom</td>\n",
       "      <td>SET OF 3 HANGING OWLS OLLIE BEAK</td>\n",
       "    </tr>\n",
       "    <tr>\n",
       "      <th>2011-12-09</th>\n",
       "      <td>United Kingdom</td>\n",
       "      <td>RED RETROSPOT ROUND CAKE TINS</td>\n",
       "    </tr>\n",
       "    <tr>\n",
       "      <th>2011-12-09</th>\n",
       "      <td>United Kingdom</td>\n",
       "      <td>DOORMAT RED RETROSPOT</td>\n",
       "    </tr>\n",
       "  </tbody>\n",
       "</table>\n",
       "<p>495478 rows × 2 columns</p>\n",
       "</div>"
      ],
      "text/plain": [
       "                   Country                          Description\n",
       "Date                                                           \n",
       "2010-12-01  United Kingdom   WHITE HANGING HEART T-LIGHT HOLDER\n",
       "2010-12-01  United Kingdom                  WHITE METAL LANTERN\n",
       "2010-12-01  United Kingdom       CREAM CUPID HEARTS COAT HANGER\n",
       "2010-12-01  United Kingdom  KNITTED UNION FLAG HOT WATER BOTTLE\n",
       "2010-12-01  United Kingdom       RED WOOLLY HOTTIE WHITE HEART.\n",
       "...                    ...                                  ...\n",
       "2011-12-09  United Kingdom       FAIRY TALE COTTAGE NIGHT LIGHT\n",
       "2011-12-09  United Kingdom  LARGE CAKE STAND  HANGING STRAWBERY\n",
       "2011-12-09  United Kingdom     SET OF 3 HANGING OWLS OLLIE BEAK\n",
       "2011-12-09  United Kingdom        RED RETROSPOT ROUND CAKE TINS\n",
       "2011-12-09  United Kingdom                DOORMAT RED RETROSPOT\n",
       "\n",
       "[495478 rows x 2 columns]"
      ]
     },
     "execution_count": 35,
     "metadata": {},
     "output_type": "execute_result"
    }
   ],
   "source": [
    "uk_items=df[['Country','Description']][df['Country']=='United Kingdom']\n",
    "uk_items"
   ]
  },
  {
   "cell_type": "code",
   "execution_count": 36,
   "metadata": {},
   "outputs": [
    {
     "data": {
      "text/plain": [
       "WHITE HANGING HEART T-LIGHT HOLDER    2271\n",
       "JUMBO BAG RED RETROSPOT               2001\n",
       "REGENCY CAKESTAND 3 TIER              1859\n",
       "PARTY BUNTING                         1634\n",
       "LUNCH BAG RED RETROSPOT               1460\n",
       "                                      ... \n",
       "LETTER \"U\" BLING KEY RING                1\n",
       "sold as 22467                            1\n",
       "Breakages                                1\n",
       "amazon adjust                            1\n",
       "PINK CHERRY BLOSSOM CUP & SAUCER         1\n",
       "Name: Description, Length: 4202, dtype: int64"
      ]
     },
     "execution_count": 36,
     "metadata": {},
     "output_type": "execute_result"
    }
   ],
   "source": [
    "uk_selling_item=uk_items['Description'].value_counts()\n",
    "uk_selling_item"
   ]
  },
  {
   "cell_type": "code",
   "execution_count": 37,
   "metadata": {},
   "outputs": [
    {
     "data": {
      "text/plain": [
       "[<matplotlib.lines.Line2D at 0x1b5217e5f10>]"
      ]
     },
     "execution_count": 37,
     "metadata": {},
     "output_type": "execute_result"
    },
    {
     "data": {
      "image/png": "[encoded data removed]",
      "text/plain": [
       "<Figure size 1656x720 with 1 Axes>"
      ]
     },
     "metadata": {
      "needs_background": "light"
     },
     "output_type": "display_data"
    }
   ],
   "source": [
    "\n",
    "plt.figure(figsize=(23,10))\n",
    "plt.plot(uk_selling_item.index[:5],uk_selling_item.values[:5],marker='x')"
   ]
  },
  {
   "cell_type": "markdown",
   "metadata": {},
   "source": [
    "From the above line graph, It appears that over 2200 orders of  'WHITE HANGING HEART T-LIGHT HOLDER' were placed in UK and it is most selling product in UK in period 2010-12 to 2011-09 "
   ]
  },
  {
   "cell_type": "markdown",
   "metadata": {},
   "source": [
    "### Customers"
   ]
  },
  {
   "cell_type": "markdown",
   "metadata": {},
   "source": [
    "The customer distribution is important as it allows us to study the customers. For that a bar plot will be suitable for clear demostration."
   ]
  },
  {
   "cell_type": "code",
   "execution_count": 38,
   "metadata": {},
   "outputs": [
    {
     "data": {
      "text/plain": [
       "17841.0    7983\n",
       "14911.0    5903\n",
       "14096.0    5128\n",
       "12748.0    4642\n",
       "14606.0    2782\n",
       "           ... \n",
       "13391.0       1\n",
       "16579.0       1\n",
       "13366.0       1\n",
       "17763.0       1\n",
       "17846.0       1\n",
       "Name: CustomerID, Length: 4372, dtype: int64"
      ]
     },
     "execution_count": 38,
     "metadata": {},
     "output_type": "execute_result"
    }
   ],
   "source": [
    "top_customer=df.CustomerID.value_counts()\n",
    "top_customer"
   ]
  },
  {
   "cell_type": "code",
   "execution_count": 39,
   "metadata": {},
   "outputs": [
    {
     "data": {
      "text/plain": [
       "<AxesSubplot:xlabel='CustomerID', ylabel='Number of Orders'>"
      ]
     },
     "execution_count": 39,
     "metadata": {},
     "output_type": "execute_result"
    },
    {
     "data": {
      "image/png": "[encoded data removed]",
      "text/plain": [
       "<Figure size 648x360 with 1 Axes>"
      ]
     },
     "metadata": {
      "needs_background": "light"
     },
     "output_type": "display_data"
    }
   ],
   "source": [
    "plt.xlabel('CustomerID')\n",
    "plt.ylabel('Number of Orders')\n",
    "sns.barplot(x=top_customer.index[:10],y=top_customer.values[:10])"
   ]
  },
  {
   "cell_type": "markdown",
   "metadata": {},
   "source": [
    "It appears that the CustomerID '17841.0' has placed 2 percent of the total orders and placed most number of orders."
   ]
  },
  {
   "cell_type": "code",
   "execution_count": 40,
   "metadata": {},
   "outputs": [
    {
     "data": {
      "text/html": [
       "<div>\n",
       "<style scoped>\n",
       "    .dataframe tbody tr th:only-of-type {\n",
       "        vertical-align: middle;\n",
       "    }\n",
       "\n",
       "    .dataframe tbody tr th {\n",
       "        vertical-align: top;\n",
       "    }\n",
       "\n",
       "    .dataframe thead th {\n",
       "        text-align: right;\n",
       "    }\n",
       "</style>\n",
       "<table border=\"1\" class=\"dataframe\">\n",
       "  <thead>\n",
       "    <tr style=\"text-align: right;\">\n",
       "      <th></th>\n",
       "      <th>CustomerID</th>\n",
       "      <th>Country</th>\n",
       "    </tr>\n",
       "    <tr>\n",
       "      <th>Date</th>\n",
       "      <th></th>\n",
       "      <th></th>\n",
       "    </tr>\n",
       "  </thead>\n",
       "  <tbody>\n",
       "    <tr>\n",
       "      <th>2010-12-01</th>\n",
       "      <td>17841.0</td>\n",
       "      <td>United Kingdom</td>\n",
       "    </tr>\n",
       "    <tr>\n",
       "      <th>2010-12-01</th>\n",
       "      <td>17841.0</td>\n",
       "      <td>United Kingdom</td>\n",
       "    </tr>\n",
       "    <tr>\n",
       "      <th>2010-12-01</th>\n",
       "      <td>17841.0</td>\n",
       "      <td>United Kingdom</td>\n",
       "    </tr>\n",
       "    <tr>\n",
       "      <th>2010-12-01</th>\n",
       "      <td>17841.0</td>\n",
       "      <td>United Kingdom</td>\n",
       "    </tr>\n",
       "    <tr>\n",
       "      <th>2010-12-01</th>\n",
       "      <td>17841.0</td>\n",
       "      <td>United Kingdom</td>\n",
       "    </tr>\n",
       "  </tbody>\n",
       "</table>\n",
       "</div>"
      ],
      "text/plain": [
       "            CustomerID         Country\n",
       "Date                                  \n",
       "2010-12-01     17841.0  United Kingdom\n",
       "2010-12-01     17841.0  United Kingdom\n",
       "2010-12-01     17841.0  United Kingdom\n",
       "2010-12-01     17841.0  United Kingdom\n",
       "2010-12-01     17841.0  United Kingdom"
      ]
     },
     "execution_count": 40,
     "metadata": {},
     "output_type": "execute_result"
    }
   ],
   "source": [
    "df[['CustomerID','Country']][df['CustomerID']==17841.0].head()"
   ]
  },
  {
   "cell_type": "markdown",
   "metadata": {},
   "source": [
    "In studing the ecommerce data it is important to know about the distribution of replaced or cancelled orders for that we look out for the negative numbers in quantity which means the orders are replaced or cancelled orders."
   ]
  },
  {
   "cell_type": "code",
   "execution_count": 41,
   "metadata": {},
   "outputs": [
    {
     "data": {
      "text/html": [
       "<div>\n",
       "<style scoped>\n",
       "    .dataframe tbody tr th:only-of-type {\n",
       "        vertical-align: middle;\n",
       "    }\n",
       "\n",
       "    .dataframe tbody tr th {\n",
       "        vertical-align: top;\n",
       "    }\n",
       "\n",
       "    .dataframe thead th {\n",
       "        text-align: right;\n",
       "    }\n",
       "</style>\n",
       "<table border=\"1\" class=\"dataframe\">\n",
       "  <thead>\n",
       "    <tr style=\"text-align: right;\">\n",
       "      <th></th>\n",
       "      <th>InvoiceNo</th>\n",
       "      <th>StockCode</th>\n",
       "      <th>Description</th>\n",
       "      <th>Quantity</th>\n",
       "      <th>InvoiceDate</th>\n",
       "      <th>UnitPrice</th>\n",
       "      <th>CustomerID</th>\n",
       "      <th>Country</th>\n",
       "      <th>Date</th>\n",
       "      <th>Total_Price</th>\n",
       "    </tr>\n",
       "    <tr>\n",
       "      <th>Date</th>\n",
       "      <th></th>\n",
       "      <th></th>\n",
       "      <th></th>\n",
       "      <th></th>\n",
       "      <th></th>\n",
       "      <th></th>\n",
       "      <th></th>\n",
       "      <th></th>\n",
       "      <th></th>\n",
       "      <th></th>\n",
       "    </tr>\n",
       "  </thead>\n",
       "  <tbody>\n",
       "    <tr>\n",
       "      <th>2010-12-01</th>\n",
       "      <td>C536379</td>\n",
       "      <td>D</td>\n",
       "      <td>Discount</td>\n",
       "      <td>-1</td>\n",
       "      <td>2010-12-01 09:41:00</td>\n",
       "      <td>27.50</td>\n",
       "      <td>14527.0</td>\n",
       "      <td>United Kingdom</td>\n",
       "      <td>2010-12-01</td>\n",
       "      <td>-27.50</td>\n",
       "    </tr>\n",
       "    <tr>\n",
       "      <th>2010-12-01</th>\n",
       "      <td>C536383</td>\n",
       "      <td>35004C</td>\n",
       "      <td>SET OF 3 COLOURED  FLYING DUCKS</td>\n",
       "      <td>-1</td>\n",
       "      <td>2010-12-01 09:49:00</td>\n",
       "      <td>4.65</td>\n",
       "      <td>15311.0</td>\n",
       "      <td>United Kingdom</td>\n",
       "      <td>2010-12-01</td>\n",
       "      <td>-4.65</td>\n",
       "    </tr>\n",
       "    <tr>\n",
       "      <th>2010-12-01</th>\n",
       "      <td>C536391</td>\n",
       "      <td>22556</td>\n",
       "      <td>PLASTERS IN TIN CIRCUS PARADE</td>\n",
       "      <td>-12</td>\n",
       "      <td>2010-12-01 10:24:00</td>\n",
       "      <td>1.65</td>\n",
       "      <td>17548.0</td>\n",
       "      <td>United Kingdom</td>\n",
       "      <td>2010-12-01</td>\n",
       "      <td>-19.80</td>\n",
       "    </tr>\n",
       "    <tr>\n",
       "      <th>2010-12-01</th>\n",
       "      <td>C536391</td>\n",
       "      <td>21984</td>\n",
       "      <td>PACK OF 12 PINK PAISLEY TISSUES</td>\n",
       "      <td>-24</td>\n",
       "      <td>2010-12-01 10:24:00</td>\n",
       "      <td>0.29</td>\n",
       "      <td>17548.0</td>\n",
       "      <td>United Kingdom</td>\n",
       "      <td>2010-12-01</td>\n",
       "      <td>-6.96</td>\n",
       "    </tr>\n",
       "    <tr>\n",
       "      <th>2010-12-01</th>\n",
       "      <td>C536391</td>\n",
       "      <td>21983</td>\n",
       "      <td>PACK OF 12 BLUE PAISLEY TISSUES</td>\n",
       "      <td>-24</td>\n",
       "      <td>2010-12-01 10:24:00</td>\n",
       "      <td>0.29</td>\n",
       "      <td>17548.0</td>\n",
       "      <td>United Kingdom</td>\n",
       "      <td>2010-12-01</td>\n",
       "      <td>-6.96</td>\n",
       "    </tr>\n",
       "    <tr>\n",
       "      <th>...</th>\n",
       "      <td>...</td>\n",
       "      <td>...</td>\n",
       "      <td>...</td>\n",
       "      <td>...</td>\n",
       "      <td>...</td>\n",
       "      <td>...</td>\n",
       "      <td>...</td>\n",
       "      <td>...</td>\n",
       "      <td>...</td>\n",
       "      <td>...</td>\n",
       "    </tr>\n",
       "    <tr>\n",
       "      <th>2011-12-09</th>\n",
       "      <td>C581490</td>\n",
       "      <td>23144</td>\n",
       "      <td>ZINC T-LIGHT HOLDER STARS SMALL</td>\n",
       "      <td>-11</td>\n",
       "      <td>2011-12-09 09:57:00</td>\n",
       "      <td>0.83</td>\n",
       "      <td>14397.0</td>\n",
       "      <td>United Kingdom</td>\n",
       "      <td>2011-12-09</td>\n",
       "      <td>-9.13</td>\n",
       "    </tr>\n",
       "    <tr>\n",
       "      <th>2011-12-09</th>\n",
       "      <td>C581499</td>\n",
       "      <td>M</td>\n",
       "      <td>Manual</td>\n",
       "      <td>-1</td>\n",
       "      <td>2011-12-09 10:28:00</td>\n",
       "      <td>224.69</td>\n",
       "      <td>15498.0</td>\n",
       "      <td>United Kingdom</td>\n",
       "      <td>2011-12-09</td>\n",
       "      <td>-224.69</td>\n",
       "    </tr>\n",
       "    <tr>\n",
       "      <th>2011-12-09</th>\n",
       "      <td>C581568</td>\n",
       "      <td>21258</td>\n",
       "      <td>VICTORIAN SEWING BOX LARGE</td>\n",
       "      <td>-5</td>\n",
       "      <td>2011-12-09 11:57:00</td>\n",
       "      <td>10.95</td>\n",
       "      <td>15311.0</td>\n",
       "      <td>United Kingdom</td>\n",
       "      <td>2011-12-09</td>\n",
       "      <td>-54.75</td>\n",
       "    </tr>\n",
       "    <tr>\n",
       "      <th>2011-12-09</th>\n",
       "      <td>C581569</td>\n",
       "      <td>84978</td>\n",
       "      <td>HANGING HEART JAR T-LIGHT HOLDER</td>\n",
       "      <td>-1</td>\n",
       "      <td>2011-12-09 11:58:00</td>\n",
       "      <td>1.25</td>\n",
       "      <td>17315.0</td>\n",
       "      <td>United Kingdom</td>\n",
       "      <td>2011-12-09</td>\n",
       "      <td>-1.25</td>\n",
       "    </tr>\n",
       "    <tr>\n",
       "      <th>2011-12-09</th>\n",
       "      <td>C581569</td>\n",
       "      <td>20979</td>\n",
       "      <td>36 PENCILS TUBE RED RETROSPOT</td>\n",
       "      <td>-5</td>\n",
       "      <td>2011-12-09 11:58:00</td>\n",
       "      <td>1.25</td>\n",
       "      <td>17315.0</td>\n",
       "      <td>United Kingdom</td>\n",
       "      <td>2011-12-09</td>\n",
       "      <td>-6.25</td>\n",
       "    </tr>\n",
       "  </tbody>\n",
       "</table>\n",
       "<p>10624 rows × 10 columns</p>\n",
       "</div>"
      ],
      "text/plain": [
       "           InvoiceNo StockCode                       Description  Quantity  \\\n",
       "Date                                                                         \n",
       "2010-12-01   C536379         D                          Discount        -1   \n",
       "2010-12-01   C536383    35004C   SET OF 3 COLOURED  FLYING DUCKS        -1   \n",
       "2010-12-01   C536391     22556    PLASTERS IN TIN CIRCUS PARADE        -12   \n",
       "2010-12-01   C536391     21984  PACK OF 12 PINK PAISLEY TISSUES        -24   \n",
       "2010-12-01   C536391     21983  PACK OF 12 BLUE PAISLEY TISSUES        -24   \n",
       "...              ...       ...                               ...       ...   \n",
       "2011-12-09   C581490     23144   ZINC T-LIGHT HOLDER STARS SMALL       -11   \n",
       "2011-12-09   C581499         M                            Manual        -1   \n",
       "2011-12-09   C581568     21258        VICTORIAN SEWING BOX LARGE        -5   \n",
       "2011-12-09   C581569     84978  HANGING HEART JAR T-LIGHT HOLDER        -1   \n",
       "2011-12-09   C581569     20979     36 PENCILS TUBE RED RETROSPOT        -5   \n",
       "\n",
       "                   InvoiceDate  UnitPrice  CustomerID         Country  \\\n",
       "Date                                                                    \n",
       "2010-12-01 2010-12-01 09:41:00      27.50     14527.0  United Kingdom   \n",
       "2010-12-01 2010-12-01 09:49:00       4.65     15311.0  United Kingdom   \n",
       "2010-12-01 2010-12-01 10:24:00       1.65     17548.0  United Kingdom   \n",
       "2010-12-01 2010-12-01 10:24:00       0.29     17548.0  United Kingdom   \n",
       "2010-12-01 2010-12-01 10:24:00       0.29     17548.0  United Kingdom   \n",
       "...                        ...        ...         ...             ...   \n",
       "2011-12-09 2011-12-09 09:57:00       0.83     14397.0  United Kingdom   \n",
       "2011-12-09 2011-12-09 10:28:00     224.69     15498.0  United Kingdom   \n",
       "2011-12-09 2011-12-09 11:57:00      10.95     15311.0  United Kingdom   \n",
       "2011-12-09 2011-12-09 11:58:00       1.25     17315.0  United Kingdom   \n",
       "2011-12-09 2011-12-09 11:58:00       1.25     17315.0  United Kingdom   \n",
       "\n",
       "                  Date  Total_Price  \n",
       "Date                                 \n",
       "2010-12-01  2010-12-01       -27.50  \n",
       "2010-12-01  2010-12-01        -4.65  \n",
       "2010-12-01  2010-12-01       -19.80  \n",
       "2010-12-01  2010-12-01        -6.96  \n",
       "2010-12-01  2010-12-01        -6.96  \n",
       "...                ...          ...  \n",
       "2011-12-09  2011-12-09        -9.13  \n",
       "2011-12-09  2011-12-09      -224.69  \n",
       "2011-12-09  2011-12-09       -54.75  \n",
       "2011-12-09  2011-12-09        -1.25  \n",
       "2011-12-09  2011-12-09        -6.25  \n",
       "\n",
       "[10624 rows x 10 columns]"
      ]
     },
     "execution_count": 41,
     "metadata": {},
     "output_type": "execute_result"
    }
   ],
   "source": [
    "df_cancel=df[df['Quantity']<0]\n",
    "df_cancel"
   ]
  },
  {
   "cell_type": "code",
   "execution_count": 42,
   "metadata": {},
   "outputs": [
    {
     "data": {
      "text/plain": [
       "1.9604767590130447"
      ]
     },
     "execution_count": 42,
     "metadata": {},
     "output_type": "execute_result"
    }
   ],
   "source": [
    "# Percentage of cancelled orders\n",
    "(len(df_cancel)/len(df))*100"
   ]
  },
  {
   "cell_type": "code",
   "execution_count": 43,
   "metadata": {},
   "outputs": [
    {
     "data": {
      "text/plain": [
       "-896812.49"
      ]
     },
     "execution_count": 43,
     "metadata": {},
     "output_type": "execute_result"
    }
   ],
   "source": [
    "# Total value of orders cancelled\n",
    "total_val_of_cancelled_orders=df_cancel['Total_Price'].sum()\n",
    "total_val_of_cancelled_orders"
   ]
  },
  {
   "cell_type": "code",
   "execution_count": 44,
   "metadata": {},
   "outputs": [
    {
     "data": {
      "text/plain": [
       "United Kingdom        9192\n",
       "Germany                453\n",
       "EIRE                   302\n",
       "France                 149\n",
       "USA                    112\n",
       "Australia               74\n",
       "Spain                   48\n",
       "Italy                   45\n",
       "Belgium                 38\n",
       "Japan                   37\n",
       "Switzerland             35\n",
       "Portugal                18\n",
       "Malta                   15\n",
       "Norway                  14\n",
       "Sweden                  11\n",
       "Poland                  11\n",
       "Channel Islands         10\n",
       "Finland                 10\n",
       "Denmark                  9\n",
       "Netherlands              8\n",
       "Cyprus                   8\n",
       "Singapore                7\n",
       "Czech Republic           5\n",
       "Hong Kong                4\n",
       "Austria                  3\n",
       "Israel                   2\n",
       "Saudi Arabia             1\n",
       "European Community       1\n",
       "Greece                   1\n",
       "Bahrain                  1\n",
       "Name: Country, dtype: int64"
      ]
     },
     "execution_count": 44,
     "metadata": {},
     "output_type": "execute_result"
    }
   ],
   "source": [
    "count_cancel=df_cancel['Country'].value_counts()\n",
    "count_cancel"
   ]
  },
  {
   "cell_type": "code",
   "execution_count": 45,
   "metadata": {},
   "outputs": [
    {
     "data": {
      "text/plain": [
       "<BarContainer object of 10 artists>"
      ]
     },
     "execution_count": 45,
     "metadata": {},
     "output_type": "execute_result"
    },
    {
     "data": {
      "image/png": "[encoded data removed]",
      "text/plain": [
       "<Figure size 1296x216 with 1 Axes>"
      ]
     },
     "metadata": {
      "needs_background": "light"
     },
     "output_type": "display_data"
    }
   ],
   "source": [
    "plt.figure(figsize=(18,3))\n",
    "plt.ylabel('No of Orders Cancelled')\n",
    "plt.xlabel('Country')\n",
    "plt.bar(count_cancel.index[:10],count_cancel.values[:10],log=True)"
   ]
  },
  {
   "cell_type": "markdown",
   "metadata": {},
   "source": [
    "From the above bar graph, it is observed that above 9000 orders were cancelled from UK contributing 2 percent of total orders and it is obvious as most of the orders are placed in UK. "
   ]
  },
  {
   "cell_type": "code",
   "execution_count": 46,
   "metadata": {},
   "outputs": [],
   "source": [
    "import jovian"
   ]
  },
  {
   "cell_type": "code",
   "execution_count": 47,
   "metadata": {},
   "outputs": [
    {
     "data": {
      "application/javascript": [
       "window.require && require([\"base/js/namespace\"],function(Jupyter){Jupyter.notebook.save_checkpoint()})"
      ],
      "text/plain": [
       "<IPython.core.display.Javascript object>"
      ]
     },
     "metadata": {},
     "output_type": "display_data"
    },
    {
     "name": "stdout",
     "output_type": "stream",
     "text": [
      "[jovian] Updating notebook \"vishalvinayt/ecommerce-data\" on https://jovian.ai/\n",
      "[jovian] Committed successfully! https://jovian.ai/vishalvinayt/ecommerce-data\n"
     ]
    },
    {
     "data": {
      "text/plain": [
       "'https://jovian.ai/vishalvinayt/ecommerce-data'"
      ]
     },
     "execution_count": 47,
     "metadata": {},
     "output_type": "execute_result"
    }
   ],
   "source": [
    "jovian.commit()"
   ]
  },
  {
   "cell_type": "markdown",
   "metadata": {},
   "source": [
    "## Asking and Answering Questions\n"
   ]
  },
  {
   "cell_type": "markdown",
   "metadata": {},
   "source": [
    "#### Q1: TODO - What are the Monthly sales ?"
   ]
  },
  {
   "cell_type": "markdown",
   "metadata": {},
   "source": [
    "This question can be answered by creating a new column named 'Month' by converting the InvoiceDate column to monthly format. Later, grouping the month column by taking sum of the Total_Price. "
   ]
  },
  {
   "cell_type": "code",
   "execution_count": 48,
   "metadata": {},
   "outputs": [],
   "source": [
    "df['Month']=df['InvoiceDate'].dt.strftime('%Y %m')"
   ]
  },
  {
   "cell_type": "code",
   "execution_count": 49,
   "metadata": {},
   "outputs": [
    {
     "data": {
      "text/plain": [
       "Month\n",
       "2010 12     748957.020\n",
       "2011 01     560000.260\n",
       "2011 02     498062.650\n",
       "2011 03     683267.080\n",
       "2011 04     493207.121\n",
       "2011 05     723333.510\n",
       "2011 06     691123.120\n",
       "2011 07     681300.111\n",
       "2011 08     682680.510\n",
       "2011 09    1019687.622\n",
       "2011 10    1070704.670\n",
       "2011 11    1461756.250\n",
       "2011 12     433668.010\n",
       "Name: Total_Price, dtype: float64"
      ]
     },
     "execution_count": 49,
     "metadata": {},
     "output_type": "execute_result"
    }
   ],
   "source": [
    "df_month=df.groupby('Month')['Total_Price'].sum()\n",
    "df_month"
   ]
  },
  {
   "cell_type": "markdown",
   "metadata": {},
   "source": [
    "The above tabel consists of the sum of Total_Price for each month."
   ]
  },
  {
   "cell_type": "code",
   "execution_count": 50,
   "metadata": {},
   "outputs": [
    {
     "data": {
      "text/plain": [
       "[<matplotlib.lines.Line2D at 0x1b5270aefa0>]"
      ]
     },
     "execution_count": 50,
     "metadata": {},
     "output_type": "execute_result"
    },
    {
     "data": {
      "image/png": "[encoded data removed]",
      "text/plain": [
       "<Figure size 1080x360 with 1 Axes>"
      ]
     },
     "metadata": {
      "needs_background": "light"
     },
     "output_type": "display_data"
    }
   ],
   "source": [
    "\n",
    "plt.figure(figsize=(15,5))\n",
    "plt.xlabel('Month')\n",
    "plt.ylabel('Sales')\n",
    "plt.plot(df_month.index,df_month.values,marker='.',markersize=10)"
   ]
  },
  {
   "cell_type": "markdown",
   "metadata": {},
   "source": [
    "It appears that the maximum sales occured in the month of November compared to other months, perhaps due to black friday sale that ocuurs in the november month."
   ]
  },
  {
   "cell_type": "markdown",
   "metadata": {},
   "source": [
    "#### Q2: TODO - What are monthly sales of top 10 products ?\n"
   ]
  },
  {
   "cell_type": "markdown",
   "metadata": {},
   "source": [
    "This question can be answered by counting number of times each product has been ordered. Later, grouping both the month and description columns by taking sum of the Total_Price of each product follwed by filtering the top ten products. "
   ]
  },
  {
   "cell_type": "code",
   "execution_count": 51,
   "metadata": {},
   "outputs": [
    {
     "data": {
      "text/plain": [
       "WHITE HANGING HEART T-LIGHT HOLDER    2369\n",
       "REGENCY CAKESTAND 3 TIER              2200\n",
       "JUMBO BAG RED RETROSPOT               2159\n",
       "PARTY BUNTING                         1727\n",
       "LUNCH BAG RED RETROSPOT               1638\n",
       "                                      ... \n",
       "website fixed                            1\n",
       "SET OF 4 KNICK KNACK TINS  DOILEY        1\n",
       "wrongly marked carton 22804              1\n",
       "BLUE GINGHAM ROSE CUSHION COVER          1\n",
       "KEEP OUT GIRLS DOOR HANGER               1\n",
       "Name: Description, Length: 4223, dtype: int64"
      ]
     },
     "execution_count": 51,
     "metadata": {},
     "output_type": "execute_result"
    }
   ],
   "source": [
    "top_products=df['Description'].value_counts().sort_values(ascending=False)\n",
    "top_products"
   ]
  },
  {
   "cell_type": "code",
   "execution_count": 52,
   "metadata": {
    "scrolled": true
   },
   "outputs": [
    {
     "data": {
      "text/html": [
       "<div>\n",
       "<style scoped>\n",
       "    .dataframe tbody tr th:only-of-type {\n",
       "        vertical-align: middle;\n",
       "    }\n",
       "\n",
       "    .dataframe tbody tr th {\n",
       "        vertical-align: top;\n",
       "    }\n",
       "\n",
       "    .dataframe thead th {\n",
       "        text-align: right;\n",
       "    }\n",
       "</style>\n",
       "<table border=\"1\" class=\"dataframe\">\n",
       "  <thead>\n",
       "    <tr style=\"text-align: right;\">\n",
       "      <th>Description</th>\n",
       "      <th>4 PURPLE FLOCK DINNER CANDLES</th>\n",
       "      <th>50'S CHRISTMAS GIFT BAG LARGE</th>\n",
       "      <th>DOLLY GIRL BEAKER</th>\n",
       "      <th>I LOVE LONDON MINI BACKPACK</th>\n",
       "      <th>I LOVE LONDON MINI RUCKSACK</th>\n",
       "      <th>NINE DRAWER OFFICE TIDY</th>\n",
       "      <th>OVAL WALL MIRROR DIAMANTE</th>\n",
       "      <th>RED SPOT GIFT BAG LARGE</th>\n",
       "      <th>SET 2 TEA TOWELS I LOVE LONDON</th>\n",
       "      <th>SPACEBOY BABY GIFT SET</th>\n",
       "      <th>...</th>\n",
       "      <th>wrongly coded 20713</th>\n",
       "      <th>wrongly coded 23343</th>\n",
       "      <th>wrongly coded-23343</th>\n",
       "      <th>wrongly marked</th>\n",
       "      <th>wrongly marked 23343</th>\n",
       "      <th>wrongly marked carton 22804</th>\n",
       "      <th>wrongly marked. 23343 in box</th>\n",
       "      <th>wrongly sold (22719) barcode</th>\n",
       "      <th>wrongly sold as sets</th>\n",
       "      <th>wrongly sold sets</th>\n",
       "    </tr>\n",
       "    <tr>\n",
       "      <th>Month</th>\n",
       "      <th></th>\n",
       "      <th></th>\n",
       "      <th></th>\n",
       "      <th></th>\n",
       "      <th></th>\n",
       "      <th></th>\n",
       "      <th></th>\n",
       "      <th></th>\n",
       "      <th></th>\n",
       "      <th></th>\n",
       "      <th></th>\n",
       "      <th></th>\n",
       "      <th></th>\n",
       "      <th></th>\n",
       "      <th></th>\n",
       "      <th></th>\n",
       "      <th></th>\n",
       "      <th></th>\n",
       "      <th></th>\n",
       "      <th></th>\n",
       "      <th></th>\n",
       "    </tr>\n",
       "  </thead>\n",
       "  <tbody>\n",
       "    <tr>\n",
       "      <th>2010 12</th>\n",
       "      <td>45.82</td>\n",
       "      <td>NaN</td>\n",
       "      <td>NaN</td>\n",
       "      <td>NaN</td>\n",
       "      <td>NaN</td>\n",
       "      <td>NaN</td>\n",
       "      <td>283.03</td>\n",
       "      <td>NaN</td>\n",
       "      <td>1015.79</td>\n",
       "      <td>NaN</td>\n",
       "      <td>...</td>\n",
       "      <td>NaN</td>\n",
       "      <td>NaN</td>\n",
       "      <td>NaN</td>\n",
       "      <td>NaN</td>\n",
       "      <td>NaN</td>\n",
       "      <td>NaN</td>\n",
       "      <td>NaN</td>\n",
       "      <td>NaN</td>\n",
       "      <td>NaN</td>\n",
       "      <td>NaN</td>\n",
       "    </tr>\n",
       "    <tr>\n",
       "      <th>2011 01</th>\n",
       "      <td>5.10</td>\n",
       "      <td>NaN</td>\n",
       "      <td>NaN</td>\n",
       "      <td>NaN</td>\n",
       "      <td>NaN</td>\n",
       "      <td>NaN</td>\n",
       "      <td>210.95</td>\n",
       "      <td>NaN</td>\n",
       "      <td>1178.56</td>\n",
       "      <td>NaN</td>\n",
       "      <td>...</td>\n",
       "      <td>NaN</td>\n",
       "      <td>NaN</td>\n",
       "      <td>NaN</td>\n",
       "      <td>NaN</td>\n",
       "      <td>NaN</td>\n",
       "      <td>NaN</td>\n",
       "      <td>NaN</td>\n",
       "      <td>NaN</td>\n",
       "      <td>NaN</td>\n",
       "      <td>NaN</td>\n",
       "    </tr>\n",
       "    <tr>\n",
       "      <th>2011 02</th>\n",
       "      <td>2.55</td>\n",
       "      <td>NaN</td>\n",
       "      <td>NaN</td>\n",
       "      <td>NaN</td>\n",
       "      <td>NaN</td>\n",
       "      <td>NaN</td>\n",
       "      <td>217.59</td>\n",
       "      <td>NaN</td>\n",
       "      <td>660.15</td>\n",
       "      <td>NaN</td>\n",
       "      <td>...</td>\n",
       "      <td>NaN</td>\n",
       "      <td>NaN</td>\n",
       "      <td>NaN</td>\n",
       "      <td>NaN</td>\n",
       "      <td>NaN</td>\n",
       "      <td>NaN</td>\n",
       "      <td>NaN</td>\n",
       "      <td>NaN</td>\n",
       "      <td>NaN</td>\n",
       "      <td>NaN</td>\n",
       "    </tr>\n",
       "    <tr>\n",
       "      <th>2011 03</th>\n",
       "      <td>NaN</td>\n",
       "      <td>NaN</td>\n",
       "      <td>NaN</td>\n",
       "      <td>NaN</td>\n",
       "      <td>NaN</td>\n",
       "      <td>NaN</td>\n",
       "      <td>187.62</td>\n",
       "      <td>NaN</td>\n",
       "      <td>3050.68</td>\n",
       "      <td>2244.84</td>\n",
       "      <td>...</td>\n",
       "      <td>NaN</td>\n",
       "      <td>NaN</td>\n",
       "      <td>NaN</td>\n",
       "      <td>NaN</td>\n",
       "      <td>NaN</td>\n",
       "      <td>NaN</td>\n",
       "      <td>NaN</td>\n",
       "      <td>0.0</td>\n",
       "      <td>0.0</td>\n",
       "      <td>0.0</td>\n",
       "    </tr>\n",
       "    <tr>\n",
       "      <th>2011 04</th>\n",
       "      <td>20.40</td>\n",
       "      <td>NaN</td>\n",
       "      <td>NaN</td>\n",
       "      <td>NaN</td>\n",
       "      <td>NaN</td>\n",
       "      <td>NaN</td>\n",
       "      <td>245.48</td>\n",
       "      <td>NaN</td>\n",
       "      <td>1046.74</td>\n",
       "      <td>680.85</td>\n",
       "      <td>...</td>\n",
       "      <td>NaN</td>\n",
       "      <td>NaN</td>\n",
       "      <td>NaN</td>\n",
       "      <td>NaN</td>\n",
       "      <td>NaN</td>\n",
       "      <td>NaN</td>\n",
       "      <td>NaN</td>\n",
       "      <td>NaN</td>\n",
       "      <td>NaN</td>\n",
       "      <td>NaN</td>\n",
       "    </tr>\n",
       "    <tr>\n",
       "      <th>2011 05</th>\n",
       "      <td>7.65</td>\n",
       "      <td>NaN</td>\n",
       "      <td>NaN</td>\n",
       "      <td>NaN</td>\n",
       "      <td>NaN</td>\n",
       "      <td>NaN</td>\n",
       "      <td>325.60</td>\n",
       "      <td>NaN</td>\n",
       "      <td>947.35</td>\n",
       "      <td>795.51</td>\n",
       "      <td>...</td>\n",
       "      <td>NaN</td>\n",
       "      <td>NaN</td>\n",
       "      <td>NaN</td>\n",
       "      <td>NaN</td>\n",
       "      <td>NaN</td>\n",
       "      <td>NaN</td>\n",
       "      <td>NaN</td>\n",
       "      <td>NaN</td>\n",
       "      <td>NaN</td>\n",
       "      <td>NaN</td>\n",
       "    </tr>\n",
       "    <tr>\n",
       "      <th>2011 06</th>\n",
       "      <td>5.10</td>\n",
       "      <td>NaN</td>\n",
       "      <td>NaN</td>\n",
       "      <td>NaN</td>\n",
       "      <td>NaN</td>\n",
       "      <td>NaN</td>\n",
       "      <td>149.42</td>\n",
       "      <td>NaN</td>\n",
       "      <td>175.38</td>\n",
       "      <td>543.36</td>\n",
       "      <td>...</td>\n",
       "      <td>NaN</td>\n",
       "      <td>NaN</td>\n",
       "      <td>NaN</td>\n",
       "      <td>NaN</td>\n",
       "      <td>NaN</td>\n",
       "      <td>NaN</td>\n",
       "      <td>NaN</td>\n",
       "      <td>NaN</td>\n",
       "      <td>NaN</td>\n",
       "      <td>NaN</td>\n",
       "    </tr>\n",
       "    <tr>\n",
       "      <th>2011 07</th>\n",
       "      <td>7.65</td>\n",
       "      <td>NaN</td>\n",
       "      <td>88.71</td>\n",
       "      <td>NaN</td>\n",
       "      <td>NaN</td>\n",
       "      <td>NaN</td>\n",
       "      <td>185.84</td>\n",
       "      <td>NaN</td>\n",
       "      <td>NaN</td>\n",
       "      <td>430.83</td>\n",
       "      <td>...</td>\n",
       "      <td>NaN</td>\n",
       "      <td>NaN</td>\n",
       "      <td>NaN</td>\n",
       "      <td>NaN</td>\n",
       "      <td>NaN</td>\n",
       "      <td>NaN</td>\n",
       "      <td>0.0</td>\n",
       "      <td>NaN</td>\n",
       "      <td>NaN</td>\n",
       "      <td>NaN</td>\n",
       "    </tr>\n",
       "    <tr>\n",
       "      <th>2011 08</th>\n",
       "      <td>2.55</td>\n",
       "      <td>34.92</td>\n",
       "      <td>1103.85</td>\n",
       "      <td>NaN</td>\n",
       "      <td>NaN</td>\n",
       "      <td>NaN</td>\n",
       "      <td>141.19</td>\n",
       "      <td>97.30</td>\n",
       "      <td>NaN</td>\n",
       "      <td>242.25</td>\n",
       "      <td>...</td>\n",
       "      <td>NaN</td>\n",
       "      <td>NaN</td>\n",
       "      <td>NaN</td>\n",
       "      <td>NaN</td>\n",
       "      <td>NaN</td>\n",
       "      <td>NaN</td>\n",
       "      <td>NaN</td>\n",
       "      <td>NaN</td>\n",
       "      <td>NaN</td>\n",
       "      <td>NaN</td>\n",
       "    </tr>\n",
       "    <tr>\n",
       "      <th>2011 09</th>\n",
       "      <td>22.95</td>\n",
       "      <td>416.17</td>\n",
       "      <td>710.55</td>\n",
       "      <td>590.05</td>\n",
       "      <td>NaN</td>\n",
       "      <td>NaN</td>\n",
       "      <td>41.45</td>\n",
       "      <td>489.56</td>\n",
       "      <td>NaN</td>\n",
       "      <td>767.49</td>\n",
       "      <td>...</td>\n",
       "      <td>NaN</td>\n",
       "      <td>NaN</td>\n",
       "      <td>NaN</td>\n",
       "      <td>NaN</td>\n",
       "      <td>NaN</td>\n",
       "      <td>NaN</td>\n",
       "      <td>NaN</td>\n",
       "      <td>NaN</td>\n",
       "      <td>NaN</td>\n",
       "      <td>NaN</td>\n",
       "    </tr>\n",
       "    <tr>\n",
       "      <th>2011 10</th>\n",
       "      <td>7.65</td>\n",
       "      <td>1167.09</td>\n",
       "      <td>640.39</td>\n",
       "      <td>253.14</td>\n",
       "      <td>4.15</td>\n",
       "      <td>520.42</td>\n",
       "      <td>102.81</td>\n",
       "      <td>908.30</td>\n",
       "      <td>NaN</td>\n",
       "      <td>913.88</td>\n",
       "      <td>...</td>\n",
       "      <td>0.0</td>\n",
       "      <td>0.0</td>\n",
       "      <td>0.0</td>\n",
       "      <td>0.0</td>\n",
       "      <td>0.0</td>\n",
       "      <td>NaN</td>\n",
       "      <td>NaN</td>\n",
       "      <td>NaN</td>\n",
       "      <td>NaN</td>\n",
       "      <td>NaN</td>\n",
       "    </tr>\n",
       "    <tr>\n",
       "      <th>2011 11</th>\n",
       "      <td>124.67</td>\n",
       "      <td>633.31</td>\n",
       "      <td>231.74</td>\n",
       "      <td>656.38</td>\n",
       "      <td>NaN</td>\n",
       "      <td>254.40</td>\n",
       "      <td>197.33</td>\n",
       "      <td>506.09</td>\n",
       "      <td>NaN</td>\n",
       "      <td>843.81</td>\n",
       "      <td>...</td>\n",
       "      <td>NaN</td>\n",
       "      <td>NaN</td>\n",
       "      <td>NaN</td>\n",
       "      <td>NaN</td>\n",
       "      <td>NaN</td>\n",
       "      <td>0.0</td>\n",
       "      <td>NaN</td>\n",
       "      <td>NaN</td>\n",
       "      <td>NaN</td>\n",
       "      <td>NaN</td>\n",
       "    </tr>\n",
       "    <tr>\n",
       "      <th>2011 12</th>\n",
       "      <td>38.71</td>\n",
       "      <td>89.64</td>\n",
       "      <td>107.26</td>\n",
       "      <td>128.60</td>\n",
       "      <td>NaN</td>\n",
       "      <td>134.55</td>\n",
       "      <td>63.01</td>\n",
       "      <td>106.17</td>\n",
       "      <td>NaN</td>\n",
       "      <td>194.18</td>\n",
       "      <td>...</td>\n",
       "      <td>NaN</td>\n",
       "      <td>NaN</td>\n",
       "      <td>NaN</td>\n",
       "      <td>NaN</td>\n",
       "      <td>NaN</td>\n",
       "      <td>NaN</td>\n",
       "      <td>NaN</td>\n",
       "      <td>NaN</td>\n",
       "      <td>NaN</td>\n",
       "      <td>NaN</td>\n",
       "    </tr>\n",
       "  </tbody>\n",
       "</table>\n",
       "<p>13 rows × 4223 columns</p>\n",
       "</div>"
      ],
      "text/plain": [
       "Description   4 PURPLE FLOCK DINNER CANDLES   50'S CHRISTMAS GIFT BAG LARGE  \\\n",
       "Month                                                                         \n",
       "2010 12                               45.82                             NaN   \n",
       "2011 01                                5.10                             NaN   \n",
       "2011 02                                2.55                             NaN   \n",
       "2011 03                                 NaN                             NaN   \n",
       "2011 04                               20.40                             NaN   \n",
       "2011 05                                7.65                             NaN   \n",
       "2011 06                                5.10                             NaN   \n",
       "2011 07                                7.65                             NaN   \n",
       "2011 08                                2.55                           34.92   \n",
       "2011 09                               22.95                          416.17   \n",
       "2011 10                                7.65                         1167.09   \n",
       "2011 11                              124.67                          633.31   \n",
       "2011 12                               38.71                           89.64   \n",
       "\n",
       "Description   DOLLY GIRL BEAKER   I LOVE LONDON MINI BACKPACK  \\\n",
       "Month                                                           \n",
       "2010 12                     NaN                           NaN   \n",
       "2011 01                     NaN                           NaN   \n",
       "2011 02                     NaN                           NaN   \n",
       "2011 03                     NaN                           NaN   \n",
       "2011 04                     NaN                           NaN   \n",
       "2011 05                     NaN                           NaN   \n",
       "2011 06                     NaN                           NaN   \n",
       "2011 07                   88.71                           NaN   \n",
       "2011 08                 1103.85                           NaN   \n",
       "2011 09                  710.55                        590.05   \n",
       "2011 10                  640.39                        253.14   \n",
       "2011 11                  231.74                        656.38   \n",
       "2011 12                  107.26                        128.60   \n",
       "\n",
       "Description   I LOVE LONDON MINI RUCKSACK   NINE DRAWER OFFICE TIDY  \\\n",
       "Month                                                                 \n",
       "2010 12                               NaN                       NaN   \n",
       "2011 01                               NaN                       NaN   \n",
       "2011 02                               NaN                       NaN   \n",
       "2011 03                               NaN                       NaN   \n",
       "2011 04                               NaN                       NaN   \n",
       "2011 05                               NaN                       NaN   \n",
       "2011 06                               NaN                       NaN   \n",
       "2011 07                               NaN                       NaN   \n",
       "2011 08                               NaN                       NaN   \n",
       "2011 09                               NaN                       NaN   \n",
       "2011 10                              4.15                    520.42   \n",
       "2011 11                               NaN                    254.40   \n",
       "2011 12                               NaN                    134.55   \n",
       "\n",
       "Description   OVAL WALL MIRROR DIAMANTE    RED SPOT GIFT BAG LARGE  \\\n",
       "Month                                                                \n",
       "2010 12                           283.03                       NaN   \n",
       "2011 01                           210.95                       NaN   \n",
       "2011 02                           217.59                       NaN   \n",
       "2011 03                           187.62                       NaN   \n",
       "2011 04                           245.48                       NaN   \n",
       "2011 05                           325.60                       NaN   \n",
       "2011 06                           149.42                       NaN   \n",
       "2011 07                           185.84                       NaN   \n",
       "2011 08                           141.19                     97.30   \n",
       "2011 09                            41.45                    489.56   \n",
       "2011 10                           102.81                    908.30   \n",
       "2011 11                           197.33                    506.09   \n",
       "2011 12                            63.01                    106.17   \n",
       "\n",
       "Description   SET 2 TEA TOWELS I LOVE LONDON    SPACEBOY BABY GIFT SET  ...  \\\n",
       "Month                                                                   ...   \n",
       "2010 12                               1015.79                      NaN  ...   \n",
       "2011 01                               1178.56                      NaN  ...   \n",
       "2011 02                                660.15                      NaN  ...   \n",
       "2011 03                               3050.68                  2244.84  ...   \n",
       "2011 04                               1046.74                   680.85  ...   \n",
       "2011 05                                947.35                   795.51  ...   \n",
       "2011 06                                175.38                   543.36  ...   \n",
       "2011 07                                   NaN                   430.83  ...   \n",
       "2011 08                                   NaN                   242.25  ...   \n",
       "2011 09                                   NaN                   767.49  ...   \n",
       "2011 10                                   NaN                   913.88  ...   \n",
       "2011 11                                   NaN                   843.81  ...   \n",
       "2011 12                                   NaN                   194.18  ...   \n",
       "\n",
       "Description  wrongly coded 20713  wrongly coded 23343  wrongly coded-23343  \\\n",
       "Month                                                                        \n",
       "2010 12                      NaN                  NaN                  NaN   \n",
       "2011 01                      NaN                  NaN                  NaN   \n",
       "2011 02                      NaN                  NaN                  NaN   \n",
       "2011 03                      NaN                  NaN                  NaN   \n",
       "2011 04                      NaN                  NaN                  NaN   \n",
       "2011 05                      NaN                  NaN                  NaN   \n",
       "2011 06                      NaN                  NaN                  NaN   \n",
       "2011 07                      NaN                  NaN                  NaN   \n",
       "2011 08                      NaN                  NaN                  NaN   \n",
       "2011 09                      NaN                  NaN                  NaN   \n",
       "2011 10                      0.0                  0.0                  0.0   \n",
       "2011 11                      NaN                  NaN                  NaN   \n",
       "2011 12                      NaN                  NaN                  NaN   \n",
       "\n",
       "Description  wrongly marked  wrongly marked 23343  \\\n",
       "Month                                               \n",
       "2010 12                 NaN                   NaN   \n",
       "2011 01                 NaN                   NaN   \n",
       "2011 02                 NaN                   NaN   \n",
       "2011 03                 NaN                   NaN   \n",
       "2011 04                 NaN                   NaN   \n",
       "2011 05                 NaN                   NaN   \n",
       "2011 06                 NaN                   NaN   \n",
       "2011 07                 NaN                   NaN   \n",
       "2011 08                 NaN                   NaN   \n",
       "2011 09                 NaN                   NaN   \n",
       "2011 10                 0.0                   0.0   \n",
       "2011 11                 NaN                   NaN   \n",
       "2011 12                 NaN                   NaN   \n",
       "\n",
       "Description  wrongly marked carton 22804  wrongly marked. 23343 in box  \\\n",
       "Month                                                                    \n",
       "2010 12                              NaN                           NaN   \n",
       "2011 01                              NaN                           NaN   \n",
       "2011 02                              NaN                           NaN   \n",
       "2011 03                              NaN                           NaN   \n",
       "2011 04                              NaN                           NaN   \n",
       "2011 05                              NaN                           NaN   \n",
       "2011 06                              NaN                           NaN   \n",
       "2011 07                              NaN                           0.0   \n",
       "2011 08                              NaN                           NaN   \n",
       "2011 09                              NaN                           NaN   \n",
       "2011 10                              NaN                           NaN   \n",
       "2011 11                              0.0                           NaN   \n",
       "2011 12                              NaN                           NaN   \n",
       "\n",
       "Description  wrongly sold (22719) barcode  wrongly sold as sets  \\\n",
       "Month                                                             \n",
       "2010 12                               NaN                   NaN   \n",
       "2011 01                               NaN                   NaN   \n",
       "2011 02                               NaN                   NaN   \n",
       "2011 03                               0.0                   0.0   \n",
       "2011 04                               NaN                   NaN   \n",
       "2011 05                               NaN                   NaN   \n",
       "2011 06                               NaN                   NaN   \n",
       "2011 07                               NaN                   NaN   \n",
       "2011 08                               NaN                   NaN   \n",
       "2011 09                               NaN                   NaN   \n",
       "2011 10                               NaN                   NaN   \n",
       "2011 11                               NaN                   NaN   \n",
       "2011 12                               NaN                   NaN   \n",
       "\n",
       "Description  wrongly sold sets  \n",
       "Month                           \n",
       "2010 12                    NaN  \n",
       "2011 01                    NaN  \n",
       "2011 02                    NaN  \n",
       "2011 03                    0.0  \n",
       "2011 04                    NaN  \n",
       "2011 05                    NaN  \n",
       "2011 06                    NaN  \n",
       "2011 07                    NaN  \n",
       "2011 08                    NaN  \n",
       "2011 09                    NaN  \n",
       "2011 10                    NaN  \n",
       "2011 11                    NaN  \n",
       "2011 12                    NaN  \n",
       "\n",
       "[13 rows x 4223 columns]"
      ]
     },
     "execution_count": 52,
     "metadata": {},
     "output_type": "execute_result"
    }
   ],
   "source": [
    "product_monthly_sales=df.groupby(['Month','Description'])['Total_Price'].sum().unstack()\n",
    "product_monthly_sales"
   ]
  },
  {
   "cell_type": "code",
   "execution_count": 53,
   "metadata": {},
   "outputs": [
    {
     "data": {
      "text/html": [
       "<div>\n",
       "<style scoped>\n",
       "    .dataframe tbody tr th:only-of-type {\n",
       "        vertical-align: middle;\n",
       "    }\n",
       "\n",
       "    .dataframe tbody tr th {\n",
       "        vertical-align: top;\n",
       "    }\n",
       "\n",
       "    .dataframe thead th {\n",
       "        text-align: right;\n",
       "    }\n",
       "</style>\n",
       "<table border=\"1\" class=\"dataframe\">\n",
       "  <thead>\n",
       "    <tr style=\"text-align: right;\">\n",
       "      <th>Description</th>\n",
       "      <th>WHITE HANGING HEART T-LIGHT HOLDER</th>\n",
       "      <th>REGENCY CAKESTAND 3 TIER</th>\n",
       "      <th>JUMBO BAG RED RETROSPOT</th>\n",
       "      <th>PARTY BUNTING</th>\n",
       "      <th>LUNCH BAG RED RETROSPOT</th>\n",
       "      <th>ASSORTED COLOUR BIRD ORNAMENT</th>\n",
       "      <th>SET OF 3 CAKE TINS PANTRY DESIGN</th>\n",
       "      <th>PACK OF 72 RETROSPOT CAKE CASES</th>\n",
       "      <th>LUNCH BAG  BLACK SKULL.</th>\n",
       "      <th>NATURAL SLATE HEART CHALKBOARD</th>\n",
       "    </tr>\n",
       "    <tr>\n",
       "      <th>Month</th>\n",
       "      <th></th>\n",
       "      <th></th>\n",
       "      <th></th>\n",
       "      <th></th>\n",
       "      <th></th>\n",
       "      <th></th>\n",
       "      <th></th>\n",
       "      <th></th>\n",
       "      <th></th>\n",
       "      <th></th>\n",
       "    </tr>\n",
       "  </thead>\n",
       "  <tbody>\n",
       "    <tr>\n",
       "      <th>2010 12</th>\n",
       "      <td>9877.82</td>\n",
       "      <td>26897.36</td>\n",
       "      <td>3972.35</td>\n",
       "      <td>1207.74</td>\n",
       "      <td>1443.04</td>\n",
       "      <td>3985.87</td>\n",
       "      <td>1387.87</td>\n",
       "      <td>2665.08</td>\n",
       "      <td>1045.95</td>\n",
       "      <td>2097.26</td>\n",
       "    </tr>\n",
       "    <tr>\n",
       "      <th>2011 01</th>\n",
       "      <td>15245.00</td>\n",
       "      <td>11742.50</td>\n",
       "      <td>4868.85</td>\n",
       "      <td>2288.36</td>\n",
       "      <td>2086.50</td>\n",
       "      <td>2920.59</td>\n",
       "      <td>5133.77</td>\n",
       "      <td>1675.17</td>\n",
       "      <td>1327.67</td>\n",
       "      <td>2398.57</td>\n",
       "    </tr>\n",
       "    <tr>\n",
       "      <th>2011 02</th>\n",
       "      <td>5132.06</td>\n",
       "      <td>10466.04</td>\n",
       "      <td>5613.64</td>\n",
       "      <td>4347.90</td>\n",
       "      <td>2027.47</td>\n",
       "      <td>2736.35</td>\n",
       "      <td>3473.92</td>\n",
       "      <td>1176.61</td>\n",
       "      <td>818.03</td>\n",
       "      <td>1627.50</td>\n",
       "    </tr>\n",
       "    <tr>\n",
       "      <th>2011 03</th>\n",
       "      <td>5550.95</td>\n",
       "      <td>16830.60</td>\n",
       "      <td>10116.43</td>\n",
       "      <td>9098.27</td>\n",
       "      <td>2734.97</td>\n",
       "      <td>4280.73</td>\n",
       "      <td>4098.90</td>\n",
       "      <td>2293.53</td>\n",
       "      <td>1733.68</td>\n",
       "      <td>2682.15</td>\n",
       "    </tr>\n",
       "    <tr>\n",
       "      <th>2011 04</th>\n",
       "      <td>5078.59</td>\n",
       "      <td>14280.90</td>\n",
       "      <td>4870.92</td>\n",
       "      <td>10323.87</td>\n",
       "      <td>2405.29</td>\n",
       "      <td>4174.24</td>\n",
       "      <td>407.57</td>\n",
       "      <td>1749.11</td>\n",
       "      <td>862.37</td>\n",
       "      <td>1995.31</td>\n",
       "    </tr>\n",
       "    <tr>\n",
       "      <th>2011 05</th>\n",
       "      <td>11371.07</td>\n",
       "      <td>12217.27</td>\n",
       "      <td>7114.70</td>\n",
       "      <td>19123.00</td>\n",
       "      <td>4173.88</td>\n",
       "      <td>5050.43</td>\n",
       "      <td>102.56</td>\n",
       "      <td>1987.75</td>\n",
       "      <td>1941.50</td>\n",
       "      <td>2030.49</td>\n",
       "    </tr>\n",
       "    <tr>\n",
       "      <th>2011 06</th>\n",
       "      <td>4651.28</td>\n",
       "      <td>9466.39</td>\n",
       "      <td>7237.27</td>\n",
       "      <td>12457.12</td>\n",
       "      <td>3082.69</td>\n",
       "      <td>2587.08</td>\n",
       "      <td>3649.67</td>\n",
       "      <td>1149.66</td>\n",
       "      <td>1945.10</td>\n",
       "      <td>1565.28</td>\n",
       "    </tr>\n",
       "    <tr>\n",
       "      <th>2011 07</th>\n",
       "      <td>8609.43</td>\n",
       "      <td>13777.56</td>\n",
       "      <td>6247.63</td>\n",
       "      <td>14576.50</td>\n",
       "      <td>2754.78</td>\n",
       "      <td>3127.80</td>\n",
       "      <td>2477.07</td>\n",
       "      <td>1589.30</td>\n",
       "      <td>2345.73</td>\n",
       "      <td>2271.24</td>\n",
       "    </tr>\n",
       "    <tr>\n",
       "      <th>2011 08</th>\n",
       "      <td>5702.43</td>\n",
       "      <td>8406.30</td>\n",
       "      <td>10615.77</td>\n",
       "      <td>9655.25</td>\n",
       "      <td>4002.01</td>\n",
       "      <td>9880.56</td>\n",
       "      <td>3135.31</td>\n",
       "      <td>1598.99</td>\n",
       "      <td>2884.80</td>\n",
       "      <td>1635.25</td>\n",
       "    </tr>\n",
       "    <tr>\n",
       "      <th>2011 09</th>\n",
       "      <td>7058.31</td>\n",
       "      <td>9315.03</td>\n",
       "      <td>8634.61</td>\n",
       "      <td>6133.50</td>\n",
       "      <td>2816.32</td>\n",
       "      <td>4966.48</td>\n",
       "      <td>6260.38</td>\n",
       "      <td>1777.60</td>\n",
       "      <td>2612.60</td>\n",
       "      <td>2071.60</td>\n",
       "    </tr>\n",
       "    <tr>\n",
       "      <th>2011 10</th>\n",
       "      <td>4842.24</td>\n",
       "      <td>12660.84</td>\n",
       "      <td>9409.95</td>\n",
       "      <td>3461.93</td>\n",
       "      <td>2752.90</td>\n",
       "      <td>4645.92</td>\n",
       "      <td>2968.47</td>\n",
       "      <td>1193.25</td>\n",
       "      <td>1737.58</td>\n",
       "      <td>2352.62</td>\n",
       "    </tr>\n",
       "    <tr>\n",
       "      <th>2011 11</th>\n",
       "      <td>14345.22</td>\n",
       "      <td>12798.48</td>\n",
       "      <td>11458.21</td>\n",
       "      <td>4711.06</td>\n",
       "      <td>3841.11</td>\n",
       "      <td>8440.94</td>\n",
       "      <td>3269.40</td>\n",
       "      <td>1696.80</td>\n",
       "      <td>2278.46</td>\n",
       "      <td>2596.73</td>\n",
       "    </tr>\n",
       "    <tr>\n",
       "      <th>2011 12</th>\n",
       "      <td>2204.07</td>\n",
       "      <td>5902.92</td>\n",
       "      <td>2195.70</td>\n",
       "      <td>918.48</td>\n",
       "      <td>776.35</td>\n",
       "      <td>2162.74</td>\n",
       "      <td>1048.55</td>\n",
       "      <td>506.87</td>\n",
       "      <td>685.54</td>\n",
       "      <td>2671.36</td>\n",
       "    </tr>\n",
       "  </tbody>\n",
       "</table>\n",
       "</div>"
      ],
      "text/plain": [
       "Description  WHITE HANGING HEART T-LIGHT HOLDER  REGENCY CAKESTAND 3 TIER  \\\n",
       "Month                                                                       \n",
       "2010 12                                 9877.82                  26897.36   \n",
       "2011 01                                15245.00                  11742.50   \n",
       "2011 02                                 5132.06                  10466.04   \n",
       "2011 03                                 5550.95                  16830.60   \n",
       "2011 04                                 5078.59                  14280.90   \n",
       "2011 05                                11371.07                  12217.27   \n",
       "2011 06                                 4651.28                   9466.39   \n",
       "2011 07                                 8609.43                  13777.56   \n",
       "2011 08                                 5702.43                   8406.30   \n",
       "2011 09                                 7058.31                   9315.03   \n",
       "2011 10                                 4842.24                  12660.84   \n",
       "2011 11                                14345.22                  12798.48   \n",
       "2011 12                                 2204.07                   5902.92   \n",
       "\n",
       "Description  JUMBO BAG RED RETROSPOT  PARTY BUNTING  LUNCH BAG RED RETROSPOT  \\\n",
       "Month                                                                          \n",
       "2010 12                      3972.35        1207.74                  1443.04   \n",
       "2011 01                      4868.85        2288.36                  2086.50   \n",
       "2011 02                      5613.64        4347.90                  2027.47   \n",
       "2011 03                     10116.43        9098.27                  2734.97   \n",
       "2011 04                      4870.92       10323.87                  2405.29   \n",
       "2011 05                      7114.70       19123.00                  4173.88   \n",
       "2011 06                      7237.27       12457.12                  3082.69   \n",
       "2011 07                      6247.63       14576.50                  2754.78   \n",
       "2011 08                     10615.77        9655.25                  4002.01   \n",
       "2011 09                      8634.61        6133.50                  2816.32   \n",
       "2011 10                      9409.95        3461.93                  2752.90   \n",
       "2011 11                     11458.21        4711.06                  3841.11   \n",
       "2011 12                      2195.70         918.48                   776.35   \n",
       "\n",
       "Description  ASSORTED COLOUR BIRD ORNAMENT  SET OF 3 CAKE TINS PANTRY DESIGN   \\\n",
       "Month                                                                           \n",
       "2010 12                            3985.87                            1387.87   \n",
       "2011 01                            2920.59                            5133.77   \n",
       "2011 02                            2736.35                            3473.92   \n",
       "2011 03                            4280.73                            4098.90   \n",
       "2011 04                            4174.24                             407.57   \n",
       "2011 05                            5050.43                             102.56   \n",
       "2011 06                            2587.08                            3649.67   \n",
       "2011 07                            3127.80                            2477.07   \n",
       "2011 08                            9880.56                            3135.31   \n",
       "2011 09                            4966.48                            6260.38   \n",
       "2011 10                            4645.92                            2968.47   \n",
       "2011 11                            8440.94                            3269.40   \n",
       "2011 12                            2162.74                            1048.55   \n",
       "\n",
       "Description  PACK OF 72 RETROSPOT CAKE CASES  LUNCH BAG  BLACK SKULL.  \\\n",
       "Month                                                                   \n",
       "2010 12                              2665.08                  1045.95   \n",
       "2011 01                              1675.17                  1327.67   \n",
       "2011 02                              1176.61                   818.03   \n",
       "2011 03                              2293.53                  1733.68   \n",
       "2011 04                              1749.11                   862.37   \n",
       "2011 05                              1987.75                  1941.50   \n",
       "2011 06                              1149.66                  1945.10   \n",
       "2011 07                              1589.30                  2345.73   \n",
       "2011 08                              1598.99                  2884.80   \n",
       "2011 09                              1777.60                  2612.60   \n",
       "2011 10                              1193.25                  1737.58   \n",
       "2011 11                              1696.80                  2278.46   \n",
       "2011 12                               506.87                   685.54   \n",
       "\n",
       "Description  NATURAL SLATE HEART CHALKBOARD   \n",
       "Month                                         \n",
       "2010 12                              2097.26  \n",
       "2011 01                              2398.57  \n",
       "2011 02                              1627.50  \n",
       "2011 03                              2682.15  \n",
       "2011 04                              1995.31  \n",
       "2011 05                              2030.49  \n",
       "2011 06                              1565.28  \n",
       "2011 07                              2271.24  \n",
       "2011 08                              1635.25  \n",
       "2011 09                              2071.60  \n",
       "2011 10                              2352.62  \n",
       "2011 11                              2596.73  \n",
       "2011 12                              2671.36  "
      ]
     },
     "execution_count": 53,
     "metadata": {},
     "output_type": "execute_result"
    }
   ],
   "source": [
    "top_product_monthly_sales=product_monthly_sales[top_products.index[:10]]\n",
    "top_product_monthly_sales\n"
   ]
  },
  {
   "cell_type": "code",
   "execution_count": 54,
   "metadata": {},
   "outputs": [
    {
     "data": {
      "text/plain": [
       "<matplotlib.legend.Legend at 0x1b522137f10>"
      ]
     },
     "execution_count": 54,
     "metadata": {},
     "output_type": "execute_result"
    },
    {
     "data": {
      "image/png": "[encoded data removed]",
      "text/plain": [
       "<Figure size 1080x720 with 1 Axes>"
      ]
     },
     "metadata": {
      "needs_background": "light"
     },
     "output_type": "display_data"
    }
   ],
   "source": [
    "plt.figure(figsize=(15,10))\n",
    "plt.ylabel('Sales')\n",
    "for i in top_product_monthly_sales.columns:\n",
    "    sns.lineplot(x=top_product_monthly_sales.index,y=top_product_monthly_sales[i],label=i,marker='*',markersize=15)\n",
    "plt.legend(bbox_to_anchor=(1.05, 1), loc='upper left', borderaxespad=0)"
   ]
  },
  {
   "cell_type": "markdown",
   "metadata": {},
   "source": [
    "The graph above demostrates the line line plots for top ten products. It is observed that  'Regency Cakesstand 3Tier' has most sales in the starting months but later on the sales have droped drastiacally. whereas 'White Hanging Heart T-Light Holder' has constant high sales for all the months so it has been the most selling product. "
   ]
  },
  {
   "cell_type": "markdown",
   "metadata": {},
   "source": [
    "#### Q3: TODO - Which day the sales are more ?"
   ]
  },
  {
   "cell_type": "markdown",
   "metadata": {},
   "source": [
    "This question can be answered by creating a new column named 'Day' by converting the InvoiceDate column to Day format which represent the days of the week. Later, grouping the Day column by taking sum of the Total_Price. "
   ]
  },
  {
   "cell_type": "code",
   "execution_count": 55,
   "metadata": {},
   "outputs": [],
   "source": [
    "df[\"Day\"]=df['InvoiceDate'].dt.strftime('%A')"
   ]
  },
  {
   "cell_type": "code",
   "execution_count": 56,
   "metadata": {},
   "outputs": [
    {
     "data": {
      "text/plain": [
       "Day\n",
       "Friday       1540610.811\n",
       "Monday       1588609.431\n",
       "Sunday        805678.891\n",
       "Thursday     2112519.000\n",
       "Tuesday      1966182.791\n",
       "Wednesday    1734147.010\n",
       "Name: Total_Price, dtype: float64"
      ]
     },
     "execution_count": 56,
     "metadata": {},
     "output_type": "execute_result"
    }
   ],
   "source": [
    "day_sales=df.groupby('Day')['Total_Price'].sum()\n",
    "day_sales"
   ]
  },
  {
   "cell_type": "markdown",
   "metadata": {},
   "source": [
    "The above table demostrates the days and the sum of the Total_Price on the pirticular days."
   ]
  },
  {
   "cell_type": "code",
   "execution_count": 57,
   "metadata": {},
   "outputs": [
    {
     "data": {
      "text/plain": [
       "Day\n",
       "Sunday        805678.891\n",
       "Monday       1588609.431\n",
       "Tuesday      1966182.791\n",
       "Wednesday    1734147.010\n",
       "Thursday     2112519.000\n",
       "Friday       1540610.811\n",
       "Saturday             NaN\n",
       "Name: Total_Price, dtype: float64"
      ]
     },
     "execution_count": 57,
     "metadata": {},
     "output_type": "execute_result"
    }
   ],
   "source": [
    "days=['Sunday','Monday','Tuesday','Wednesday','Thursday','Friday','Saturday']\n",
    "day_sales=day_sales.reindex(days)\n",
    "day_sales"
   ]
  },
  {
   "cell_type": "code",
   "execution_count": 58,
   "metadata": {},
   "outputs": [
    {
     "data": {
      "text/plain": [
       "[<matplotlib.lines.Line2D at 0x1b521e5e040>]"
      ]
     },
     "execution_count": 58,
     "metadata": {},
     "output_type": "execute_result"
    },
    {
     "data": {
      "image/png": "[encoded data removed]",
      "text/plain": [
       "<Figure size 648x360 with 1 Axes>"
      ]
     },
     "metadata": {
      "needs_background": "light"
     },
     "output_type": "display_data"
    }
   ],
   "source": [
    "plt.xlabel('Days')\n",
    "plt.ylabel('Sales')\n",
    "plt.plot(day_sales.index,day_sales.values,marker='+',markersize=15,color='green')"
   ]
  },
  {
   "cell_type": "markdown",
   "metadata": {},
   "source": [
    "It appears that sales are lowest on sundays and highest on thrusdays. It is also observed that there are no sales on saturdays by which we can assume that saturdays are holiday for the given eCommerce website. "
   ]
  },
  {
   "cell_type": "markdown",
   "metadata": {},
   "source": [
    "#### Q4: TODO -  How many customers are ordering every month ?"
   ]
  },
  {
   "cell_type": "markdown",
   "metadata": {},
   "source": [
    "To answer this question we filter only the registered customers(i.e customers with CustomerID) and customers without CustomerID has been neglected. Later, grouping the dataframe by month and creating a list consisting of month and unique customers in the pirticular month by this we can study the amount of customers ordering every month and also we can identify new customers."
   ]
  },
  {
   "cell_type": "code",
   "execution_count": 59,
   "metadata": {},
   "outputs": [
    {
     "data": {
      "text/html": [
       "<div>\n",
       "<style scoped>\n",
       "    .dataframe tbody tr th:only-of-type {\n",
       "        vertical-align: middle;\n",
       "    }\n",
       "\n",
       "    .dataframe tbody tr th {\n",
       "        vertical-align: top;\n",
       "    }\n",
       "\n",
       "    .dataframe thead th {\n",
       "        text-align: right;\n",
       "    }\n",
       "</style>\n",
       "<table border=\"1\" class=\"dataframe\">\n",
       "  <thead>\n",
       "    <tr style=\"text-align: right;\">\n",
       "      <th></th>\n",
       "      <th>CustomerID</th>\n",
       "      <th>Month</th>\n",
       "      <th>Total_Price</th>\n",
       "    </tr>\n",
       "    <tr>\n",
       "      <th>Date</th>\n",
       "      <th></th>\n",
       "      <th></th>\n",
       "      <th></th>\n",
       "    </tr>\n",
       "  </thead>\n",
       "  <tbody>\n",
       "    <tr>\n",
       "      <th>2010-12-01</th>\n",
       "      <td>17850.0</td>\n",
       "      <td>2010 12</td>\n",
       "      <td>15.30</td>\n",
       "    </tr>\n",
       "    <tr>\n",
       "      <th>2010-12-01</th>\n",
       "      <td>17850.0</td>\n",
       "      <td>2010 12</td>\n",
       "      <td>20.34</td>\n",
       "    </tr>\n",
       "    <tr>\n",
       "      <th>2010-12-01</th>\n",
       "      <td>17850.0</td>\n",
       "      <td>2010 12</td>\n",
       "      <td>22.00</td>\n",
       "    </tr>\n",
       "    <tr>\n",
       "      <th>2010-12-01</th>\n",
       "      <td>17850.0</td>\n",
       "      <td>2010 12</td>\n",
       "      <td>20.34</td>\n",
       "    </tr>\n",
       "    <tr>\n",
       "      <th>2010-12-01</th>\n",
       "      <td>17850.0</td>\n",
       "      <td>2010 12</td>\n",
       "      <td>20.34</td>\n",
       "    </tr>\n",
       "    <tr>\n",
       "      <th>...</th>\n",
       "      <td>...</td>\n",
       "      <td>...</td>\n",
       "      <td>...</td>\n",
       "    </tr>\n",
       "    <tr>\n",
       "      <th>2011-12-09</th>\n",
       "      <td>12680.0</td>\n",
       "      <td>2011 12</td>\n",
       "      <td>10.20</td>\n",
       "    </tr>\n",
       "    <tr>\n",
       "      <th>2011-12-09</th>\n",
       "      <td>12680.0</td>\n",
       "      <td>2011 12</td>\n",
       "      <td>12.60</td>\n",
       "    </tr>\n",
       "    <tr>\n",
       "      <th>2011-12-09</th>\n",
       "      <td>12680.0</td>\n",
       "      <td>2011 12</td>\n",
       "      <td>16.60</td>\n",
       "    </tr>\n",
       "    <tr>\n",
       "      <th>2011-12-09</th>\n",
       "      <td>12680.0</td>\n",
       "      <td>2011 12</td>\n",
       "      <td>16.60</td>\n",
       "    </tr>\n",
       "    <tr>\n",
       "      <th>2011-12-09</th>\n",
       "      <td>12680.0</td>\n",
       "      <td>2011 12</td>\n",
       "      <td>14.85</td>\n",
       "    </tr>\n",
       "  </tbody>\n",
       "</table>\n",
       "<p>406829 rows × 3 columns</p>\n",
       "</div>"
      ],
      "text/plain": [
       "            CustomerID    Month  Total_Price\n",
       "Date                                        \n",
       "2010-12-01     17850.0  2010 12        15.30\n",
       "2010-12-01     17850.0  2010 12        20.34\n",
       "2010-12-01     17850.0  2010 12        22.00\n",
       "2010-12-01     17850.0  2010 12        20.34\n",
       "2010-12-01     17850.0  2010 12        20.34\n",
       "...                ...      ...          ...\n",
       "2011-12-09     12680.0  2011 12        10.20\n",
       "2011-12-09     12680.0  2011 12        12.60\n",
       "2011-12-09     12680.0  2011 12        16.60\n",
       "2011-12-09     12680.0  2011 12        16.60\n",
       "2011-12-09     12680.0  2011 12        14.85\n",
       "\n",
       "[406829 rows x 3 columns]"
      ]
     },
     "execution_count": 59,
     "metadata": {},
     "output_type": "execute_result"
    }
   ],
   "source": [
    "\n",
    "df_na=df[['CustomerID','Month','Total_Price']][df['CustomerID'].isnull()==False]\n",
    "df_na"
   ]
  },
  {
   "cell_type": "code",
   "execution_count": 60,
   "metadata": {},
   "outputs": [],
   "source": [
    "month_customer=df_na.groupby('Month')"
   ]
  },
  {
   "cell_type": "code",
   "execution_count": 61,
   "metadata": {},
   "outputs": [
    {
     "data": {
      "text/plain": [
       "[['2010 12',\n",
       "  array([17850., 13047., 12583., 13748., 15100., 15291., 14688., 17809.,\n",
       "         15311., 14527., 16098., 18074., 17420., 16029., 16250., 12431.,\n",
       "         17511., 17548., 13705., 13747., 13408., 13767., 17924., 13448.,\n",
       "         15862., 15513., 12791., 16218., 14045., 14307., 17908., 17920.,\n",
       "         12838., 13255., 16583., 18085., 13758., 13694., 15983., 14849.,\n",
       "         17968., 16210., 17897., 17377., 16552., 17181., 17951., 14729.,\n",
       "         12748., 15012., 12868., 17572., 14078., 14001., 12662., 15525.,\n",
       "         14237., 17905., 15485., 12433., 16955., 15350., 15605., 18144.,\n",
       "         15922., 14594., 15165., 14911., 16456., 17841., 12472., 17346.,\n",
       "         17643., 17873., 13093., 12921., 13468., 17760., 16928., 16048.,\n",
       "         16274., 14496., 14696., 16539., 17025., 13777., 17690., 12947.,\n",
       "         17460., 18229., 14142., 17069., 13065., 14606., 16835., 15235.,\n",
       "         13576., 18011., 13090., 15694., 14741., 13715., 14092., 17732.,\n",
       "         12855., 15752., 17855., 14047., 17925., 13941., 17017., 14135.,\n",
       "         13108., 12471., 15601., 13418., 14766., 15658., 14388., 14901.,\n",
       "         18041., 15955., 15070., 16244., 15111., 14390., 16546., 15260.,\n",
       "         13305., 14491., 14060., 15923., 16752., 17287., 15363., 12915.,\n",
       "         15544., 15738., 16042., 17381., 15827., 14180., 13117., 16916.,\n",
       "         17964., 14466., 17235., 16510., 17802., 15107., 17976., 14449.,\n",
       "         15838., 16781., 17547., 13491., 16186., 17685., 17581., 15732.,\n",
       "         13138., 15823., 17567., 15061., 16203., 15640., 15574., 16770.,\n",
       "         17838., 17228., 14829., 17412., 14031., 14775., 12971., 15834.,\n",
       "         17659., 15299., 15646., 13958., 14443., 14156., 16995., 13402.,\n",
       "         18168., 17757., 14625., 13011., 13798., 15384., 14264., 13295.,\n",
       "         16754., 16634., 18239., 14576., 13145., 14395., 14865., 15093.,\n",
       "         12738., 16150., 17552., 14236., 17961., 14573., 17135., 17396.,\n",
       "         14213., 12967., 12686., 14679., 15240., 18225., 13370., 16883.,\n",
       "         13520., 12841., 16905., 12427., 17967., 16891., 14589., 14680.,\n",
       "         17884., 12557., 14083., 13013., 14210., 16477., 12600., 16013.,\n",
       "         17949., 12779., 16926., 17787., 12682., 14723., 17954., 17819.,\n",
       "         12712., 15373., 16140., 17198., 17238., 12793., 15769., 14396.,\n",
       "         14898., 12725., 16725., 12395., 16455., 13081., 15545., 17243.,\n",
       "         15465., 15708., 13089., 16033., 13838., 15351., 18055., 15038.,\n",
       "         18109., 13069., 16241., 14800., 16839., 16168., 16931., 16814.,\n",
       "         13269., 14813., 12567., 17062., 15332., 14810., 16353., 18118.,\n",
       "         13831., 13506., 17796., 15716., 18156., 15221., 16983., 17059.,\n",
       "         16327., 17211., 17026., 15570., 15880., 16718., 15808., 17858.,\n",
       "         16393., 14161., 17863., 16411., 16402., 15023., 17402., 15426.,\n",
       "         12647., 15894., 15867., 14506., 15555., 13034., 15889., 15953.,\n",
       "         16143., 12720., 16422., 12747., 15502., 12763., 14081., 17965.,\n",
       "         14404., 13579., 13174., 15987., 17677., 13652., 12586., 17428.,\n",
       "         16161., 16858., 18219., 14293., 14748., 16638., 17674., 12808.,\n",
       "         13094., 15899., 12708., 15898., 17691., 17227., 15039., 15919.,\n",
       "         13497., 15860., 14189., 15304., 14867., 14344., 12474., 16719.,\n",
       "         15048., 15301., 14708., 16898., 14825., 18113., 17596., 15078.,\n",
       "         14085., 17860., 13155., 15028., 16919., 17259., 17019., 14487.,\n",
       "         16722., 15882., 14667., 16710., 16550., 15984., 17682., 16658.,\n",
       "         17068., 15356., 17223., 16817., 13030., 17191., 15194., 14409.,\n",
       "         16654., 16861., 16138., 13481., 13495., 17519., 17218., 17812.,\n",
       "         14215., 15602., 17320., 16782., 12913., 17869., 13564., 14850.,\n",
       "         15021., 13963., 17450., 17091., 17470., 17616., 15649., 12681.,\n",
       "         14907., 17735., 16059., 17720., 15018., 14733., 13756., 14176.,\n",
       "         13319., 15353., 18119., 17491., 14282., 13569., 15498., 14673.,\n",
       "         13488., 16221., 15002., 15965., 15024., 17675., 13769., 16904.,\n",
       "         16086., 13786., 13880., 13173., 15858., 15180., 12347., 14739.,\n",
       "         16293., 17419., 16775., 16306., 16950., 17591., 12839., 13807.,\n",
       "         16125., 15081., 18102., 16365., 17870., 14821., 16863., 13078.,\n",
       "         13267., 13050., 12709., 15628., 12386., 14796., 16779., 13599.,\n",
       "         13329., 18077., 14744., 17406., 15750., 13983., 13842., 12441.,\n",
       "         13199., 14032., 17706., 16081., 16525., 14952., 17975., 16122.,\n",
       "         13126., 15973., 16558., 16713., 16893., 15529., 18043., 16016.,\n",
       "         17722., 17324., 17341., 14051., 15916., 16233., 16385., 15032.,\n",
       "         17213., 18061., 13113., 16553., 13455., 14217., 17262., 14299.,\n",
       "         18259., 17676., 16679., 18269., 12766., 15298., 18193., 13523.,\n",
       "         12870., 15005., 15581., 15680., 13649., 17894., 13270., 14618.,\n",
       "         14866., 13077., 13115., 13531., 13848., 13140., 15713., 17999.,\n",
       "         15347., 17340., 13984., 15996., 14030., 16252., 16596., 16700.,\n",
       "         16011., 17655., 16717., 14243., 12963., 15079., 14437., 12942.,\n",
       "         15660., 18092., 15358., 12481., 12721., 12621., 18071., 12683.,\n",
       "         12755., 13854., 12797., 13369., 12494., 17857., 17411., 14932.,\n",
       "         12429., 14987., 14355., 17526., 14896., 14440., 13240., 14479.,\n",
       "         16065., 17430., 16520., 15945., 15181., 15856., 13102., 14205.,\n",
       "         17702., 15271., 13982., 15288., 17978., 16795., 16519., 17816.,\n",
       "         13021., 16255., 17671., 17646., 12649., 16350., 12872., 17339.,\n",
       "         18230., 16499., 17097., 15192., 14441., 15279., 16579., 15380.,\n",
       "         17442., 17950., 12826., 17456., 17307., 15811., 13327., 17700.,\n",
       "         13136., 15535., 12605., 15329., 15211., 15596., 16163., 16907.,\n",
       "         17576., 14713., 14702., 13230., 13969., 17530., 15805., 17696.,\n",
       "         17076., 17827., 16265., 17880., 13000., 17790., 12731., 14419.,\n",
       "         14082., 17912., 15723., 16656., 14037., 14256., 14543., 16062.,\n",
       "         18116., 16019., 18178., 18065., 13148., 12989., 14107., 15881.,\n",
       "         12785., 16727., 15514., 13787., 17865., 17220., 16565., 16873.,\n",
       "         14062., 15179., 18016., 14448., 15503., 17251., 16923., 14159.,\n",
       "         17126., 15224., 14577., 12753., 17236., 17372., 16367., 12875.,\n",
       "         17917., 16010., 17085., 13668., 14684., 17188., 15547., 15998.,\n",
       "         14413., 18004., 13959., 16665., 15454., 15044., 17937., 14608.,\n",
       "         17618., 14505., 18037., 13198., 12540., 13225., 15361., 15689.,\n",
       "         14290., 13209., 13999., 14498., 15854., 16701., 16927., 17990.,\n",
       "         14544., 17338., 17231., 17799., 14565., 16726., 17303., 14639.,\n",
       "         17611., 17179., 17524., 12476., 17293., 17890., 17375., 17371.,\n",
       "         17969., 15159., 13211., 15777., 14525., 13324., 13802., 13948.,\n",
       "         13008., 14206., 16202., 16442., 18075., 15468., 16570., 14524.,\n",
       "         18141., 12434., 16810., 14961., 17041., 16458., 16083., 16262.,\n",
       "         17194., 14057., 14871., 13178., 18044., 16812., 16191., 12370.,\n",
       "         14298., 17158., 14415., 16899., 16531., 17404., 16556., 16805.,\n",
       "         16503., 17739., 13238., 12829., 13097., 12867., 15392., 13846.,\n",
       "         14401., 16145., 17629., 14150., 13496., 13611., 16954., 17454.,\n",
       "         17449., 17230., 12865., 15950., 15512., 17525., 13458., 14426.,\n",
       "         16003., 13092., 13426., 15101., 17033., 13221., 14201., 17692.,\n",
       "         15822., 16134., 17551., 18050., 14913., 12666., 15641., 13124.,\n",
       "         17214., 15456., 15062., 12928., 15727., 17980., 15290., 17752.,\n",
       "         15615., 12577., 17044., 13829., 17633., 13266., 17820., 15664.,\n",
       "         17189., 17496., 16607., 13317., 13890., 17001., 15246., 16996.,\n",
       "         15482., 16037., 14841., 16670., 16985., 16705., 16470., 14414.,\n",
       "         15563., 12980., 16746., 14878., 16743., 17146., 12877., 15394.,\n",
       "         14621., 15379., 14309., 17288., 14709., 15157., 17744., 16316.,\n",
       "         15620., 15789., 16560., 13534., 17580., 14777., 15759., 14373.,\n",
       "         18176., 15366., 14735., 16271., 18223., 15532., 16816., 16684.,\n",
       "         14334., 16945., 14643., 15197., 14220., 13874., 18260., 17848.,\n",
       "         17392., 12348., 14985., 13004., 14560., 12931., 13627., 12551.,\n",
       "         12782., 14769., 15780., 12417., 17315., 16711., 12726., 15204.,\n",
       "         17888., 17007., 15160., 14016., 13033., 12691., 13869., 14146.,\n",
       "         12705., 16885., 17913., 12668., 14472., 17358., 16686., 18245.,\n",
       "         17343., 18256., 16153., 12377., 14646., 12944., 15312., 14099.,\n",
       "         14113., 13104., 17204., 13027., 17621., 17090., 14119., 15527.,\n",
       "         18097., 15460., 15034., 12423., 12678., 15208., 17306., 14737.,\n",
       "         13029., 16270., 13487., 12515., 17400., 17593., 13953., 14533.,\n",
       "         12734., 14944., 17239., 14532., 12383., 15562., 15587., 13922.,\n",
       "         13817., 12585., 13165., 13304.])],\n",
       " ['2011 01',\n",
       "  array([13313., 18097., 16656., 16875., 13094., 17315., 14606., 15379.,\n",
       "         16255., 13319., 16282., 13963., 12957., 14462., 17841., 17188.,\n",
       "         15039., 17428., 14210., 14180., 16029., 17975., 13397., 13680.,\n",
       "         12483., 15164., 17457., 14732., 16814., 16725., 14221., 14553.,\n",
       "         13253., 15373., 16241., 15808., 17389., 15973., 13126., 15498.,\n",
       "         15235., 17675., 16145., 13694., 13798., 12578., 12782., 15002.,\n",
       "         14189., 12921., 12494., 12395., 15841., 12683., 15311., 12471.,\n",
       "         16112., 15769., 16719., 13089., 14911., 18109., 13629., 16600.,\n",
       "         13715., 14527., 13767., 15661., 16353., 16532., 17511., 12681.,\n",
       "         16316., 16033., 15984., 13199., 14739., 15093., 15266., 14653.,\n",
       "         15358., 16771., 12682., 17585., 15046., 12585., 17213., 13082.,\n",
       "         13081., 15464., 15034., 15298., 12748., 13225., 14045., 18226.,\n",
       "         13097., 18062., 17949., 15271., 12415., 13458., 14135., 14680.,\n",
       "         12503., 17368., 14618., 14258., 15719., 13368., 12386., 17634.,\n",
       "         15823., 16676., 14299., 12841., 16424., 18283., 12735., 13764.,\n",
       "         13576., 13093., 13599., 18041., 13408., 13656., 12971., 14505.,\n",
       "         12413., 15061., 14312., 13280., 15845., 13488., 15101., 16094.,\n",
       "         16705., 16422., 14961., 14426., 12417., 16306., 13115., 16191.,\n",
       "         13047., 12753., 17696., 14702., 14031., 13187., 14047., 16150.,\n",
       "         16013., 16567., 17230., 12947., 14828., 16839., 16019., 12530.,\n",
       "         16551., 13842., 15194., 12481., 16889., 16473., 12829., 13750.,\n",
       "         13426., 12583., 13534., 14217., 12501., 15607., 15139., 16779.,\n",
       "         12489., 14298., 17707., 15649., 18198., 12484., 15601., 18179.,\n",
       "         17284., 13233., 14889., 12480., 16955., 14672., 13593., 14867.,\n",
       "         15485., 17243., 16923., 15465., 13162., 13183., 13668., 17095.,\n",
       "         17796., 12939., 14810., 14800., 15611., 14472., 17114., 13758.,\n",
       "         15708., 15059., 16326., 17128., 14761., 12793., 17555., 12651.,\n",
       "         13102., 13069., 16735., 16833., 17800., 16748., 14755., 16549.,\n",
       "         15005., 17757., 13565., 18260., 17218., 15799., 15107., 14395.,\n",
       "         18032., 13451., 12766., 14794., 12539., 16350., 12500., 18171.,\n",
       "         16279., 13004., 12524., 15100., 17811., 16850., 14321., 15326.,\n",
       "         17849., 13672., 14229., 17381., 13107., 16497., 16303., 14060.,\n",
       "         17406., 15044., 17739., 15281., 15867., 12736., 17450., 13473.,\n",
       "         14320., 16670., 12393., 15640., 13491., 17742., 16122., 16351.,\n",
       "         12601., 13468., 13144., 15346., 15370., 17629., 12557., 12643.,\n",
       "         16203., 14295., 16034., 13078., 17365., 12540., 15189., 14669.,\n",
       "         18095., 15518., 15749., 14209., 16042., 15569., 12728., 17569.,\n",
       "         13784., 14733., 12724., 13862., 16791., 16235., 15602., 14270.,\n",
       "         12665., 12523., 15197., 16655., 16359., 17965., 15953., 17324.,\n",
       "         12712., 16701., 12980., 13267., 14748., 13113., 16554., 12359.,\n",
       "         15939., 14587., 14715., 17338., 14185., 12383., 12437., 14040.,\n",
       "         12652., 15727., 14514., 12868., 15171., 14167., 15291., 17048.,\n",
       "         16525., 17364., 13284., 17068., 15290., 16500., 12951., 15835.,\n",
       "         18190., 16161., 13993., 17848., 17581., 14114., 15447., 17019.,\n",
       "         15694., 14085., 16315., 14978., 16395., 15510., 16503., 13614.,\n",
       "         15513., 13246., 14215., 18092., 17744., 15916., 15687., 18085.,\n",
       "         16775., 16493., 12490., 12672., 12708., 13385., 12474., 15626.,\n",
       "         15615., 16233., 18229., 13777., 12553., 15213., 13854., 12877.,\n",
       "         13090., 14175., 18106., 14646., 17685., 15159., 15033., 15570.,\n",
       "         14329., 17402., 16638., 14156., 17954., 14099., 15854., 13455.,\n",
       "         17961., 16746., 16401., 16206., 13782., 12924., 16593., 15535.,\n",
       "         12989., 13700., 13064., 13048., 18069., 13634., 14404., 16059.,\n",
       "         16843., 17064., 17609., 15673., 12779., 12872., 12626., 14976.,\n",
       "         12388., 13527., 13155., 15696., 14176., 15316., 12673., 18223.,\n",
       "         15296., 17988., 17690., 12820., 13001., 13982., 14101., 14525.,\n",
       "         17288., 14667., 15596., 14898., 13769., 13209., 14238., 17730.,\n",
       "         13983., 13929., 14657., 15738., 13859., 18212., 14292., 13883.,\n",
       "         18233., 17018., 14242., 14688., 12356., 12346., 13898., 16948.,\n",
       "         17491., 16997., 12527., 14696., 15395., 18118., 15023., 13984.,\n",
       "         12510., 13693., 14415., 13263., 14428., 17576., 12451., 12422.,\n",
       "         17419., 17708., 17091., 14090., 14769., 16904., 17722., 15606.,\n",
       "         13520., 12826., 17097., 14307., 15831., 13310., 17611., 14916.,\n",
       "         17602., 17231., 14572., 13502., 14784., 15938., 12637., 17418.,\n",
       "         14779., 16321., 15529., 15262., 17787., 17862., 14735., 16892.,\n",
       "         12402., 12747., 17771., 15422., 14062., 13008., 14770., 16912.,\n",
       "         14309., 14713., 15174., 14895., 12594., 18061., 17504., 17890.,\n",
       "         16387., 12664., 16618., 17277., 14441., 13999., 14088., 16928.,\n",
       "         17094., 13969., 17238., 14692., 14092., 12970., 16210., 18239.,\n",
       "         17306., 18037., 17799., 15658., 17677., 17889., 17644., 17714.,\n",
       "         12916., 17769., 14450., 16085., 13659., 16931., 15167., 13050.,\n",
       "         15443., 13230., 14224., 17858., 13742., 17673., 12727., 16983.,\n",
       "         14068., 13068., 16477., 14744., 14796., 14368., 15497., 16558.,\n",
       "         12559., 13819., 14501., 14782., 16782., 17861., 14334., 14439.,\n",
       "         17591., 18161., 15820., 18136., 16660., 12693., 12625., 13396.,\n",
       "         15179., 12935., 16730., 14541., 16168., 15078., 13551., 12421.,\n",
       "         12691., 15797., 13117., 15052., 17001., 14130., 15222., 13615.,\n",
       "         13901., 14113., 13158., 18075., 18077., 12348., 14257., 14409.,\n",
       "         15218., 14543., 15110., 14534., 15967., 16757., 12854., 18144.,\n",
       "         13815., 18008., 18277., 14849., 14389., 17236., 16531., 13703.,\n",
       "         15339., 12744., 13198., 12709., 16222., 17460., 14341., 13168.,\n",
       "         16943., 17515., 17082., 14248., 12609., 13002., 16133., 13049.,\n",
       "         14548., 13405., 14049., 15777., 16043., 15812., 13837., 17118.,\n",
       "         12472., 17735., 14616., 14233., 17888., 17075., 14243., 16714.,\n",
       "         13098., 17027., 12347., 12591., 17786., 16124., 16409., 13754.,\n",
       "         15227., 12997., 17372., 13890., 15215., 16918., 16882., 14442.,\n",
       "         16496., 12764., 14440., 17311., 15910., 16949., 14560., 16700.,\n",
       "         14709., 14970., 14701., 12645., 12468., 16767., 13506., 14738.,\n",
       "         15827., 14290., 17540., 14239., 18125., 13328., 13174., 15549.,\n",
       "         15864., 14662., 17180., 15057., 12574., 14146., 17404., 13330.,\n",
       "         13552., 12853., 13538., 12726., 16755., 14133., 16327., 16523.,\n",
       "         15527., 15547., 14659., 13141., 15365., 13707., 15079., 12431.,\n",
       "         13709., 14051., 18016., 17329., 12377., 14401., 17920., 14532.,\n",
       "         14805., 17062., 16897., 15579., 16985., 13148., 14595., 16770.,\n",
       "         13161., 15415., 17431., 16816., 17463., 14502., 13869., 12528.,\n",
       "         17239., 12720., 12731., 13324., 15448., 16570., 17314., 17220.,\n",
       "         18245., 12476., 17373., 18145., 14467., 12908., 17621., 15144.,\n",
       "         14776., 17894., 12668., 16403., 16407., 17580., 17619., 12778.,\n",
       "         17256., 17604., 14006., 13600., 15058., 17375., 15881.])],\n",
       " ['2011 02',\n",
       "  array([15240., 14911., 14496., 17147., 17675., 12626., 12712., 13881.,\n",
       "         17314., 15864., 16570., 17511., 16612., 15039., 14627., 14113.,\n",
       "         18055., 17356., 17884., 12477., 14606., 12836., 14850., 15694.,\n",
       "         13939., 16745., 17228., 13606., 13494., 13802., 12929., 15311.,\n",
       "         16419., 17035., 15203., 15939., 14587., 16515., 12373., 15687.,\n",
       "         16422., 16705., 13784., 18202., 12775., 14549., 15981., 15854.,\n",
       "         16110., 17376., 14180., 14217., 16011., 15107., 12682., 12540.,\n",
       "         13854., 13110., 16716., 12676., 13141., 16779., 16161., 15940.,\n",
       "         15971., 13629., 15838., 14665., 14457., 12559., 18198., 17863.,\n",
       "         17811., 14233., 15589., 13089., 14411., 13093., 17560., 16985.,\n",
       "         15226., 13468., 14460., 16156., 17230., 13728., 15046., 14127.,\n",
       "         13491., 14312., 16378., 17975., 13894., 13824., 18041., 18250.,\n",
       "         15270., 17961., 14188., 18017., 13199., 17912., 15005., 15421.,\n",
       "         16771., 13777., 17446., 16717., 12414., 14443., 13576., 12437.,\n",
       "         14798., 12990., 17841., 17223., 12350., 14735., 16992., 17337.,\n",
       "         16405., 17848., 17071., 14309., 13873., 16210., 12600., 12625.,\n",
       "         17362., 13394., 12502., 12471., 16333., 16030., 16814., 14044.,\n",
       "         13102., 16684., 15658., 13800., 14085., 15719., 14133., 13047.,\n",
       "         14156., 17672., 12464., 13842., 13668., 12662., 13819., 18178.,\n",
       "         17214., 13581., 16748., 12971., 14540., 16997., 13539., 15235.,\n",
       "         15885., 14497., 17507., 16353., 13208., 13230., 13488., 17457.,\n",
       "         13694., 17334., 13871., 16938., 14466., 12754., 12410., 14560.,\n",
       "         16525., 17929., 14778., 12567., 17517., 17226., 13137., 17381.,\n",
       "         13725., 13309., 13113., 12842., 16109., 17291., 12779., 14462.,\n",
       "         17315., 15090., 15199., 16725., 16029., 13963., 13911., 14194.,\n",
       "         17685., 14842., 13050., 17293., 13069., 14810., 16456., 17392.,\n",
       "         13584., 15808., 17105., 14438., 12956., 15781., 14410., 14600.,\n",
       "         14952., 17302., 16686., 14534., 17613., 17849., 13334., 18118.,\n",
       "         17692., 13955., 17162., 12472., 13983., 17774., 13809., 15407.,\n",
       "         15577., 16033., 13458., 12388., 16332., 18225., 18245., 16255.,\n",
       "         12359., 14048., 16321., 16945., 18102., 14293., 15513., 14030.,\n",
       "         14646., 14475., 16839., 13534., 15797., 15189., 17859., 16458.,\n",
       "         14688., 12576., 13098., 17787., 12474., 15827., 16265., 16553.,\n",
       "         16037., 14527., 17858., 15753., 17428., 12599., 17655., 16713.,\n",
       "         14562., 12709., 16951., 14415., 13798., 16998., 13133., 17881.,\n",
       "         18075., 12721., 15843., 13319., 12720., 12753., 17083., 15970.,\n",
       "         18109., 13590., 17537., 12401., 16143., 17757., 17412., 12462.,\n",
       "         16607., 17843., 17358., 13706., 17940., 12601., 16359., 14733.,\n",
       "         17686., 14431., 15809., 12561., 17377., 17243., 14465., 18093.,\n",
       "         16027., 14898., 12857., 18230., 18168., 15570., 16558., 15602.,\n",
       "         16425., 17850., 16711., 16842., 14081., 12931., 12583., 15796.,\n",
       "         15601., 17188., 13599., 13767., 15738., 16403., 12967., 14555.,\n",
       "         17609., 17790., 12841., 15114., 17809., 12980., 16306., 15544.,\n",
       "         14796., 15133., 16730., 14441., 17705., 16013., 18087., 17924.,\n",
       "         12897., 15044., 16928., 17677., 12395., 17512., 16191., 13094.,\n",
       "         15550., 13021., 14676., 12505., 13672., 12913., 14031., 18159.,\n",
       "         14304., 13115., 15299., 12921., 15638., 12943., 17213., 13875.,\n",
       "         15856., 15406., 18084., 13078., 15061., 17450., 15465., 15058.,\n",
       "         17236., 17282., 13742., 17126., 16434., 17050., 17085., 14692.,\n",
       "         17454., 17095., 13171., 15640., 17472., 16897., 17255., 16084.,\n",
       "         17667., 12507., 17937., 14631., 16098., 12939., 12476., 15769.,\n",
       "         13381., 12553., 12963., 15236., 14258., 12621., 17659., 17346.,\n",
       "         13475., 17829., 16701., 17591., 14715., 13717., 12951., 13157.,\n",
       "         14644., 16904., 12993., 12989., 17571., 17231., 15615., 12867.,\n",
       "         14189., 15358., 16979., 16738., 14849., 12415., 15122., 13848.,\n",
       "         17612., 13408., 15811., 17348., 14701., 13893., 14961., 14659.,\n",
       "         14744., 17730., 13941., 16700., 14035., 13004., 13623., 14176.,\n",
       "         17114., 14346., 16431., 12616., 15370., 16317., 14935., 16407.,\n",
       "         14825., 16073., 14477., 17819., 15606., 14760., 17530., 13880.,\n",
       "         14897., 13750., 15810., 16509., 14386., 12455., 16019., 15059.,\n",
       "         15002., 17567., 14530., 15670., 12653., 16126., 12727., 15759.,\n",
       "         15024., 14609., 15356., 13414., 12823., 12352., 12372., 14944.,\n",
       "         16494., 16875., 14959., 17306., 14210., 14051., 14755., 16148.,\n",
       "         13001., 18219., 14543., 17422., 17175., 18257., 17857., 14107.,\n",
       "         15867., 12431., 13305., 13327., 12494., 12362., 16235., 13018.,\n",
       "         13718., 15382., 17954., 14754., 12500., 17865., 13151., 14298.,\n",
       "         13178., 18125., 12654., 18116., 13085., 15903., 15785., 14099.,\n",
       "         12748., 16556., 18138., 14379., 14211., 14371., 17288., 17576.,\n",
       "         17419., 14702., 13425., 12852., 15228., 12527., 13012., 17389.,\n",
       "         16182., 15290., 18229., 13489., 12714., 13904., 14057., 15755.,\n",
       "         14680., 16393., 13932., 13397., 12594., 14101., 16401., 16726.,\n",
       "         13799., 16531., 16133., 13951., 16765., 18172., 16566., 13246.,\n",
       "         16746., 12891., 16466., 14878., 16115., 13097., 14162., 13301.,\n",
       "         14803., 14667., 17838., 16931., 13744., 12988., 17323., 13168.,\n",
       "         14502., 12707., 18094., 15129., 14229., 12423., 17361., 18155.,\n",
       "         16656., 12524., 15321., 12766., 14092., 13477., 14329., 15065.,\n",
       "         16980., 15146., 14639., 12365., 13410., 12523., 17338., 13044.,\n",
       "         16775., 15079., 16441., 16014., 18061., 16638., 17526., 14520.,\n",
       "         13862., 16912., 17994., 16546., 13038., 17002., 16843., 17075.,\n",
       "         14060., 15722., 16349., 16913., 17442., 14895., 18114., 15078.,\n",
       "         15303., 12845., 18188., 16045., 16907., 16573., 13421., 18196.,\n",
       "         13077., 13285., 13184., 18151., 13804., 17499., 15397., 17706.,\n",
       "         14276., 13453., 17949., 17135., 15605., 15373., 16394., 17711.,\n",
       "         14978., 13865., 13993., 16940., 14289., 15858., 16208., 17063.,\n",
       "         16145., 13149., 17504., 18068., 15932., 16692., 15984., 15590.,\n",
       "         17171., 13090., 18231., 14004., 17139., 14513., 13118., 15974.,\n",
       "         17830., 15910., 12565., 14841., 16719., 16086., 14243., 12582.,\n",
       "         17364., 14231., 15805., 17867., 14880., 15121., 18065., 17117.,\n",
       "         17017., 12945., 18056., 16072., 16838., 15543., 16722., 13751.,\n",
       "         13081., 17090., 15847., 12877., 13851., 13501., 12633., 13345.,\n",
       "         13870., 12839., 17034., 16592., 15845., 14541., 17735., 15712.,\n",
       "         13362., 14470., 17388., 15281., 16841., 13753., 13666., 18223.,\n",
       "         16473., 12361., 14481., 15093., 13792., 17663., 13973., 15990.,\n",
       "         13493., 14573., 14532., 13684., 13261., 15708., 16598., 14147.,\n",
       "         15951., 13971., 17516., 14472., 13630., 14157., 15547., 13636.,\n",
       "         13610., 17894., 14745., 16493., 15996., 12781., 14036., 14616.,\n",
       "         18283., 16057., 15724., 12458., 12678., 12598., 13675., 15062.,\n",
       "         14227., 16668., 15227., 16667., 13509., 14239., 15874., 16187.,\n",
       "         16339., 17027., 14078., 12728., 12509., 14046., 13292., 16427.,\n",
       "         14056., 15656., 12811., 16518., 17165., 17462.])],\n",
       " ['2011 03', array([14620., 14740., 13880., ..., 17212., 17781., 16365.])],\n",
       " ['2011 04',\n",
       "  array([18161., 14886., 17613., 12523., 13694., 13758., 15018., 13626.,\n",
       "         16214., 13468., 16609., 18118., 12616., 16180., 17288., 17965.,\n",
       "         14543., 15045., 15696., 12731., 13462., 16700., 15589., 15860.,\n",
       "         18230., 13137., 14419., 18263., 16592., 15197., 16960., 13636.,\n",
       "         13841., 13078., 15622., 16333., 13184., 17701., 12877., 15601.,\n",
       "         17580., 17287., 14680., 15291., 17457., 12888., 12949., 18179.,\n",
       "         14852., 14970., 16928., 12569., 15605., 12748., 15179., 13418.,\n",
       "         13169., 12415., 14911., 14854., 13124., 12781., 16162., 15691.,\n",
       "         15356., 13767., 15856., 14195., 17243., 15482., 18109., 13623.,\n",
       "         17629., 17085., 16010., 17381., 13408., 13781., 13269., 17744.,\n",
       "         16678., 18116., 17050., 17337., 17758., 14023., 14156., 16297.,\n",
       "         12957., 13481., 15874., 15632., 12678., 17725., 13198., 12434.,\n",
       "         17669., 12755., 16142., 17648., 13059., 15039., 13984., 12682.,\n",
       "         14711., 15493., 13319., 16224., 14688., 14895., 12471., 15223.,\n",
       "         13004., 17419., 17886., 13294., 15752., 15289., 13098., 16422.,\n",
       "         17774., 12744., 15311., 13668., 13263., 18185., 17956., 15756.,\n",
       "         14747., 14606., 14719., 13015., 17114., 14410., 12971., 17716.,\n",
       "         18044., 17214., 15838., 17848., 15521., 18108., 12779., 17940.,\n",
       "         12951., 16586., 12669., 12668., 14849., 16817., 16105., 13013.,\n",
       "         13018., 15061., 15938., 14546., 15572., 12348., 14646., 16919.,\n",
       "         15674., 15194., 17596., 15727., 13798., 15442., 16906., 14535.,\n",
       "         17618., 16170., 16915., 13089., 12753., 17841., 17470., 16394.,\n",
       "         15648., 15244., 16696., 15145., 17492., 12474., 13525., 12901.,\n",
       "         17409., 17857., 17675., 17644., 16161., 14407., 17783., 17811.,\n",
       "         17677., 17682., 13863., 17719., 13515., 15917., 15529., 12481.,\n",
       "         16241., 13266., 17440., 17045., 16670., 13491., 14220., 14587.,\n",
       "         17140., 15201., 16672., 14964., 16031., 14403., 16713., 17042.,\n",
       "         14701., 16378., 14534., 13771., 17690., 17438., 17906., 15646.,\n",
       "         14239., 12428., 18272., 16144., 13731., 15235., 13748., 14961.,\n",
       "         12580., 15281., 12347., 13777., 14912., 16515., 15530., 13950.,\n",
       "         14667., 13102., 15910., 15719., 16043., 15005., 15939., 13752.,\n",
       "         13892., 12423., 14446., 14449., 16584., 12408., 13769., 16209.,\n",
       "         15754., 14465., 13712., 17790., 14903., 15800., 16245., 16701.,\n",
       "         17133., 12721., 15916., 16745., 16469., 16255., 13854., 17735.,\n",
       "         13718., 13005., 15694., 14981., 17928., 14527., 14395., 16261.,\n",
       "         17869., 17883., 13230., 14619., 18061., 13995., 13362., 16643.,\n",
       "         14246., 18040., 16133., 15189., 16837., 15119., 15114., 16325.,\n",
       "         14924., 14217., 12393., 12705., 15109., 13911., 16623., 14243.,\n",
       "         16558., 12999., 16045., 12717., 13962., 17035., 18036., 14958.,\n",
       "         13178., 14258., 15367., 14030., 15815., 17001., 13846., 14264.,\n",
       "         16709., 12647., 12356., 18041., 13562., 17162., 16996., 15775.,\n",
       "         16013., 17809., 17054., 17268., 14227., 16556., 13305., 17389.,\n",
       "         13265., 16873., 13630., 16217., 14110., 17961., 15465., 16889.,\n",
       "         16359., 13548., 15038., 15955., 13508., 16931., 16779., 13606.,\n",
       "         17372., 14450., 15058., 12447., 13570., 13232., 18129., 13610.,\n",
       "         13632., 15665., 15547., 17550., 15655., 17757., 14504., 18226.,\n",
       "         13956., 17069., 14286., 17340., 15780., 13501., 16188., 12656.,\n",
       "         15214., 17574., 14616., 15737., 16552., 13324., 18080., 14311.,\n",
       "         18008., 16029., 14339., 12720., 15671., 12982., 13113., 14541.,\n",
       "         16168., 16525., 16407., 12701., 13881., 12596., 14273., 12363.,\n",
       "         15449., 15971., 13549., 14696., 15414., 13654., 17611., 13203.,\n",
       "         14628., 14326., 17236., 17799., 13634., 15867., 15615., 17827.,\n",
       "         16409., 13824., 13599., 15935., 15981., 13655., 12910., 16186.,\n",
       "         15240., 13577., 15251., 17428., 12928., 13268., 13700., 16843.,\n",
       "         14111., 14669., 14071., 17160., 16172., 17972., 12854., 16875.,\n",
       "         12463., 15044., 14844., 17278., 13458., 17511., 16814., 16705.,\n",
       "         15212., 14738., 13157., 16729., 15358., 16062., 14289., 15932.,\n",
       "         14032., 17204., 16553., 15363., 17180., 14006., 17576., 14998.,\n",
       "         13484., 15777., 16697., 14060., 14267., 14931., 18231., 13717.,\n",
       "         16607., 17017., 18236., 13138., 16684., 13740., 16454., 13534.,\n",
       "         15230., 15134., 15046., 13199., 16309., 13544., 14262., 18270.,\n",
       "         17819., 18260., 13208., 13134., 12766., 12359., 14898., 13539.,\n",
       "         17589., 16097., 16652., 13122., 16966., 17873., 14064., 15026.,\n",
       "         17746., 16175., 15855., 14810., 14834., 14062., 16348., 17091.,\n",
       "         15147., 15640., 18178., 14367., 13221., 18229., 14057., 16131.,\n",
       "         15813., 17058., 17704., 12709., 14428., 15125., 15570., 15299.,\n",
       "         15416., 17865., 17315., 13629., 15139., 16187., 17068., 14040.,\n",
       "         16735., 16933., 13772., 17071., 15271., 12931., 12853., 13317.,\n",
       "         13001., 14390., 16249., 15769., 16957., 12477., 12841., 16520.,\n",
       "         12637., 16882., 13069., 17362., 14198., 16393., 13989., 17930.,\n",
       "         14154., 13590., 14206., 14482., 12585., 12662., 15220., 14163.,\n",
       "         18198., 14105., 17601., 17142., 14051., 13811., 12457., 15135.,\n",
       "         16806., 12582., 13952., 15270., 14796., 15581., 13120., 16523.,\n",
       "         12769., 13090., 13516., 14408., 13117., 18171., 14323., 13426.,\n",
       "         17572., 18079., 15498., 13993., 12989., 12639., 14700., 13048.,\n",
       "         16686., 18094., 12383., 15249., 15027., 14211., 17367., 13880.,\n",
       "         15246., 13720., 13742., 14056., 17346., 18213., 14092., 17920.,\n",
       "         16905., 17029., 13220., 15985., 16728., 12681., 17990., 16193.,\n",
       "         15172., 16085., 14524., 16770., 13692., 12997., 15745., 14532.,\n",
       "         12878., 17582., 13951., 15827., 15555., 13474., 15410., 17320.,\n",
       "         15535., 18037., 12413., 17697., 13695., 12754., 15304., 16639.,\n",
       "         16947., 15973., 15491., 16719., 16617., 14978., 13082., 16033.,\n",
       "         17284., 16746., 16923., 15265., 12407., 16550., 13871., 15199.,\n",
       "         14525., 16226., 15749., 16458., 18009., 16399., 14623., 17338.,\n",
       "         15755., 15625., 17634., 18219., 14180., 18064., 14692., 15508.,\n",
       "         16654., 18069., 14631., 14502., 14352., 16628., 13141., 13647.,\n",
       "         12947., 15594., 14672., 14309., 12476., 17663., 18102., 13479.,\n",
       "         14242., 12594., 14662., 13735., 16730., 15140., 13376., 15717.,\n",
       "         13719., 14201., 12619., 16633., 13101., 13782., 14298., 15225.,\n",
       "         16907., 17449., 18173., 14415., 14152., 12733., 16098., 15436.,\n",
       "         17217., 17652., 13576., 17730., 15078., 12530., 13027., 17734.,\n",
       "         15260., 14905., 17450., 15159., 17454., 17548., 14148., 16103.,\n",
       "         17463., 14776., 15984., 17856., 17567., 14626., 15805., 14868.,\n",
       "         17211., 13097., 18246., 13485., 15517., 15290., 17115., 17402.,\n",
       "         17120., 18177., 16676., 13162., 14334., 14189., 16011., 16611.,\n",
       "         17946., 15912., 17530., 13148., 12506., 14001., 17158., 12670.,\n",
       "         17588., 14730., 15034., 14759., 14577., 16185., 13505., 13389.,\n",
       "         12354., 13267., 17631., 17061., 17718., 17630., 14735., 14770.,\n",
       "         12664., 16163., 13495., 13223., 16019., 16146., 17109., 16587.,\n",
       "         12708., 17179., 18283., 12622., 16750., 13482., 14031., 13862.,\n",
       "         13983., 14231., 13969., 14512., 15810., 14562., 16722., 16681.,\n",
       "         12414., 17670., 18172., 16834., 16456., 17090., 15108., 13209.,\n",
       "         17975., 13842., 15065., 12429., 15903., 16442., 16942., 16356.,\n",
       "         18092., 14640., 15738., 17277., 16656., 15301., 13092., 14210.,\n",
       "         18144., 16823., 16203., 15237., 18183., 12573., 17262., 17854.,\n",
       "         14329., 14586., 14282., 17692., 18220., 15898., 16698., 17954.,\n",
       "         14078., 17436., 18077., 12621., 17949., 16965., 12840., 15891.,\n",
       "         17187., 14235., 13285., 16016., 13637., 12483., 13571., 16755.,\n",
       "         16145., 16398., 17991., 16418., 16099., 12362., 15768., 14740.,\n",
       "         16637., 17460., 14240., 17874., 12437., 15143., 15514., 13229.,\n",
       "         14973., 14271., 17720., 15952., 12417., 16227., 17893., 14077.,\n",
       "         14022., 13499., 16904., 13725., 14758., 15210., 13085., 12600.,\n",
       "         16782., 16370., 15845.])],\n",
       " ['2011 05', array([15606., 14800., 16931., ..., 18204., 13481., 16810.])],\n",
       " ['2011 06', array([15643., 14842., 15124., ..., 16498., 14702., 17891.])],\n",
       " ['2011 07',\n",
       "  array([16317., 13492., 14911., 17865., 17667., 13534., 14156., 14868.,\n",
       "         17123., 17800., 14016., 17706., 12598., 16746., 12494., 17920.,\n",
       "         16866., 12748., 13730., 17505., 16839., 17338., 15483., 17888.,\n",
       "         12710., 16589., 13576., 14338., 12901., 16422., 12709., 13450.,\n",
       "         13285., 16498., 16700., 18075., 17988., 12922., 16570., 16775.,\n",
       "         14415., 15465., 16326., 18226., 16009., 16931., 15033., 15518.,\n",
       "         14053., 12843., 13148., 17939., 16918., 15023., 12841., 17312.,\n",
       "         14257., 13833., 15952., 17899., 17105., 15007., 17781., 18102.,\n",
       "         17160., 16682., 16265., 12682., 14049., 12471., 17841., 17975.,\n",
       "         13373., 13901., 17243., 17765., 13266., 14145., 12557., 17464.,\n",
       "         15290., 13301., 16385., 12921., 12705., 13767., 17063., 13763.,\n",
       "         13267., 18265., 14056., 16861., 17581., 16344., 12619., 14952.,\n",
       "         15349., 18171., 13001., 13115., 13826., 15555., 13338., 13408.,\n",
       "         12989., 14189., 17024., 16985., 12980., 15646., 15078., 16782.,\n",
       "         16837., 15785., 17469., 18177., 16098., 16103., 14235., 16729.,\n",
       "         18232., 13489., 14606., 14223., 13854., 17671., 13085., 15806.,\n",
       "         14099., 18198., 12971., 13089., 12428., 13183., 14905., 15549.,\n",
       "         17049., 17017., 13414., 14262., 13098., 14051., 14034., 18203.,\n",
       "         16525., 13021., 18142., 16616., 16338., 16146., 17046., 12839.,\n",
       "         16316., 16571., 17511., 15985., 17389., 13109., 13695., 12637.,\n",
       "         17306., 14352., 13082., 13027., 13694., 14645., 12407., 15738.,\n",
       "         17220., 13253., 15673., 13468., 17905., 16829., 13198., 12830.,\n",
       "         17562., 16029., 15889., 16393., 15334., 13094., 15021., 17440.,\n",
       "         17315., 13217., 13599., 15159., 17341., 14621., 13985., 15971.,\n",
       "         17238., 17705., 15189., 18144., 15053., 17861., 12700., 12455.,\n",
       "         16919., 15061., 13420., 15311., 17719., 15581., 17404., 12450.,\n",
       "         14002., 14214., 13804., 17045., 13418., 13999., 17428., 17293.,\n",
       "         12977., 17997., 13263., 16722., 16942., 17651., 12540., 18263.,\n",
       "         12507., 15512., 12626., 12379., 15288., 13291., 14217., 13583.,\n",
       "         17723., 13798., 18073., 15267., 12472., 16814., 15249., 15719.,\n",
       "         16743., 12362., 16929., 13842., 14527., 13510., 17892., 18236.,\n",
       "         15356., 13158., 15505., 14459., 14180., 16325., 13456., 12647.,\n",
       "         17611., 18013., 13208., 17069., 15769., 17560., 13835., 13681.,\n",
       "         13743., 15241., 17696., 16156., 14021., 16112., 16581., 13752.,\n",
       "         13699., 15144., 14493., 17961., 17837., 13984., 13486., 18072.,\n",
       "         16550., 15150., 16842., 13302., 16012., 17007., 15416., 17107.,\n",
       "         15675., 14702., 14657., 12635., 16091., 17735., 13102., 13013.,\n",
       "         17031., 14388., 17042., 14264., 12461., 15039., 12681., 17663.,\n",
       "         12648., 12553., 18121., 15901., 12583., 13018., 14918., 14104.,\n",
       "         13862., 14680., 16523., 17965., 15157., 15679., 13078., 15182.,\n",
       "         15615., 17512., 18037., 13769., 14315., 13047., 14267., 15920.,\n",
       "         16398., 14961., 14188., 14534., 14708., 17353., 13955., 16923.,\n",
       "         15756., 17787., 13064., 14808., 17126., 16283., 14472., 16880.,\n",
       "         18024., 15467., 14163., 17758., 13230., 17757., 16877., 16014.,\n",
       "         16174., 14258., 13678., 17444., 13627., 15045., 14690., 13754.,\n",
       "         13058., 17381., 15812., 13184., 17164., 14552., 13675., 16701.,\n",
       "         13003., 14796., 18061., 16572., 12556., 14389., 13394., 16332.,\n",
       "         16033., 17811., 13224., 15856., 13745., 17340., 15265., 12717.,\n",
       "         17337., 14367., 12599., 17966., 15577., 17589., 17450., 16013.,\n",
       "         16989., 12669., 16609., 12358., 13549., 16656., 12474., 13590.,\n",
       "         14132., 16145., 18193., 17790., 16515., 14688., 13207., 18122.,\n",
       "         12722., 13069., 14548., 17675., 17949., 17268., 12720., 17405.,\n",
       "         13311., 16409., 16168., 13269., 15051., 18272., 15544., 15251.,\n",
       "         16365., 12919., 17576., 16998., 14483., 14709., 12576., 13509.,\n",
       "         13911., 15895., 12782., 14916., 14409., 15795., 16816., 15752.,\n",
       "         15561., 15493., 16899., 14397., 16843., 13669., 16450., 12678.,\n",
       "         12464., 14498., 14159., 14110., 15530., 16779., 16225., 12528.,\n",
       "         14502., 12935., 13149., 18219., 12766., 14088., 18245., 13777.,\n",
       "         14221., 14201., 18225., 12415., 13667., 14400., 17644., 17567.,\n",
       "         12405., 14265., 17738., 16719., 13012., 15125., 13577., 14426.,\n",
       "         17396., 12653., 14562., 14847., 13815., 14862., 17314., 12915.,\n",
       "         16657., 16488., 15256., 15402., 13319., 14716., 13178., 15987.,\n",
       "         15005., 18283., 16928., 12388., 13933., 17068., 17259., 13515.,\n",
       "         14857., 15306., 15187., 17612., 16040., 15521., 15839., 18172.,\n",
       "         15114., 14461., 18109., 17848., 13538., 13050., 16907., 14891.,\n",
       "         13994., 17921., 16794., 17554., 12928., 16979., 13491., 16818.,\n",
       "         12815., 14907., 14332., 18118., 13381., 14640., 16621., 14676.,\n",
       "         17266., 18229., 17652., 15737., 16203., 17948., 17061., 12712.,\n",
       "         15301., 15004., 14958., 12621., 14722., 12451., 14572., 14293.,\n",
       "         16904., 17750., 14013., 12600., 13305., 14810., 16813., 16180.,\n",
       "         14060., 15206., 15281., 17725., 13507., 15716., 13967., 14659.,\n",
       "         14292., 16255., 17571., 17774., 13993., 16678., 16054., 14462.,\n",
       "         13340., 13654., 14044., 14224., 16342., 12833., 17863., 13880.,\n",
       "         16744., 16474., 12691., 14895., 13610., 14198., 17984., 14758.,\n",
       "         13705., 14944., 14062., 13821., 15845., 16681., 17593., 16511.,\n",
       "         15527., 15906., 16875., 12744., 13488., 12589., 16705., 14390.,\n",
       "         16859., 17448., 14733., 16762., 14583., 14667., 12930., 18087.,\n",
       "         12731., 13564., 16717., 17213., 15152., 14798., 16011., 17809.,\n",
       "         15369., 14038., 13154., 13327., 17603., 13940., 14029., 15860.,\n",
       "         14776., 13764., 13756., 12840., 14732., 14117., 13209., 12947.,\n",
       "         12431., 12955., 16713., 16475., 17682., 13081., 15462., 15727.,\n",
       "         16401., 13167., 16626., 17779., 16128., 16745., 12569., 17867.,\n",
       "         17419., 12664., 18041., 13991., 16232., 14178., 18101., 15713.,\n",
       "         12468., 12662., 13895., 12480., 17065., 14437., 17287., 18223.,\n",
       "         15867., 12875., 13827., 13941., 13631., 12560., 13225., 13199.,\n",
       "         17096., 14609., 16764., 13629., 18180., 17422., 12510., 16271.,\n",
       "         16133., 12521., 15587., 17866., 15802., 15529., 15632., 16807.,\n",
       "         13136., 14704., 12757., 14101., 14401., 16353., 17229., 14646.,\n",
       "         14456., 16774., 17677., 16464., 16186., 17962., 13571., 12520.,\n",
       "         16149., 15298., 15260., 14755., 17754., 13995., 13969., 14769.,\n",
       "         15108., 14259., 18143., 17935., 14517., 14298., 17694., 16891.,\n",
       "         15570., 14410., 16607., 14403., 13668., 17660., 14085., 14407.,\n",
       "         14866., 13157., 14745., 13881., 13562., 16654., 16188., 16041.,\n",
       "         15380., 15106., 15623., 12476., 14875., 15827., 17175., 13313.,\n",
       "         14849., 15370., 16224., 14852., 15829., 14209., 18146., 15815.,\n",
       "         15232., 16107., 15854., 15704., 12438., 18161., 17625., 12627.,\n",
       "         14243., 16711., 13750., 13079., 16161., 15640., 18150., 18262.,\n",
       "         13563., 14800., 12916., 16241., 17265., 13802., 17769., 12490.,\n",
       "         16407., 13461., 13029., 14443., 15506., 13137., 17114., 15708.,\n",
       "         16305., 13831., 17522., 16218., 16948., 12939., 12864., 16558.,\n",
       "         16684., 13477., 17724., 17703., 13097., 16668., 12763., 16710.,\n",
       "         13116., 14057., 14019., 13037., 16458., 17649., 16178., 13956.,\n",
       "         14948., 17579., 17054., 17040., 16099., 15981., 14194., 14100.,\n",
       "         15289., 12412., 15218., 14246., 14775., 13520., 15781., 15835.,\n",
       "         17364., 16249., 14344., 16841., 16027., 16557., 17631., 15129.,\n",
       "         13296., 13814., 14342., 16364., 14970., 14692., 14232., 12836.,\n",
       "         17693., 13110., 15372., 17734., 13588., 15358., 15618., 14329.,\n",
       "         15855., 13930., 16258., 13865., 16951., 16592., 15513., 12584.,\n",
       "         18211., 13379., 16266., 15203., 14414., 17596., 15044., 16019.,\n",
       "         16809., 15440., 18094., 13090., 14273., 16750., 13194., 15660.,\n",
       "         13824., 12753., 16628., 18241., 13458., 16532., 16767., 15172.,\n",
       "         15095., 16447., 14040., 12523., 14305., 12397., 16696., 15624.,\n",
       "         14331., 15261., 17870., 14364., 16672., 14307., 15116., 13870.,\n",
       "         15105., 16170., 14289., 13813., 13728., 18268., 14560., 16003.,\n",
       "         12853., 15861., 18151., 14855., 13925., 16076., 13871., 18237.,\n",
       "         16969., 14898., 12453., 15639., 16912., 12910., 15118., 15939.,\n",
       "         15746., 15329., 14973., 17071., 12743., 17373., 17483., 17931.,\n",
       "         15245., 15942., 13875., 14143., 15120., 16147., 14005., 13277.,\n",
       "         18127., 15974., 14738., 15149., 14735., 13575., 14499., 18081.,\n",
       "         17519., 14511., 16945., 16062., 12716., 13138., 15776., 13975.,\n",
       "         12981., 17926., 14191., 17491., 13106., 13104., 14854., 14083.,\n",
       "         16184., 13928., 13004., 18064., 15569., 17695., 14341., 13316.,\n",
       "         14885., 17388., 13722., 16477., 13388., 15453., 15532., 14092.,\n",
       "         15804., 12697., 15438., 12942., 15819., 12456., 17173., 16655.,\n",
       "         17162.])],\n",
       " ['2011 08',\n",
       "  array([17941., 14947., 12921., 14060., 14239., 15625., 17053., 12534.,\n",
       "         13184., 17676., 14408., 15581., 16904., 13167., 14112., 16551.,\n",
       "         12749., 12949., 14403., 12844., 16332., 17757., 16133., 14567.,\n",
       "         16745., 14341., 17615., 14738., 14937., 17282., 14709., 16774.,\n",
       "         16172., 17389., 16814., 12828., 16182., 16984., 12347., 15410.,\n",
       "         12449., 12627., 15187., 13023., 12633., 12593., 17553., 15120.,\n",
       "         13075., 15342., 16607., 12644., 12378., 17788., 13534., 14133.,\n",
       "         15602., 16701., 15228., 14606., 13094., 13777., 15024., 16712.,\n",
       "         15311., 14315., 14688., 13437., 13850., 13089., 15271., 14076.,\n",
       "         13805., 17809., 13798., 16316., 15125., 18236., 17696., 15810.,\n",
       "         16628., 12457., 13505., 13756., 16523., 14857., 17353., 13081.,\n",
       "         17887., 15764., 13717., 16150., 13186., 12750., 18178., 13384.,\n",
       "         16419., 15374., 12720., 14737., 18241., 15189., 16422., 12757.,\n",
       "         17656., 17675., 16180., 13695., 14132., 16168., 14088., 13520.,\n",
       "         17940., 14401., 16012., 15039., 13106., 17841., 12841., 15628.,\n",
       "         13209., 14530., 12748., 17719., 14527., 15290., 16102., 16324.,\n",
       "         18055., 12643., 13213., 13486., 17429., 13975., 17731., 16835.,\n",
       "         17659., 13851., 15089., 15150., 16525., 18073., 15804., 17306.,\n",
       "         14972., 15152., 17848., 16348., 15400., 13408., 17514., 14056.,\n",
       "         12917., 16098., 12971., 12502., 12704., 12689., 17735., 17315.,\n",
       "         12476., 13098., 15249., 15133., 17404., 15061., 12455., 14825.,\n",
       "         14640., 13791., 13571., 13985., 15005., 16929., 17381., 13694.,\n",
       "         16187., 13263., 17511., 16915., 16626., 17470., 14768., 14344.,\n",
       "         17692., 17811., 16570., 17584., 12626., 13709., 16258., 16672.,\n",
       "         14911., 15254., 14535., 15046., 15134., 14778., 16873., 13402.,\n",
       "         18099., 16531., 15205., 18172., 13969., 16572., 14667., 15241.,\n",
       "         13218., 12584., 17267., 13767., 18109., 13069., 14004., 17677.,\n",
       "         12823., 12693., 17961., 13047., 14621., 12931., 14543., 14397.,\n",
       "         17723., 14713., 12417., 13145., 15251., 17428., 14562., 12562.,\n",
       "         15110., 16302., 18097., 15128., 15194., 18079., 16029., 13908.,\n",
       "         13435., 13513., 16928., 14720., 15129., 15719., 16818., 16764.,\n",
       "         12599., 17457., 13813., 16174., 15201., 18282., 16880., 12647.,\n",
       "         12610., 13984., 14083., 14031., 13200., 12517., 15505., 17220.,\n",
       "         17400., 18102., 17377., 13552., 17092., 13082., 17231., 15671.,\n",
       "         13451., 16743., 14156., 16729., 16271., 13450., 15058., 16206.,\n",
       "         16954., 12877., 17323., 14079., 13782., 17298., 13248., 14903.,\n",
       "         15411., 15518., 14331., 16950., 14024., 15860., 15640., 15831.,\n",
       "         13752., 14053., 16066., 15198., 13418., 16549., 17602., 16145.,\n",
       "         13013., 12676., 12901., 12865., 17870., 17611., 12530., 12885.,\n",
       "         15502., 17331., 16333., 17716., 16637., 16458., 14748., 14415.,\n",
       "         15299., 16255., 16951., 14844., 13588., 17954., 13869., 15157.,\n",
       "         17085., 14298., 16788., 13016., 14257., 16365., 15033., 15985.,\n",
       "         17302., 16401., 15601., 12406., 12569., 17554., 18248., 14626.,\n",
       "         13769., 14127., 14409., 17139., 13113., 13097., 13500., 15078.,\n",
       "         14180., 15247., 17591., 14901., 14334., 13280., 13018., 16791.,\n",
       "         17669., 14646., 17730., 17634., 12929., 16609., 13355., 13636.,\n",
       "         16053., 16775., 16656., 13217., 13162., 12444., 16245., 16700.,\n",
       "         14680., 13117., 13050., 13919., 16241., 15838., 15632., 12384.,\n",
       "         17994., 14388., 14191., 13468., 16292., 17442., 12571., 13925.,\n",
       "         14116., 16839., 17042., 16558., 13388., 17949., 15615., 14495.,\n",
       "         12594., 16996., 16750., 17512., 15494., 17562., 14209., 14030.,\n",
       "         15498., 13538., 15987., 17857., 14346., 15608., 14462., 13319.,\n",
       "         17531., 14305., 17579., 13203., 13488., 18226., 14291., 17686.,\n",
       "         15117., 16283., 17284., 12993., 15358., 13198., 13427., 17340.,\n",
       "         12428., 18077., 17248., 14639., 15747., 17629., 18093., 14834.,\n",
       "         16076., 17644., 17790., 14868., 12362., 17653., 13722., 14099.,\n",
       "         17633., 18235., 13645., 15955., 15469., 16186., 12994., 13307.,\n",
       "         14525., 13158., 15544., 17642., 15689., 12381., 13873., 13888.,\n",
       "         12709., 12656., 14849., 14534., 15192., 14790., 16013., 18092.,\n",
       "         14696., 16045., 18237., 16317., 12399., 16746., 14855., 17293.,\n",
       "         16011., 12431., 16209., 16612., 17122., 14110., 17516., 15606.,\n",
       "         12682., 16678., 17858., 14406., 15270., 16326., 13838., 12722.,\n",
       "         17048., 14040., 17613., 13527., 16466., 17049., 17800., 16115.,\n",
       "         16370., 15683., 13515., 15660., 12409., 13116., 14301., 17988.,\n",
       "         15376., 14658., 13621., 15939., 17252., 14321., 15093., 15048.,\n",
       "         12758., 17173., 16272., 14702., 15624., 12919., 17655., 15218.,\n",
       "         18143., 13799., 17958., 16668., 16836., 13720., 13940., 15996.,\n",
       "         12619., 14282., 16961., 13078., 14623., 14498., 16902., 15706.,\n",
       "         15480., 16210., 13277., 15023., 15315., 15114., 14466., 15373.,\n",
       "         13995., 13394., 16153., 14006., 15653., 13953., 15752., 15002.,\n",
       "         15768., 18221., 14407., 16303., 16927., 15140., 16470., 13159.,\n",
       "         13999., 14918., 16266., 16713., 16033., 14057., 16131., 14232.,\n",
       "         13743., 13189., 13140., 17637., 12641., 15220., 13305., 17682.,\n",
       "         17097., 14175., 13470., 15856., 16488., 16218., 17865., 17398.,\n",
       "         14414., 16092., 15734., 12421., 17975., 14323., 12473., 17937.,\n",
       "         12528., 14194., 16755., 17706., 15786., 16633., 17338., 13655.,\n",
       "         13004., 18257., 15541., 16734., 15827., 16706., 15122., 17070.,\n",
       "         12697., 17450., 12688., 12415., 16945., 13027., 15301., 12839.,\n",
       "         13014., 13048., 12729., 18272., 17386., 16767., 15743., 13668.,\n",
       "         17243., 14741., 13617., 12962., 16813., 13381., 13273., 17736.,\n",
       "         14189., 17001., 15472., 17742., 12680., 14565., 15144., 13576.,\n",
       "         15867., 15232., 17720., 16582., 15797., 17045., 14051., 14221.,\n",
       "         17576., 18225., 14064., 13784., 16261., 17750., 17747., 14759.,\n",
       "         17929., 13266., 15159., 14745., 16170., 12360., 16122., 12513.,\n",
       "         15396., 17612., 12418., 12600., 16249., 13327., 14062., 14533.,\n",
       "         16184., 16638., 18081., 14755., 13242., 15938., 16828., 14712.,\n",
       "         17402., 13871., 17725., 12991., 16139., 14772., 14765., 12395.,\n",
       "         12560., 12364., 13090., 12968., 18170., 15862., 14500., 16330.,\n",
       "         18229., 17061., 12523., 14566., 17029., 17068., 13397., 13267.,\n",
       "         14246., 14733., 15701., 16265., 12518., 14224., 14572., 14735.,\n",
       "         16407., 14529., 14460., 15984., 13610., 12553., 14013., 17059.,\n",
       "         15031., 14895., 16536., 15313., 15547., 17828., 18204., 18144.,\n",
       "         14959., 17416., 15738., 15801., 13139., 17581., 17527., 12363.,\n",
       "         12747., 12471., 15572., 16201., 16652., 14948., 15712., 13971.,\n",
       "         13269., 12935., 14800., 16555., 12645., 14560., 15443., 16952.,\n",
       "         17585., 17160., 14265., 14188., 13933., 14387., 15296., 15796.,\n",
       "         17073., 14505., 17703., 14045., 14711., 17083., 17469., 17702.,\n",
       "         15971., 17041., 14930., 16550., 14364., 12456., 14404., 15722.,\n",
       "         12753., 12621., 12477., 13939., 14329., 18147., 14936., 15569.,\n",
       "         14523., 13481., 13593., 16794., 12567., 13862., 17242., 15755.,\n",
       "         14769., 16143., 13425., 14418., 18018., 12540., 16342., 18061.,\n",
       "         17652., 12642., 17268., 13517., 14796., 16968., 16308., 16841.,\n",
       "         12853., 16723., 14299., 15932., 16042., 14875., 13901., 15769.,\n",
       "         13728., 12695., 14730., 13890., 14035., 15059., 17256., 12662.,\n",
       "         13411., 13199., 15812., 15800., 12649., 16340., 15727., 13881.,\n",
       "         14262., 13507., 14973., 17869., 13148., 15434., 13236., 12712.,\n",
       "         16493., 17134., 17705., 12714., 16589., 14196., 15263., 16779.,\n",
       "         14314., 13000., 16093., 12955., 17844., 16503., 14687., 13320.,\n",
       "         13928., 12583., 16722., 12500., 13854., 14732., 12464., 13149.,\n",
       "         14050., 13634., 16429., 16859., 15950., 15513., 15805., 14111.,\n",
       "         12624., 14055., 18075., 15550., 12715., 16309., 15663., 16670.,\n",
       "         18200., 17189., 15811., 13340., 15203., 13630., 13003., 13994.,\n",
       "         18167., 15132., 14866., 13644., 17451., 16556., 14210., 17146.,\n",
       "         16641., 13812., 18036., 14837., 13489., 15356., 17920., 15641.,\n",
       "         15611., 14776., 14141., 14135., 15074., 12948., 12492., 17183.,\n",
       "         16872., 12683., 16768., 14472., 14810., 15669., 13301., 15325.,\n",
       "         15095., 16456., 15555., 18041., 16686., 13137., 12484., 16353.,\n",
       "         15312., 16816., 16931., 14044., 16107., 17346., 13778., 16806.,\n",
       "         14869., 12708., 17690., 16126., 14096., 14108., 13870., 12814.,\n",
       "         14078., 13524., 15866., 14507., 13183., 14976., 12423., 12678.,\n",
       "         15491., 14660., 16842., 16083., 15596., 13726., 14513., 15690.,\n",
       "         18198., 13993., 12490., 17320., 17588., 15260., 17299., 17777.,\n",
       "         15582., 13466., 16780., 16278.])],\n",
       " ['2011 09', array([13509., 13305., 16187., ..., 17227., 12842., 16613.])],\n",
       " ['2011 10', array([16353., 16591., 16923., ..., 12417., 13982., 15977.])],\n",
       " ['2011 11', array([17733., 17419., 13461., ..., 16101., 12429., 15444.])],\n",
       " ['2011 12',\n",
       "  array([13853., 15197., 13644., 13310., 13468., 13098., 14329., 13971.,\n",
       "         17636., 14299., 15687., 15951., 12569., 13365., 18130., 17049.,\n",
       "         13078., 17063., 14527., 14911., 14525., 17044., 14626., 13267.,\n",
       "         16570., 15187., 13410., 17540., 16839., 13854., 17071., 16293.,\n",
       "         15544., 14389., 12572., 14121., 17828., 15563., 13115., 14950.,\n",
       "         14853., 14860., 14188., 12901., 13509., 14146., 15101., 16938.,\n",
       "         16496., 16145., 13040., 15021., 15993., 16376., 16700., 16701.,\n",
       "         14243., 14189., 14388., 13263., 13777., 15745., 14804., 13159.,\n",
       "         13408., 14047., 14289., 17937., 15172., 17381., 14178., 13890.,\n",
       "         15380., 12951., 13199., 14659., 14282., 14869., 13090., 16156.,\n",
       "         12989., 12748., 13599., 14960., 12963., 16513., 12912., 18122.,\n",
       "         14298., 12955., 14367., 17768., 14287., 14051., 15862., 17450.,\n",
       "         18077., 15434., 14309., 16966., 17321., 15060., 12919., 15500.,\n",
       "         16240., 16813., 15028., 17014., 15602., 14262., 17115., 14732.,\n",
       "         13323., 17293., 13969., 12971., 15904., 14135., 14216., 15373.,\n",
       "         13171., 16119., 15144., 16789., 16242., 15189., 17675., 16169.,\n",
       "         15948., 14440., 17350., 12950., 13089., 14766., 15290., 14655.,\n",
       "         16011., 17920., 12553., 12664., 12562., 17576., 17426., 15694.,\n",
       "         15531., 13102., 14702., 17841., 17566., 17157., 14895., 13297.,\n",
       "         12684., 17183., 17811., 12364., 12762., 13183., 14897., 14083.,\n",
       "         12558., 17942., 12700., 12856., 12828., 18097., 13495., 12359.,\n",
       "         17386., 12465., 17949., 18282., 14126., 14292., 16013., 13352.,\n",
       "         14688., 16440., 16353., 16899., 17495., 14092., 16333., 13798.,\n",
       "         13705., 14085., 16038., 16759., 12536., 18144., 12587., 15547.,\n",
       "         16426., 16474., 13560., 15123., 16133., 12704., 14428., 15311.,\n",
       "         12695., 17611., 14594., 15856., 17221., 15539., 17364., 13780.,\n",
       "         15769., 17086., 14023., 15271., 16103., 16626., 18055., 12970.,\n",
       "         14250., 14503., 15570., 18245., 12668., 14560., 18109., 13458.,\n",
       "         17686., 15078., 17567., 13017., 12962., 13953., 17238., 14493.,\n",
       "         14865., 13884., 13868., 13309., 16989., 16954., 18174., 16359.,\n",
       "         14788., 17584., 14031., 17243., 16326., 18065., 12952., 16283.,\n",
       "         16438., 14397., 17629., 13838., 13558., 14354., 13471., 16561.,\n",
       "         17618., 13536., 17858., 13596., 14720., 13822., 13153., 17114.,\n",
       "         13318., 12827., 13808., 14583., 16033., 15773., 17131., 14546.,\n",
       "         16931., 13956., 17936., 15867., 13319., 12719., 14456., 12560.,\n",
       "         12673., 16905., 17750., 17954., 17173., 13435., 13521., 17827.,\n",
       "         13704., 13630., 16535., 13736., 14658., 14102., 12724., 16988.,\n",
       "         12490., 14075., 18180., 13417., 15358., 18223., 15156., 12782.,\n",
       "         13126., 15572., 12646., 17402., 14931., 15628., 14194., 15392.,\n",
       "         16360., 17526., 12925., 12841., 16149., 16642., 16811., 14759.,\n",
       "         16500., 16873., 15053., 17006., 12913., 16682., 17579., 14060.,\n",
       "         14649., 16746., 15033., 12381., 17254., 16910., 15621., 13311.,\n",
       "         14547., 16904., 17857., 12628., 14777., 14401., 16851., 17511.,\n",
       "         17706., 15854., 14696., 17090., 16592., 17218., 15097., 16684.,\n",
       "         15031., 13685., 15159., 18044., 15640., 17817., 16200., 18015.,\n",
       "         18198., 13001., 13083., 16968., 13305., 17676., 15984., 16379.,\n",
       "         15550., 12994., 16597., 13790., 13173., 15690., 16600., 13230.,\n",
       "         17757., 14219., 14793., 17404., 16705., 12683., 12957., 14198.,\n",
       "         16057., 13021., 18030., 12479., 12367., 14608., 13079., 14739.,\n",
       "         14629., 15274., 13985., 15932., 14096., 15145., 17383., 16929.,\n",
       "         12766., 17728., 12716., 14140., 17666., 17659., 13694., 12584.,\n",
       "         18167., 12749., 12478., 12921., 12682., 14737., 12723., 13709.,\n",
       "         17593., 12877., 17528., 14543., 14562., 13914., 13255., 16015.,\n",
       "         15992., 13994., 16523., 16949., 16764., 15157., 15318., 17884.,\n",
       "         17490., 14825., 14418., 12753., 18005., 16790., 17914., 18283.,\n",
       "         15061., 14735., 17744., 14071., 17250., 14113., 17346., 16620.,\n",
       "         16979., 15907., 13755., 14110., 17481., 17290., 16528., 13881.,\n",
       "         14606., 16313., 13104., 13507., 16495., 18225., 13225., 14871.,\n",
       "         17705., 13362., 16779., 16571., 16143., 14907., 12967., 12442.,\n",
       "         12839., 17266., 14673., 16016., 14572., 17119., 14868., 15822.,\n",
       "         12417., 16554., 15622., 16076., 15814., 15194., 12820., 14293.,\n",
       "         16569., 12362., 17730., 16201., 17861., 16711., 17389., 12650.,\n",
       "         18154., 12709., 14578., 15023., 16987., 17883., 12720., 12583.,\n",
       "         14708., 16539., 16971., 17503., 13014., 17017., 16458., 13949.,\n",
       "         14141., 14910., 13743., 14794., 14769., 12826., 17091., 16817.,\n",
       "         15969., 13882., 16191., 15568., 12375., 17412., 18219., 14534.,\n",
       "         17835., 13668., 16000., 16678., 15195., 17232., 16393., 15136.,\n",
       "         17042., 14087., 15750., 13109., 18272., 16271., 12785., 15498.,\n",
       "         18237., 17590., 14904., 16368., 18092., 18273., 17434., 13870.,\n",
       "         14132., 14204., 17602., 12462., 15471., 12747., 14395., 15701.,\n",
       "         15525., 13534., 13767., 12615., 16525., 17870., 13769., 14646.,\n",
       "         14032., 12471., 12347., 12783., 16672., 13756., 17735., 17449.,\n",
       "         15883., 17097., 15298., 12935., 14251., 14191., 13924., 17856.,\n",
       "         14520., 15237., 17631., 17677., 16019., 14291., 12358., 13436.,\n",
       "         15950., 15443., 15520., 15453., 18210., 14129., 16891., 12621.,\n",
       "         12437., 13394., 16933., 16442., 12523., 14217., 15877., 14442.,\n",
       "         15214., 16161., 17315., 14698., 17830., 13314., 17436., 17522.,\n",
       "         16210., 14719., 14138., 17673., 13954., 13860., 15399., 13298.,\n",
       "         13081., 16892., 17668., 14056., 17644., 14653., 13510., 13680.,\n",
       "         12476., 17554., 14415., 16833., 14730., 13269., 14569., 13013.,\n",
       "         17451., 15484., 16358., 15898., 16688., 14796., 13404., 16322.,\n",
       "         17491., 14621., 13026., 17405., 15208., 16794., 17144., 16401.,\n",
       "         18102., 17530., 12985., 15755., 13883., 13077., 17924., 15796.,\n",
       "         13069., 12433., 13426., 14441., 16446., 17001., 17428., 12423.,\n",
       "         12518., 16558., 15344., 15910., 17754., 14422., 14446., 12662.,\n",
       "         12526., 12713., 17581., 15804., 13113., 12680.])]]"
      ]
     },
     "execution_count": 61,
     "metadata": {},
     "output_type": "execute_result"
    }
   ],
   "source": [
    "list=[]\n",
    "for i,j in month_customer:\n",
    "    k=[i,j['CustomerID'].unique()]\n",
    "    list.append(k)\n",
    "list"
   ]
  },
  {
   "cell_type": "code",
   "execution_count": 62,
   "metadata": {},
   "outputs": [
    {
     "data": {
      "text/html": [
       "<div>\n",
       "<style scoped>\n",
       "    .dataframe tbody tr th:only-of-type {\n",
       "        vertical-align: middle;\n",
       "    }\n",
       "\n",
       "    .dataframe tbody tr th {\n",
       "        vertical-align: top;\n",
       "    }\n",
       "\n",
       "    .dataframe thead th {\n",
       "        text-align: right;\n",
       "    }\n",
       "</style>\n",
       "<table border=\"1\" class=\"dataframe\">\n",
       "  <thead>\n",
       "    <tr style=\"text-align: right;\">\n",
       "      <th></th>\n",
       "      <th>No_of_customers</th>\n",
       "    </tr>\n",
       "  </thead>\n",
       "  <tbody>\n",
       "    <tr>\n",
       "      <th>2010 12</th>\n",
       "      <td>948</td>\n",
       "    </tr>\n",
       "    <tr>\n",
       "      <th>2011 01</th>\n",
       "      <td>783</td>\n",
       "    </tr>\n",
       "    <tr>\n",
       "      <th>2011 02</th>\n",
       "      <td>798</td>\n",
       "    </tr>\n",
       "    <tr>\n",
       "      <th>2011 03</th>\n",
       "      <td>1020</td>\n",
       "    </tr>\n",
       "    <tr>\n",
       "      <th>2011 04</th>\n",
       "      <td>899</td>\n",
       "    </tr>\n",
       "    <tr>\n",
       "      <th>2011 05</th>\n",
       "      <td>1079</td>\n",
       "    </tr>\n",
       "    <tr>\n",
       "      <th>2011 06</th>\n",
       "      <td>1051</td>\n",
       "    </tr>\n",
       "    <tr>\n",
       "      <th>2011 07</th>\n",
       "      <td>993</td>\n",
       "    </tr>\n",
       "    <tr>\n",
       "      <th>2011 08</th>\n",
       "      <td>980</td>\n",
       "    </tr>\n",
       "    <tr>\n",
       "      <th>2011 09</th>\n",
       "      <td>1302</td>\n",
       "    </tr>\n",
       "    <tr>\n",
       "      <th>2011 10</th>\n",
       "      <td>1425</td>\n",
       "    </tr>\n",
       "    <tr>\n",
       "      <th>2011 11</th>\n",
       "      <td>1711</td>\n",
       "    </tr>\n",
       "    <tr>\n",
       "      <th>2011 12</th>\n",
       "      <td>686</td>\n",
       "    </tr>\n",
       "  </tbody>\n",
       "</table>\n",
       "</div>"
      ],
      "text/plain": [
       "         No_of_customers\n",
       "2010 12              948\n",
       "2011 01              783\n",
       "2011 02              798\n",
       "2011 03             1020\n",
       "2011 04              899\n",
       "2011 05             1079\n",
       "2011 06             1051\n",
       "2011 07              993\n",
       "2011 08              980\n",
       "2011 09             1302\n",
       "2011 10             1425\n",
       "2011 11             1711\n",
       "2011 12              686"
      ]
     },
     "execution_count": 62,
     "metadata": {},
     "output_type": "execute_result"
    }
   ],
   "source": [
    "new_customer=pandas.Series([len(i[1]) for i in list], index=[i[0] for i in list])\n",
    "new_customer=pandas.DataFrame(new_customer,columns=['No_of_customers'])\n",
    "new_customer"
   ]
  },
  {
   "cell_type": "markdown",
   "metadata": {},
   "source": [
    "The above table describes about the month and the number of customers ordered in the pirticular month. "
   ]
  },
  {
   "cell_type": "code",
   "execution_count": 63,
   "metadata": {},
   "outputs": [
    {
     "data": {
      "image/png": "[encoded data removed]",
      "text/plain": [
       "<Figure size 1080x360 with 1 Axes>"
      ]
     },
     "metadata": {
      "needs_background": "light"
     },
     "output_type": "display_data"
    }
   ],
   "source": [
    "plt.figure(figsize=(15,5))\n",
    "plt.xlabel('Month')\n",
    "ax=sns.barplot(x=new_customer.index,y=new_customer['No_of_customers'])\n",
    "for i in range(len(new_customer.index)):\n",
    "    ax.text(i,new_customer['No_of_customers'][i],new_customer['No_of_customers'][i],ha='center')"
   ]
  },
  {
   "cell_type": "markdown",
   "metadata": {},
   "source": [
    "It appears that the most number of customers orders in month of November 2011 and least were on December 2011. Moreover, we can observe that there steady rise of customers from June 2011 and there is sudden drop after November 2011. "
   ]
  },
  {
   "cell_type": "markdown",
   "metadata": {},
   "source": [
    "#### Q5: TODO - Who are the top 10 high value customers ?"
   ]
  },
  {
   "cell_type": "markdown",
   "metadata": {},
   "source": [
    "It is important to identify the customers who has contributed to the revenue by shopping most. For that, we group the dataframe by CustomerID by taking sum of the Total_Price of each customer and followed by sorting the total price of each customer in descending order and filtering the top ten customers. "
   ]
  },
  {
   "cell_type": "code",
   "execution_count": 64,
   "metadata": {},
   "outputs": [
    {
     "data": {
      "text/plain": [
       "CustomerID\n",
       "14646.0    279489.02\n",
       "18102.0    256438.49\n",
       "17450.0    187482.17\n",
       "14911.0    132572.62\n",
       "12415.0    123725.45\n",
       "14156.0    113384.14\n",
       "17511.0     88125.38\n",
       "16684.0     65892.08\n",
       "13694.0     62653.10\n",
       "15311.0     59419.34\n",
       "Name: Total_Price, dtype: float64"
      ]
     },
     "execution_count": 64,
     "metadata": {},
     "output_type": "execute_result"
    }
   ],
   "source": [
    "highval_cus=df_na.groupby('CustomerID')['Total_Price'].sum()\n",
    "highval_cus=highval_cus.sort_values(ascending=False)\n",
    "highval_cus.head(10)"
   ]
  },
  {
   "cell_type": "code",
   "execution_count": 65,
   "metadata": {},
   "outputs": [
    {
     "data": {
      "image/png": "[encoded data removed]",
      "text/plain": [
       "<Figure size 648x360 with 1 Axes>"
      ]
     },
     "metadata": {},
     "output_type": "display_data"
    }
   ],
   "source": [
    "plt.pie(highval_cus.values[:10],labels=[i for i in highval_cus.index[:10]],autopct='%0.0f%%')\n",
    "plt.show()"
   ]
  },
  {
   "cell_type": "markdown",
   "metadata": {},
   "source": [
    "From the above pie plot it is observed that CustomerID '14646' is the high value customer who shopped the most. Although, CustomerID '17841' who has placed most of orders but the value of shopping is less compared to CustomerID '14646'.  "
   ]
  },
  {
   "cell_type": "markdown",
   "metadata": {},
   "source": [
    "Let us save and upload our work to Jovian before continuing."
   ]
  },
  {
   "cell_type": "code",
   "execution_count": 66,
   "metadata": {},
   "outputs": [],
   "source": [
    "import jovian"
   ]
  },
  {
   "cell_type": "code",
   "execution_count": 67,
   "metadata": {},
   "outputs": [
    {
     "data": {
      "application/javascript": [
       "window.require && require([\"base/js/namespace\"],function(Jupyter){Jupyter.notebook.save_checkpoint()})"
      ],
      "text/plain": [
       "<IPython.core.display.Javascript object>"
      ]
     },
     "metadata": {},
     "output_type": "display_data"
    },
    {
     "name": "stdout",
     "output_type": "stream",
     "text": [
      "[jovian] Updating notebook \"vishalvinayt/ecommerce-data\" on https://jovian.ai/\n",
      "[jovian] Committed successfully! https://jovian.ai/vishalvinayt/ecommerce-data\n"
     ]
    },
    {
     "data": {
      "text/plain": [
       "'https://jovian.ai/vishalvinayt/ecommerce-data'"
      ]
     },
     "execution_count": 67,
     "metadata": {},
     "output_type": "execute_result"
    }
   ],
   "source": [
    "jovian.commit()"
   ]
  },
  {
   "cell_type": "markdown",
   "metadata": {},
   "source": [
    "## Inferences and Conclusion\n",
    "\n",
    "1. Over 90% of orders are from United Kingdom.\n",
    "2. 'White Hanging Heart T-Light Holder' is the most ordered product in United kingdom.\n",
    "3. CustomerID '17841.0' from United Kingdom has placed most orders.\n",
    "4. Around 2% of orders are cancelled in year 12/2010-12/2011.\n",
    "5. November 2011 was the month with high sales.\n",
    "6. December 2011 was the month with low sales.\n",
    "7. Most the sales are occured in Thursdays.\n"
   ]
  },
  {
   "cell_type": "code",
   "execution_count": 68,
   "metadata": {},
   "outputs": [],
   "source": [
    "import jovian"
   ]
  },
  {
   "cell_type": "code",
   "execution_count": 69,
   "metadata": {},
   "outputs": [
    {
     "data": {
      "application/javascript": [
       "window.require && require([\"base/js/namespace\"],function(Jupyter){Jupyter.notebook.save_checkpoint()})"
      ],
      "text/plain": [
       "<IPython.core.display.Javascript object>"
      ]
     },
     "metadata": {},
     "output_type": "display_data"
    },
    {
     "name": "stdout",
     "output_type": "stream",
     "text": [
      "[jovian] Updating notebook \"vishalvinayt/ecommerce-data\" on https://jovian.ai/\n",
      "[jovian] Committed successfully! https://jovian.ai/vishalvinayt/ecommerce-data\n"
     ]
    },
    {
     "data": {
      "text/plain": [
       "'https://jovian.ai/vishalvinayt/ecommerce-data'"
      ]
     },
     "execution_count": 69,
     "metadata": {},
     "output_type": "execute_result"
    }
   ],
   "source": [
    "jovian.commit()"
   ]
  },
  {
   "cell_type": "markdown",
   "metadata": {},
   "source": [
    "## References and Future Work\n",
    "\n",
    "1. Dataset Reference: 'https://www.kaggle.com/datasets/carrie1/ecommerce-data' \n",
    "2. Pandas Documentation: User Guide — pandas 1.4.2 documentation (pydata.org)\n",
    "3. Matplotlib Documentation: https://matplotlib.org/stable/tutorials/index.html\n",
    "4. Seaborn Documentation: https://seaborn.pydata.org/tutorial/distributions.html\n",
    "5. Reference Project: Exploratory Data Analysis : E-Commerce | Kaggle\n",
    "6. Other References: python - Move legend outside figure in seaborn tsplot - Stack Overflow"
   ]
  },
  {
   "cell_type": "code",
   "execution_count": 70,
   "metadata": {},
   "outputs": [],
   "source": [
    "import jovian"
   ]
  },
  {
   "cell_type": "code",
   "execution_count": 71,
   "metadata": {
    "scrolled": true
   },
   "outputs": [
    {
     "data": {
      "application/javascript": [
       "window.require && require([\"base/js/namespace\"],function(Jupyter){Jupyter.notebook.save_checkpoint()})"
      ],
      "text/plain": [
       "<IPython.core.display.Javascript object>"
      ]
     },
     "metadata": {},
     "output_type": "display_data"
    },
    {
     "name": "stdout",
     "output_type": "stream",
     "text": [
      "[jovian] Updating notebook \"vishalvinayt/ecommerce-data\" on https://jovian.ai/\n",
      "[jovian] Committed successfully! https://jovian.ai/vishalvinayt/ecommerce-data\n"
     ]
    },
    {
     "data": {
      "text/plain": [
       "'https://jovian.ai/vishalvinayt/ecommerce-data'"
      ]
     },
     "execution_count": 71,
     "metadata": {},
     "output_type": "execute_result"
    }
   ],
   "source": [
    "jovian.commit()"
   ]
  },
  {
   "cell_type": "code",
   "execution_count": null,
   "metadata": {},
   "outputs": [],
   "source": []
  }
 ],
 "metadata": {
  "kernelspec": {
   "display_name": "Python 3",
   "language": "python",
   "name": "python3"
  },
  "language_info": {
   "codemirror_mode": {
    "name": "ipython",
    "version": 3
   },
   "file_extension": ".py",
   "mimetype": "text/x-python",
   "name": "python",
   "nbconvert_exporter": "python",
   "pygments_lexer": "ipython3",
   "version": "3.8.5"
  }
 },
 "nbformat": 4,
 "nbformat_minor": 4
}
